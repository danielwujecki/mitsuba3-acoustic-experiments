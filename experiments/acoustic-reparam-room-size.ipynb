{
 "cells": [
  {
   "cell_type": "markdown",
   "metadata": {},
   "source": [
    "## Acoustic Integration - Room Size Estimation\n",
    "\n",
    "http://localhost:8888/?token=sloth"
   ]
  },
  {
   "cell_type": "code",
   "execution_count": null,
   "metadata": {},
   "outputs": [],
   "source": [
    "if \"mi\" not in vars():\n",
    "    from tqdm import trange\n",
    "\n",
    "    # import torch\n",
    "    import numpy as np\n",
    "    import matplotlib.pyplot as plt\n",
    "\n",
    "    import drjit as dr\n",
    "    import mitsuba as mi\n",
    "\n",
    "    from libs import utils, acoustic_torch\n",
    "\n",
    "    plt.style.use('ggplot')\n",
    "\n",
    "    mi.set_variant('cuda_ad_acoustic')\n",
    "    mi.set_log_level(mi.LogLevel.Warn)\n",
    "\n",
    "    utils.drjit_turn_off_optimizations(False)\n",
    "\n",
    "    sess_seed   = 0 #np.random.randint(0, 2**30)\n",
    "    sess_seed_g = 1 #np.random.randint(0, 2**30)\n",
    "    print(f\"session seeds are: sess_seed={sess_seed}; sess_seed_g={sess_seed_g}\")"
   ]
  },
  {
   "cell_type": "markdown",
   "metadata": {},
   "source": [
    "### Scene Construction"
   ]
  },
  {
   "cell_type": "code",
   "execution_count": null,
   "metadata": {
    "jupyter": {
     "source_hidden": true
    }
   },
   "outputs": [],
   "source": [
    "absorption = [0.2, 0.4]\n",
    "\n",
    "config = {\n",
    "    \"box_dim\":     [25., 12., 7. ],\n",
    "    \"mic_pos\":     [11.,  6., 3.5],\n",
    "    \"speaker_pos\": [14.,  6., 3.5],\n",
    "    \"speaker_radius\": 0.5, #0.1,\n",
    "\n",
    "    \"absorption\": [(i + 1, a) for i, a in enumerate(absorption)],\n",
    "    \"scattering\": 0.2,\n",
    "\n",
    "    \"wav_bins\":  len(absorption), # x\n",
    "    \"time_bins\": 150,              # y\n",
    "    \"max_time\":  1.5,\n",
    "\n",
    "    # \"integrator\": \"prb_acoustic\",\n",
    "    \"integrator\": \"prb_reparam_acoustic\",\n",
    "    \"max_depth\": 50,\n",
    "    \"spp\": 2**18,\n",
    "}\n",
    "\n",
    "fs = config[\"time_bins\"] / config[\"max_time\"]\n",
    "time = np.linspace(0., config[\"max_time\"], config[\"time_bins\"], endpoint=False)\n",
    "\n",
    "# dist = np.linalg.norm(np.array(config[\"mic_pos\"]) - np.array(config[\"speaker_pos\"]))\n",
    "\n",
    "# config[\"max_depth\"] = utils.estimate_max_depth(config[\"box_dim\"], config[\"max_time\"], 1.5)\n",
    "print(f\"max_depth = {config['max_depth']}\")"
   ]
  },
  {
   "cell_type": "markdown",
   "metadata": {},
   "source": [
    "### Sabine's Equation"
   ]
  },
  {
   "cell_type": "code",
   "execution_count": null,
   "metadata": {},
   "outputs": [],
   "source": [
    "box_dim = np.array(config[\"box_dim\"])\n",
    "V  = np.prod(box_dim)\n",
    "S  = 2 * (box_dim[0] * box_dim[1] + box_dim[1] * box_dim[2] + box_dim[2] * box_dim[0])\n",
    "sm = 24 * np.log(10) / 343.\n",
    "t60 = sm * V / (np.array(absorption) * S)\n",
    "t60"
   ]
  },
  {
   "cell_type": "markdown",
   "metadata": {},
   "source": [
    "### Reference Histogram"
   ]
  },
  {
   "cell_type": "code",
   "execution_count": null,
   "metadata": {},
   "outputs": [],
   "source": [
    "scene_dict = utils.shoebox_scene(**config, connected_cube=False)\n",
    "scene_dict[\"integrator\"][\"skip_direct\"] = False\n",
    "scene_dict[\"integrator\"][\"reparam_max_depth\"] = 16\n",
    "# scene_dict[\"sensor\"][\"film\"][\"rfilter\"] = {\n",
    "#     \"type\": \"gaussian\",\n",
    "#     \"stddev\": 0.1 * 343. * config[\"max_time\"] / config[\"time_bins\"],\n",
    "# }\n",
    "\n",
    "scene = mi.load_dict(scene_dict)\n",
    "\n",
    "img_ref = mi.render(scene)\n",
    "# utils.plot_hist(img_ref[:, :, 0], **config)"
   ]
  },
  {
   "cell_type": "markdown",
   "metadata": {},
   "source": [
    "### Optimization Setup"
   ]
  },
  {
   "cell_type": "code",
   "execution_count": null,
   "metadata": {},
   "outputs": [],
   "source": [
    "params = mi.traverse(scene)\n",
    "# display(params)\n",
    "\n",
    "# key = \"shoebox.vertex_positions\"\n",
    "# vertex_pos_ref = dr.unravel(mi.Point3f, params[key])\n",
    "# display(vertex_pos_ref)\n",
    "\n",
    "vertex_pos_ref = {}\n",
    "\n",
    "faces = ['back', 'front', 'left', 'right', 'top', 'bottom']\n",
    "for f in faces:\n",
    "    key_g = f\"shoebox.{f}.vertex_positions\"\n",
    "    vertex_pos_ref[key_g] = dr.unravel(mi.Point3f, params[key_g])"
   ]
  },
  {
   "cell_type": "code",
   "execution_count": null,
   "metadata": {},
   "outputs": [],
   "source": [
    "opt = mi.ad.Adam(lr=0.01)\n",
    "# opt['s'] = mi.Vector3f(1.0, 1.0, 1.0)\n",
    "opt['s'] = mi.Point3f(1.5)\n",
    "\n",
    "def apply_transform(params_to_update):\n",
    "    opt['s'] = dr.clamp(opt['s'], 0.5, 2.0)\n",
    "\n",
    "    # params_to_update[key] = dr.ravel(mi.Transform4f.scale(opt['s']) @ vertex_pos_ref)\n",
    "    for f, v in vertex_pos_ref.items():\n",
    "        params_to_update[f] = dr.ravel(mi.Transform4f.scale(opt['s']) @ v)\n",
    "\n",
    "    params_to_update.update()"
   ]
  },
  {
   "cell_type": "code",
   "execution_count": null,
   "metadata": {},
   "outputs": [],
   "source": [
    "c80_ref = acoustic_torch.C(img_ref[:, :, 0], fs=fs)\n",
    "d50_ref = acoustic_torch.D(img_ref[:, :, 0], fs=fs)\n",
    "ts_ref  = acoustic_torch.TS(mi.TensorXf(time), img_ref[:, :, 0])\n",
    "edc_ref = acoustic_torch.EDC(img_ref[:, :, 0], db=True, norm=True)\n",
    "t30_ref = acoustic_torch.T(mi.TensorXf(time), edc_ref)\n",
    "\n",
    "def loss(hist, hist_ref=None):\n",
    "    # assert hist_ref is None\n",
    "    # c80 = acoustic_torch.C(hist[:, :, 0], fs=fs)\n",
    "    # d50 = acoustic_torch.D(hist[:, :, 0], fs=fs)\n",
    "    # ts  = acoustic_torch.TS(mi.TensorXf(time), hist[:, :, 0])\n",
    "    # edc = acoustic_torch.EDC(hist[:, :, 0], db=True, norm=True)\n",
    "    # t30 = acoustic_torch.T(mi.TensorXf(time), edc)\n",
    "    # return utils.mse(t30[0], t30_ref[0])\n",
    "    return utils.mse(hist[:, :, 0], hist_ref[:, :, 0])"
   ]
  },
  {
   "cell_type": "code",
   "execution_count": null,
   "metadata": {},
   "outputs": [],
   "source": [
    "apply_transform(params)\n",
    "img = mi.render(scene)\n",
    "utils.plot_hist(img[:, :, 0], **config)"
   ]
  },
  {
   "cell_type": "markdown",
   "metadata": {},
   "source": [
    "### Visualize Loss/Gradient-Spectogram"
   ]
  },
  {
   "cell_type": "code",
   "execution_count": null,
   "metadata": {},
   "outputs": [],
   "source": [
    "apply_transform(params)\n",
    "hist = mi.render(scene, seed=sess_seed)\n",
    "dr.enable_grad(hist)\n",
    "\n",
    "l = loss(hist)\n",
    "dr.backward(l, flags=dr.ADFlag.ClearNone)\n",
    "\n",
    "grad = dr.grad(hist)\n",
    "utils.plot_hist(grad[:, :, 0], **config)"
   ]
  },
  {
   "cell_type": "code",
   "execution_count": null,
   "metadata": {},
   "outputs": [],
   "source": [
    "analyze_grads = False\n",
    "if analyze_grads:\n",
    "    t = np.linspace(0., config[\"max_time\"], config[\"time_bins\"], endpoint=False)\n",
    "\n",
    "    opt['s'] = mi.Float(0.85)\n",
    "    apply_transform(params)\n",
    "    img_n = mi.render(scene).numpy()\n",
    "\n",
    "    fig, (ax1, ax2) = plt.subplots(2, 1, figsize=(6, 8), sharex=True)\n",
    "\n",
    "    img = mi.TensorXf(img_n)\n",
    "    dr.enable_grad(img)\n",
    "    l = utils.mse(img, img_ref)\n",
    "    dr.backward(l)\n",
    "    g = dr.grad(img)[:, :, 0].numpy()\n",
    "    ax1.plot(t, g)\n",
    "\n",
    "    img = mi.TensorXf(img_n)\n",
    "    dr.enable_grad(img)\n",
    "    l = dr.sqr(dr.sum(img[:, :, 0]) - dr.sum(img_ref[:, :, 0]))\n",
    "    dr.backward(l)\n",
    "    g = dr.grad(img)[:, :, 0].numpy()\n",
    "    ax2.plot(t, g)\n",
    "\n",
    "    fig.show()\n",
    "\n",
    "    # gradl = mi.TensorXf(dr.grad(img))\n",
    "    # print(dr.min(gradl[:, :, 0]), dr.max(gradl[:, :, 0]))\n",
    "    # plot_hist(gradl[:, :, 0], log=False, **config)"
   ]
  },
  {
   "cell_type": "code",
   "execution_count": null,
   "metadata": {},
   "outputs": [],
   "source": [
    "if analyze_grads:\n",
    "    factors = np.linspace(0.5, 2.0, 31, endpoint=True)\n",
    "    losses  = np.zeros((factors.shape[0], 2))\n",
    "    grads   = np.zeros((factors.shape[0], 2))\n",
    "\n",
    "    assert losses.shape == grads.shape\n",
    "\n",
    "    for i in trange(losses.shape[0]):\n",
    "        opt['s'] = mi.Float(factors[i])\n",
    "        apply_transform(params)\n",
    "        img = mi.render(scene, params, seed=sess_seed, seed_grad=sess_seed_g)\n",
    "\n",
    "        l0  = dr.sqr(dr.sum(img[:, :, 0]) - dr.sum(img_ref[:, :, 0]))\n",
    "        # l0  = loss(img)\n",
    "        dr.backward(l0)\n",
    "        g0  = dr.grad(opt['s'])\n",
    "\n",
    "        losses[i, 0] = l0[0]\n",
    "        grads[i, 0]  = g0[0]\n",
    "\n",
    "\n",
    "        opt['s'] = mi.Float(factors[i])\n",
    "        apply_transform(params)\n",
    "        img = mi.render(scene, params, seed=sess_seed, seed_grad=sess_seed_g)\n",
    "\n",
    "        l1  = utils.mse(img, img_ref)\n",
    "        # l1 = dr.sum(acoustic_torch.C(img[:, :, 0], fs=int(fs)))\n",
    "        # l1 = dr.sum(acoustic_torch.TS(mi.TensorXf(time), img[:, :, 0]))\n",
    "        # l1 = dr.sum(img[:, :, 0])\n",
    "        dr.backward(l1)\n",
    "        g1  = dr.grad(opt['s'])\n",
    "\n",
    "        losses[i, 1] = l1[0]\n",
    "        grads[i, 1]  = g1[0]\n",
    "\n",
    "    fig, axis = plt.subplots(2, 2, figsize=(12, 8), sharex=True, sharey=False)\n",
    "    axf = axis.flatten()\n",
    "\n",
    "    axf[0].plot(factors, losses[:, 0])\n",
    "    axf[1].plot(factors, losses[:, 1])\n",
    "    axf[2].plot(factors, grads[:, 0])\n",
    "    axf[3].plot(factors, grads[:, 1])\n",
    "\n",
    "    axf[2].axhline(0., 0., 1.5, c=\"C1\", linestyle=\"dotted\")\n",
    "    axf[2].axvline(1., -1., 1., c=\"C1\", linestyle=\"dotted\")\n",
    "    axf[3].axhline(0., 0., 1.5, c=\"C1\", linestyle=\"dotted\")\n",
    "    axf[3].axvline(1., -1., 1., c=\"C1\", linestyle=\"dotted\")\n",
    "\n",
    "    # axf[0].set_title(\"$\\\\left(\\sum_{i=1}^n x_i - \\sum_{i=1}^n \\overline{x}_i \\\\right)^2$\")\n",
    "    # axf[1].set_title(\"$\\\\frac{1}{n}\\sum_{i=1}^n (x_i - \\overline{x}_i)^2$\")\n",
    "\n",
    "    axf[0].set_ylabel(\"Loss\")\n",
    "    axf[2].set_ylabel(\"Gradient opt['s']\")\n",
    "\n",
    "    # plt.close()\n",
    "    fig.show()"
   ]
  },
  {
   "cell_type": "markdown",
   "metadata": {},
   "source": [
    "### Main Loop"
   ]
  },
  {
   "cell_type": "code",
   "execution_count": null,
   "metadata": {},
   "outputs": [],
   "source": [
    "opt.reset('s')\n",
    "opt['s'] = mi.Float(0.7)\n",
    "\n",
    "%matplotlib ipympl\n",
    "\n",
    "vals, losses, grads = [], [], []\n",
    "\n",
    "fig, (ax1, ax2, ax3) = plt.subplots(1, 3, figsize=(12, 3))\n",
    "ax1.set_title(\"values\")\n",
    "ax1.set_xlim(-1, 51)\n",
    "ax1.set_ylim(0.4, 2.1)\n",
    "\n",
    "ax2.set_title(\"grads\")\n",
    "ax2.set_xlim(-1, 51)\n",
    "ax2.set_ylim(-1.1, 1.1)\n",
    "\n",
    "ax3.set_title(\"losses\")\n",
    "ax3.set_xlim(-1, 51)\n",
    "ax3.set_ylim(-0.1, 1.1);"
   ]
  },
  {
   "cell_type": "code",
   "execution_count": null,
   "metadata": {},
   "outputs": [],
   "source": [
    "iters = 105\n",
    "if iters > 1:\n",
    "    n  = len(vals) + iters\n",
    "\n",
    "for i in trange(iters):\n",
    "    apply_transform(params)\n",
    "    img = mi.render(scene, params, seed=sess_seed+i, seed_grad=sess_seed_g+i)\n",
    "\n",
    "    # l = utils.mse(img[:, :, 0], img_ref[:, :, 0])\n",
    "    # l = dr.sqr(dr.sum(img[:, :, 0]) - dr.sum(img_ref[:, :, 0]))\n",
    "    l = loss(img, img_ref)\n",
    "    dr.backward(l, flags=dr.ADFlag.ClearNone if iters < 2 else dr.ADFlag.Default)\n",
    "\n",
    "    if dr.any(dr.isnan(dr.grad(opt['s']))):\n",
    "        dr.set_grad(opt['s'], 0.)\n",
    "        print(i, l.numpy())\n",
    "        continue\n",
    "\n",
    "    vals.append(opt['s'].numpy()[0])\n",
    "    grads.append(dr.grad(opt['s']).numpy()[0])\n",
    "    losses.append(l.numpy()[0])\n",
    "\n",
    "    opt.step()\n",
    "\n",
    "    ax1.clear()\n",
    "    ax1.set_title(\"values\")\n",
    "    ax1.set_xlim(-0.02 * n, 1.02 * n)\n",
    "    ax1.set_ylim(0.4, 2.1)\n",
    "    ax1.plot(vals)\n",
    "    ax1.axhline(1, 0., n, c=\"k\", linestyle=\"dotted\")\n",
    "\n",
    "    ax2.clear()\n",
    "    ax2.set_title(\"grads\")\n",
    "    ax2.set_xlim(-0.02 * n, 1.02 * n)\n",
    "    ax2.plot(grads)\n",
    "\n",
    "    ax3.clear()\n",
    "    ax3.set_title(\"losses\")\n",
    "    ax3.set_xlim(-0.02 * n, 1.02 * n)\n",
    "    ax3.plot(losses)\n",
    "\n",
    "    fig.canvas.draw()"
   ]
  },
  {
   "cell_type": "code",
   "execution_count": null,
   "metadata": {},
   "outputs": [],
   "source": [
    "V = np.stack([\n",
    "    np.array(vals)[:100],\n",
    "    np.array(grads)[:100],\n",
    "    np.array(losses)[:100],\n",
    "])\n",
    "# np.save(\"../data/room-size/room-size-mse-s0_7.npy\", V)"
   ]
  },
  {
   "cell_type": "markdown",
   "metadata": {},
   "source": [
    "### Estimated (Forward) Gradients vs. Finite Differences"
   ]
  },
  {
   "cell_type": "code",
   "execution_count": null,
   "metadata": {},
   "outputs": [],
   "source": [
    "analyze_grads = False\n",
    "if analyze_grads:\n",
    "    s = 0.85\n",
    "\n",
    "    # forward pass\n",
    "    opt['s'] = mi.Float(0.85)\n",
    "    apply_transform()\n",
    "    dr.set_grad(opt['s'], mi.Float(1.))\n",
    "\n",
    "    img  = mi.render(scene, params)\n",
    "    grad = dr.forward_to(img)\n",
    "\n",
    "    # finite differences\n",
    "    opt['s'] = mi.Float(s)\n",
    "    apply_transform()\n",
    "    img = mi.render(scene)\n",
    "\n",
    "    opt['s'] = mi.Float(s + 1e-4)\n",
    "    apply_transform()\n",
    "    finite_difference = mi.render(scene) - img\n",
    "\n",
    "    utils.plot_hist(grad[:, :, 0], **config)\n",
    "    utils.plot_hist(finite_difference[:, :, 0], **config)"
   ]
  },
  {
   "cell_type": "code",
   "execution_count": null,
   "metadata": {},
   "outputs": [],
   "source": []
  }
 ],
 "metadata": {
  "kernelspec": {
   "display_name": "Python 3 (ipykernel)",
   "language": "python",
   "name": "python3"
  },
  "language_info": {
   "codemirror_mode": {
    "name": "ipython",
    "version": 3
   },
   "file_extension": ".py",
   "mimetype": "text/x-python",
   "name": "python",
   "nbconvert_exporter": "python",
   "pygments_lexer": "ipython3",
   "version": "3.10.12"
  },
  "widgets": {
   "application/vnd.jupyter.widget-state+json": {
    "state": {
     "07ec54878c3c410ca11e8b72444a00e8": {
      "model_module": "@jupyter-widgets/controls",
      "model_module_version": "1.5.0",
      "model_name": "ProgressStyleModel",
      "state": {
       "description_width": ""
      }
     },
     "0c35e343c7ef48baa2f16a89425e45c9": {
      "model_module": "@jupyter-widgets/base",
      "model_module_version": "1.2.0",
      "model_name": "LayoutModel",
      "state": {
       "width": "100%"
      }
     },
     "121009d8ad1a400bb0faff5650af82b3": {
      "model_module": "@jupyter-widgets/base",
      "model_module_version": "1.2.0",
      "model_name": "LayoutModel",
      "state": {}
     },
     "148400d8a7d44374a39589fb0c0d7d46": {
      "model_module": "@jupyter-widgets/base",
      "model_module_version": "1.2.0",
      "model_name": "LayoutModel",
      "state": {
       "width": "100%"
      }
     },
     "1bf5946071df47e686b46976c829f4d0": {
      "model_module": "@jupyter-widgets/base",
      "model_module_version": "1.2.0",
      "model_name": "LayoutModel",
      "state": {}
     },
     "2262fd9b5af64b308ea9fd1d5b0b0494": {
      "model_module": "@jupyter-widgets/controls",
      "model_module_version": "1.5.0",
      "model_name": "FloatProgressModel",
      "state": {
       "bar_style": "success",
       "layout": "IPY_MODEL_0c35e343c7ef48baa2f16a89425e45c9",
       "max": 1,
       "style": "IPY_MODEL_64638caeb3de4839809e4dae0dc2b071",
       "value": 1
      }
     },
     "328d9c2dbd124dc19ae91ce0cb551403": {
      "model_module": "@jupyter-widgets/controls",
      "model_module_version": "1.5.0",
      "model_name": "VBoxModel",
      "state": {
       "children": [
        "IPY_MODEL_493c51e117d545a799ea5a57b9bfb258",
        "IPY_MODEL_bc89b3250375423e82db58560d690de3"
       ],
       "layout": "IPY_MODEL_4352d146b8ac4b478de6fb1778cd5d41"
      }
     },
     "384ad0e5d7934e3b89951358a9d19186": {
      "model_module": "@jupyter-widgets/controls",
      "model_module_version": "1.5.0",
      "model_name": "VBoxModel",
      "state": {
       "children": [
        "IPY_MODEL_cfb38214efa947568144d4522d548de6",
        "IPY_MODEL_c689f166d13242938ff57a24b0817d41"
       ],
       "layout": "IPY_MODEL_121009d8ad1a400bb0faff5650af82b3"
      }
     },
     "4352d146b8ac4b478de6fb1778cd5d41": {
      "model_module": "@jupyter-widgets/base",
      "model_module_version": "1.2.0",
      "model_name": "LayoutModel",
      "state": {}
     },
     "493c51e117d545a799ea5a57b9bfb258": {
      "model_module": "@jupyter-widgets/controls",
      "model_module_version": "1.5.0",
      "model_name": "HTMLModel",
      "state": {
       "layout": "IPY_MODEL_a3f5661d51064b2eb0e9ef5d1b0bb8aa",
       "style": "IPY_MODEL_b6610365565e4df1ab9f0dacfc0ee04a",
       "value": "Rendering (13.9s, ETA: 0ms)"
      }
     },
     "5ca4d20425df44658fb252c281f019fd": {
      "model_module": "@jupyter-widgets/base",
      "model_module_version": "1.2.0",
      "model_name": "LayoutModel",
      "state": {
       "width": "100%"
      }
     },
     "5ead71d75c28401eb61aaec2db79be71": {
      "model_module": "@jupyter-widgets/controls",
      "model_module_version": "1.5.0",
      "model_name": "HTMLModel",
      "state": {
       "layout": "IPY_MODEL_1bf5946071df47e686b46976c829f4d0",
       "style": "IPY_MODEL_f87d0eda3bba45a6b5101e92ec75ab51",
       "value": "Rendering (13.9s, ETA: 0ms)"
      }
     },
     "64638caeb3de4839809e4dae0dc2b071": {
      "model_module": "@jupyter-widgets/controls",
      "model_module_version": "1.5.0",
      "model_name": "ProgressStyleModel",
      "state": {
       "description_width": ""
      }
     },
     "64e097a514c04437bf30f0d12463d973": {
      "model_module": "@jupyter-widgets/controls",
      "model_module_version": "1.5.0",
      "model_name": "FloatProgressModel",
      "state": {
       "bar_style": "success",
       "layout": "IPY_MODEL_5ca4d20425df44658fb252c281f019fd",
       "max": 1,
       "style": "IPY_MODEL_07ec54878c3c410ca11e8b72444a00e8",
       "value": 1
      }
     },
     "6c57fb913d8b47c7ad6a2129294b7f4a": {
      "model_module": "@jupyter-widgets/controls",
      "model_module_version": "1.5.0",
      "model_name": "VBoxModel",
      "state": {
       "children": [
        "IPY_MODEL_c93f1917313f474c96018ef6f4db65b3",
        "IPY_MODEL_e1ec3d6d53ce43e386de054ab61583b5"
       ],
       "layout": "IPY_MODEL_cdad0127f4f6443a8643eec4140c2b50"
      }
     },
     "76ef1ebaa1c34d4ca27c8fda94d21eae": {
      "model_module": "@jupyter-widgets/base",
      "model_module_version": "1.2.0",
      "model_name": "LayoutModel",
      "state": {}
     },
     "7995615f2c5648de87bc7080ce7043aa": {
      "model_module": "@jupyter-widgets/base",
      "model_module_version": "1.2.0",
      "model_name": "LayoutModel",
      "state": {}
     },
     "7b6bc4d7291243dcb4838f1745959151": {
      "model_module": "@jupyter-widgets/base",
      "model_module_version": "1.2.0",
      "model_name": "LayoutModel",
      "state": {}
     },
     "895ccf032eb44c24a5e60315ff3eba16": {
      "model_module": "@jupyter-widgets/base",
      "model_module_version": "1.2.0",
      "model_name": "LayoutModel",
      "state": {
       "width": "100%"
      }
     },
     "9b86f1cff37c4fdc9e619cd95a70a256": {
      "model_module": "@jupyter-widgets/controls",
      "model_module_version": "1.5.0",
      "model_name": "DescriptionStyleModel",
      "state": {
       "description_width": ""
      }
     },
     "a3f5661d51064b2eb0e9ef5d1b0bb8aa": {
      "model_module": "@jupyter-widgets/base",
      "model_module_version": "1.2.0",
      "model_name": "LayoutModel",
      "state": {}
     },
     "a40669281c224b5f85fa4485491c3950": {
      "model_module": "@jupyter-widgets/controls",
      "model_module_version": "1.5.0",
      "model_name": "VBoxModel",
      "state": {
       "children": [
        "IPY_MODEL_d7bb96993f3a4db4bb2aa71270257a1b",
        "IPY_MODEL_64e097a514c04437bf30f0d12463d973"
       ],
       "layout": "IPY_MODEL_76ef1ebaa1c34d4ca27c8fda94d21eae"
      }
     },
     "a6576f2dd3604fb79879caa19911b935": {
      "model_module": "@jupyter-widgets/controls",
      "model_module_version": "1.5.0",
      "model_name": "ProgressStyleModel",
      "state": {
       "description_width": ""
      }
     },
     "b6610365565e4df1ab9f0dacfc0ee04a": {
      "model_module": "@jupyter-widgets/controls",
      "model_module_version": "1.5.0",
      "model_name": "DescriptionStyleModel",
      "state": {
       "description_width": ""
      }
     },
     "b91e3ad4740c42798db154827fbe5477": {
      "model_module": "@jupyter-widgets/controls",
      "model_module_version": "1.5.0",
      "model_name": "DescriptionStyleModel",
      "state": {
       "description_width": ""
      }
     },
     "bc89b3250375423e82db58560d690de3": {
      "model_module": "@jupyter-widgets/controls",
      "model_module_version": "1.5.0",
      "model_name": "FloatProgressModel",
      "state": {
       "bar_style": "success",
       "layout": "IPY_MODEL_148400d8a7d44374a39589fb0c0d7d46",
       "max": 1,
       "style": "IPY_MODEL_e4fb04aa19fd44a49f0fdd5e9a4fa9fd",
       "value": 1
      }
     },
     "c689f166d13242938ff57a24b0817d41": {
      "model_module": "@jupyter-widgets/controls",
      "model_module_version": "1.5.0",
      "model_name": "FloatProgressModel",
      "state": {
       "bar_style": "success",
       "layout": "IPY_MODEL_f1cc99986b0b46b58cae7fd82c5aad84",
       "max": 1,
       "style": "IPY_MODEL_e609a9ba6dff485bbde84e1fe599b2ba",
       "value": 1
      }
     },
     "c93f1917313f474c96018ef6f4db65b3": {
      "model_module": "@jupyter-widgets/controls",
      "model_module_version": "1.5.0",
      "model_name": "HTMLModel",
      "state": {
       "layout": "IPY_MODEL_ea57520c73bb4bf49de6ef0ab85b5fd5",
       "style": "IPY_MODEL_9b86f1cff37c4fdc9e619cd95a70a256",
       "value": "Rendering (34.1s, ETA: 0ms)"
      }
     },
     "cdad0127f4f6443a8643eec4140c2b50": {
      "model_module": "@jupyter-widgets/base",
      "model_module_version": "1.2.0",
      "model_name": "LayoutModel",
      "state": {}
     },
     "cfb38214efa947568144d4522d548de6": {
      "model_module": "@jupyter-widgets/controls",
      "model_module_version": "1.5.0",
      "model_name": "HTMLModel",
      "state": {
       "layout": "IPY_MODEL_f92a16e114714e9e82f1e60a0980cb2d",
       "style": "IPY_MODEL_e11cbf07e2d240348cdc470bd4f234e7",
       "value": "Rendering (13.8s, ETA: 0ms)"
      }
     },
     "d7bb96993f3a4db4bb2aa71270257a1b": {
      "model_module": "@jupyter-widgets/controls",
      "model_module_version": "1.5.0",
      "model_name": "HTMLModel",
      "state": {
       "layout": "IPY_MODEL_7995615f2c5648de87bc7080ce7043aa",
       "style": "IPY_MODEL_b91e3ad4740c42798db154827fbe5477",
       "value": "Rendering (14s, ETA: 0ms)"
      }
     },
     "d827ae3e316a4961b44fc24c2ef633a7": {
      "model_module": "@jupyter-widgets/controls",
      "model_module_version": "1.5.0",
      "model_name": "VBoxModel",
      "state": {
       "children": [
        "IPY_MODEL_5ead71d75c28401eb61aaec2db79be71",
        "IPY_MODEL_2262fd9b5af64b308ea9fd1d5b0b0494"
       ],
       "layout": "IPY_MODEL_7b6bc4d7291243dcb4838f1745959151"
      }
     },
     "e11cbf07e2d240348cdc470bd4f234e7": {
      "model_module": "@jupyter-widgets/controls",
      "model_module_version": "1.5.0",
      "model_name": "DescriptionStyleModel",
      "state": {
       "description_width": ""
      }
     },
     "e1ec3d6d53ce43e386de054ab61583b5": {
      "model_module": "@jupyter-widgets/controls",
      "model_module_version": "1.5.0",
      "model_name": "FloatProgressModel",
      "state": {
       "bar_style": "success",
       "layout": "IPY_MODEL_895ccf032eb44c24a5e60315ff3eba16",
       "max": 1,
       "style": "IPY_MODEL_a6576f2dd3604fb79879caa19911b935",
       "value": 1
      }
     },
     "e4fb04aa19fd44a49f0fdd5e9a4fa9fd": {
      "model_module": "@jupyter-widgets/controls",
      "model_module_version": "1.5.0",
      "model_name": "ProgressStyleModel",
      "state": {
       "description_width": ""
      }
     },
     "e609a9ba6dff485bbde84e1fe599b2ba": {
      "model_module": "@jupyter-widgets/controls",
      "model_module_version": "1.5.0",
      "model_name": "ProgressStyleModel",
      "state": {
       "description_width": ""
      }
     },
     "ea57520c73bb4bf49de6ef0ab85b5fd5": {
      "model_module": "@jupyter-widgets/base",
      "model_module_version": "1.2.0",
      "model_name": "LayoutModel",
      "state": {}
     },
     "f1cc99986b0b46b58cae7fd82c5aad84": {
      "model_module": "@jupyter-widgets/base",
      "model_module_version": "1.2.0",
      "model_name": "LayoutModel",
      "state": {
       "width": "100%"
      }
     },
     "f87d0eda3bba45a6b5101e92ec75ab51": {
      "model_module": "@jupyter-widgets/controls",
      "model_module_version": "1.5.0",
      "model_name": "DescriptionStyleModel",
      "state": {
       "description_width": ""
      }
     },
     "f92a16e114714e9e82f1e60a0980cb2d": {
      "model_module": "@jupyter-widgets/base",
      "model_module_version": "1.2.0",
      "model_name": "LayoutModel",
      "state": {}
     }
    },
    "version_major": 2,
    "version_minor": 0
   }
  }
 },
 "nbformat": 4,
 "nbformat_minor": 4
}
