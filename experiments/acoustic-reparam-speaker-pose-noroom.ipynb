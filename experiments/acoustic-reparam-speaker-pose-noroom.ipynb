{
 "cells": [
  {
   "cell_type": "markdown",
   "metadata": {},
   "source": [
    "## Acoustic Integration - Speaker Pose Estimation\n",
    "\n",
    "http://localhost:8888/?token=sloth"
   ]
  },
  {
   "cell_type": "code",
   "execution_count": null,
   "metadata": {},
   "outputs": [],
   "source": [
    "if \"mi\" not in vars():\n",
    "    import numpy as np\n",
    "    from tqdm import trange\n",
    "    import matplotlib.pyplot as plt\n",
    "\n",
    "    import drjit as dr\n",
    "    import mitsuba as mi\n",
    "\n",
    "    from libs import utils\n",
    "\n",
    "    plt.style.use('ggplot')\n",
    "    mi.set_log_level(mi.LogLevel.Warn)\n",
    "    mi.set_variant('cuda_ad_acoustic')\n",
    "\n",
    "    sess_seed   = np.random.randint(0, 2**30)\n",
    "    sess_seed_g = np.random.randint(0, 2**30)\n",
    "    print(f\"session seeds are: sess_seed={sess_seed}; sess_seed_g={sess_seed_g}\")"
   ]
  },
  {
   "cell_type": "markdown",
   "metadata": {},
   "source": [
    "### Scene Construction"
   ]
  },
  {
   "cell_type": "code",
   "execution_count": null,
   "metadata": {
    "jupyter": {
     "source_hidden": true
    }
   },
   "outputs": [],
   "source": [
    "config = {\n",
    "    \"box_dim\":     [25., 12., 8.],\n",
    "    \"mic_pos\":     [ 4., 2., 4.],\n",
    "    \"speaker_pos\": [21.15, 2., 4.],\n",
    "    \"speaker_radius\": 0.1,\n",
    "\n",
    "    \"absorption\": 0.2,\n",
    "    \"scattering\": 0.2,\n",
    "\n",
    "    \"wav_bins\":    1,\n",
    "    # \"time_bins\":   4,\n",
    "    \"time_bins\": 100,\n",
    "    \"max_time\":  0.1,\n",
    "\n",
    "    # \"integrator\": \"prb_acoustic\",\n",
    "    \"integrator\": \"prb_reparam_acoustic\",\n",
    "    \"max_depth\": 1,\n",
    "    \"spp\": 2**18,\n",
    "    # \"spp\": 2**4,\n",
    "}\n",
    "\n",
    "# config[\"max_depth\"] = utils.estimate_max_depth(config[\"box_dim\"], config[\"max_time\"], 1.2)\n",
    "print(f\"max_depth = {config['max_depth']}\")"
   ]
  },
  {
   "cell_type": "code",
   "execution_count": null,
   "metadata": {},
   "outputs": [],
   "source": [
    "def scene_dict_wrapper(filters=None):\n",
    "    scened = utils.shoebox_scene(**config)\n",
    "    del scened[\"main_box\"]\n",
    "    del scened[\"shoebox\"]\n",
    "\n",
    "    if filters is not None:\n",
    "        scened[\"sensor\"][\"film\"][\"rfilter\"] = {\n",
    "            \"type\": \"gaussian\",\n",
    "            \"stddev\": filters,# * config[\"time_bins\"] / (config[\"max_time\"] * 343.),\n",
    "        }\n",
    "\n",
    "    box_dim     = np.array(config['box_dim']) / 2.\n",
    "    mic_pos     = np.array(config['mic_pos'])\n",
    "    speaker_pos = np.array(config['speaker_pos'])\n",
    "    scened[\"sensor\"][\"microphoneA\"] = {\n",
    "        \"type\": \"microphone\",\n",
    "        \"cos_cutoff\": 0.9,\n",
    "        # \"cos_cutoff\": 1.0,\n",
    "        \"to_world\": mi.ScalarTransform4f.look_at(\n",
    "            origin=(mic_pos - box_dim),\n",
    "            target=(speaker_pos - box_dim),\n",
    "            up=[0, 1, 0]\n",
    "        ),\n",
    "        # \"to_world\": tf.translate(m - box_dim),\n",
    "    }\n",
    "\n",
    "    # scened[\"speaker\"] = {\n",
    "    #     'type': 'ply',\n",
    "    #     'filename': '/home/daniel/Studium/masterarbeit/data/scenes/meshes/rectangle.ply',\n",
    "    #     'to_world': mi.ScalarTransform4f.translate(speaker_pos - box_dim).rotate(axis=[0, -1, 0], angle=90.),\n",
    "    #     'emitter': {'type': 'area', 'radiance': {'type': 'uniform', 'value': 1.0}}\n",
    "    # }\n",
    "    return scened"
   ]
  },
  {
   "cell_type": "markdown",
   "metadata": {},
   "source": [
    "### Reference Histogram"
   ]
  },
  {
   "cell_type": "code",
   "execution_count": null,
   "metadata": {},
   "outputs": [],
   "source": [
    "# scene_dict = scene_dict_wrapper(filters=0.11)\n",
    "scene_dict = scene_dict_wrapper(filters=None)\n",
    "scene = mi.load_dict(scene_dict)\n",
    "img_ref = mi.render(scene, seed=sess_seed)\n",
    "\n",
    "t = np.linspace(0., config[\"max_time\"], config[\"time_bins\"] + 1, endpoint=True)\n",
    "plt.stairs(img_ref[:, 0, 0].numpy(), edges=t, fill=True, color='C1', baseline=0.1)\n",
    "plt.xticks(np.linspace(0., config[\"max_time\"], 11, endpoint=True))\n",
    "plt.xlim(0.03, 0.07)\n",
    "plt.xlabel(\"time in $s$\")\n",
    "plt.ylabel(\"energy\")\n",
    "plt.show()\n",
    "# utils.plot_hist(img_ref[:, :, 0], **config)"
   ]
  },
  {
   "cell_type": "markdown",
   "metadata": {},
   "source": [
    "### Optimization Setup"
   ]
  },
  {
   "cell_type": "code",
   "execution_count": null,
   "metadata": {},
   "outputs": [],
   "source": [
    "params = mi.traverse(scene)\n",
    "# display(params)\n",
    "\n",
    "key = 'speaker.vertex_positions'\n",
    "vertex_pos_ref = dr.unravel(mi.Point3f, params[key])"
   ]
  },
  {
   "cell_type": "code",
   "execution_count": null,
   "metadata": {},
   "outputs": [],
   "source": [
    "opt = mi.ad.Adam(lr=0.01)\n",
    "opt['s'] = mi.Vector3f(0.09, 0.0, 0.0)\n",
    "\n",
    "def apply_transform():\n",
    "    opt['s'] = dr.clamp(opt['s'], -3.0, 3.0)\n",
    "    opt['s'].y = opt['s'].z = 0.0\n",
    "    transf = mi.Transform4f.translate(opt['s'])\n",
    "    params[key] = dr.ravel(transf @ vertex_pos_ref)\n",
    "    params.update()"
   ]
  },
  {
   "cell_type": "code",
   "execution_count": null,
   "metadata": {},
   "outputs": [],
   "source": [
    "apply_transform()\n",
    "img = mi.render(scene, seed=sess_seed)\n",
    "plt.stairs(img[:, 0, 0].numpy(), edges=t, fill=True, color='C1', baseline=0.1)\n",
    "plt.xticks(np.linspace(0., config[\"max_time\"], 11, endpoint=True))\n",
    "plt.xlim(0.03, 0.07)\n",
    "plt.xlabel(\"time in $s$\")\n",
    "plt.ylabel(\"energy\")\n",
    "plt.show()\n",
    "# utils.plot_hist(img[:, :, 0], **config)"
   ]
  },
  {
   "cell_type": "markdown",
   "metadata": {},
   "source": [
    "### Visualize Gradient"
   ]
  },
  {
   "cell_type": "code",
   "execution_count": null,
   "metadata": {},
   "outputs": [],
   "source": [
    "apply_transform()\n",
    "img = mi.render(scene, seed=sess_seed)\n",
    "\n",
    "dr.enable_grad(img)\n",
    "loss = utils.mse(img, img_ref)\n",
    "dr.backward(loss)\n",
    "\n",
    "grad = mi.TensorXf(dr.grad(img))\n",
    "print(dr.max(dr.abs(grad)))\n",
    "\n",
    "plt.stairs(grad[:, 0, 0].numpy(), edges=t, fill=True, color='C1')\n",
    "plt.show()\n",
    "# utils.plot_hist(grad[:, :, 0], abs=True, **config)"
   ]
  },
  {
   "cell_type": "markdown",
   "metadata": {},
   "source": [
    "### Main Loop"
   ]
  },
  {
   "cell_type": "code",
   "execution_count": null,
   "metadata": {},
   "outputs": [],
   "source": [
    "%matplotlib ipympl\n",
    "\n",
    "vals, losses, grads = [], [], []\n",
    "\n",
    "fig, (ax1, ax2) = plt.subplots(1, 2, figsize=(12, 4))\n",
    "ax1.set_title(\"losses\")\n",
    "ax1.set_xlim(-1, 51)\n",
    "\n",
    "ax2.set_title(\"values\")\n",
    "ax1.set_xlim(-1, 51)\n",
    "ax2.set_ylim(-1.1, 1.1);"
   ]
  },
  {
   "cell_type": "code",
   "execution_count": null,
   "metadata": {},
   "outputs": [],
   "source": [
    "opt.reset('s')\n",
    "opt.set_learning_rate(0.0001)\n",
    "opt['s'] = mi.Vector3f([0.088, 0., 0.])"
   ]
  },
  {
   "cell_type": "code",
   "execution_count": null,
   "metadata": {},
   "outputs": [],
   "source": [
    "iters = 50\n",
    "if iters > 1:\n",
    "    n  = len(vals) + iters\n",
    "\n",
    "for i in trange(iters):\n",
    "    apply_transform()\n",
    "    img = mi.render(scene, params, seed=sess_seed+i, seed_grad=sess_seed_g+i)\n",
    "    l = utils.mse(img, img_ref)\n",
    "    dr.backward(l, flags=dr.ADFlag.ClearNone if iters < 2 else dr.ADFlag.Default)\n",
    "    # dr.set_grad(img, -1.)\n",
    "    # dr.backward_to(opt['s'])\n",
    "\n",
    "    if iters < 2:\n",
    "        display(opt['s'])\n",
    "        display(dr.grad(opt['s']))\n",
    "        # display(dr.epsilon(mi.Float))\n",
    "    else:\n",
    "        vals.append(opt['s'].numpy()[0])\n",
    "        losses.append(l[0])\n",
    "        grads.append(dr.grad(opt['s']).numpy()[0])\n",
    "\n",
    "        opt.step()\n",
    "\n",
    "        ax1.clear()\n",
    "        ax1.set_title(\"losses\")\n",
    "        ax1.set_xlim(-n * 0.02, n * 1.02)\n",
    "        ax1.plot(np.array(losses))\n",
    "\n",
    "        ax2.clear()\n",
    "        ax2.set_title(\"values\")\n",
    "        ax2.set_xlim(-n * 0.02, n * 1.02)\n",
    "        ax2.set_ylim(-0.21, 0.2)\n",
    "        ax2.plot(np.array(vals))\n",
    "\n",
    "        fig.canvas.draw()"
   ]
  },
  {
   "cell_type": "markdown",
   "metadata": {},
   "source": [
    "### Filter width heatmap"
   ]
  },
  {
   "cell_type": "code",
   "execution_count": null,
   "metadata": {},
   "outputs": [],
   "source": [
    "n = 21\n",
    "fs_vals = np.linspace(0.15, 0.625, n-1, endpoint=True)\n",
    "# fs_vals = np.linspace(20, 180, n, endpoint=True)\n",
    "offsets = np.linspace(-0.06, 0.14, n, endpoint=True)\n",
    "fs_vals, offsets"
   ]
  },
  {
   "cell_type": "code",
   "execution_count": null,
   "metadata": {},
   "outputs": [],
   "source": [
    "res = np.zeros((n, n))\n",
    "\n",
    "for i in trange(n):\n",
    "    # config[\"time_bins\"] = int(fs_vals[i])\n",
    "    # scene_dict = scene_dict_wrapper(filters=0.3)\n",
    "\n",
    "    config[\"time_bins\"] = 100\n",
    "    scene_dict = scene_dict_wrapper(filters=(None if i == 0 else fs_vals[i-1]))\n",
    "\n",
    "    scene   = mi.load_dict(scene_dict)\n",
    "    img_ref = mi.render(scene, seed=0)\n",
    "    params  = mi.traverse(scene)\n",
    "    opt     = mi.ad.Adam(lr=0.01)\n",
    "\n",
    "    for j in range(n):\n",
    "        opt['s']   = mi.Vector3f(offsets[j], 0.0, 0.0)\n",
    "        apply_transform()\n",
    "\n",
    "        img = mi.render(scene, params, seed=0, seed_grad=1)\n",
    "        l = utils.mse(img, img_ref)\n",
    "\n",
    "        dr.backward(l)\n",
    "        res[j, i] = dr.grad(opt['s']).numpy()[0, 0]"
   ]
  },
  {
   "cell_type": "code",
   "execution_count": null,
   "metadata": {},
   "outputs": [],
   "source": [
    "fs_vals = np.insert(fs_vals, 0, 0.)\n",
    "fs_vals"
   ]
  },
  {
   "cell_type": "code",
   "execution_count": null,
   "metadata": {},
   "outputs": [],
   "source": [
    "fig, ax = plt.subplots(1, 1)\n",
    "\n",
    "aximg = ax.imshow(res, origin='lower', cmap='seismic', interpolation='none', vmin=-0.6, vmax=0.6)\n",
    "ax.grid(False)\n",
    "\n",
    "k = np.insert(np.arange(1, n, dtype=np.int32)[1::3], 0, 0)\n",
    "# ax.set_xticks(k, np.round(fs_vals, 3)[k])\n",
    "ax.set_xticks(np.arange(n)[::4], fs_vals.astype(np.int32)[::4])\n",
    "ax.set_yticks(np.arange(n)[::2], np.round(offsets, 2)[::2])\n",
    "\n",
    "ax.set_xlabel(\"$\\sigma$/sampling rate\")\n",
    "ax.set_ylabel(\"Offset in $m$\")\n",
    "\n",
    "fig.colorbar(aximg, fraction=0.03)\n",
    "fig.show()"
   ]
  },
  {
   "cell_type": "code",
   "execution_count": null,
   "metadata": {},
   "outputs": [],
   "source": [
    "# np.save(\"../data/emitter-pos/emitter-pos-heatmap-stddev.npy\", res)\n",
    "# np.save(\"../data/emitter-pos/emitter-pos-heatmap-stddev-ticks.npy\", np.stack([fs_vals, offsets]))\n",
    "# np.save(\"../data/emitter-pos/emitter-pos-heatmap-fs.npy\", res)\n",
    "# np.save(\"../data/emitter-pos/emitter-pos-heatmap-fs-ticks.npy\", np.stack([fs_vals, offsets]))"
   ]
  },
  {
   "cell_type": "markdown",
   "metadata": {},
   "source": [
    "### Thesis data"
   ]
  },
  {
   "cell_type": "code",
   "execution_count": null,
   "metadata": {},
   "outputs": [],
   "source": [
    "config['speaker_radius'] = 0.1\n",
    "config['speaker_pos'] = [21.15, 2., 4.]\n",
    "scene_dict = scene_dict_wrapper(filters=None)\n",
    "scene = mi.load_dict(scene_dict)\n",
    "img_a = mi.render(scene, seed=sess_seed).numpy()[:, 0, 0]\n",
    "\n",
    "config['speaker_radius'] = 1.0\n",
    "config['speaker_pos'] = [22.15, 2., 4.]\n",
    "scene_dict = scene_dict_wrapper(filters=None)\n",
    "scene = mi.load_dict(scene_dict)\n",
    "img_b = mi.render(scene, seed=sess_seed).numpy()[:, 0, 0]\n",
    "\n",
    "scene_dict = scene_dict_wrapper(filters=0.25)\n",
    "scene = mi.load_dict(scene_dict)\n",
    "img_c = mi.render(scene, seed=sess_seed).numpy()[:, 0, 0]\n",
    "\n",
    "# np.save('../data/emitter-pos/emitter-pos-histograms.npy', np.stack([img_a, img_b, img_c]))"
   ]
  },
  {
   "cell_type": "code",
   "execution_count": null,
   "metadata": {},
   "outputs": [],
   "source": []
  }
 ],
 "metadata": {
  "kernelspec": {
   "display_name": "Python 3 (ipykernel)",
   "language": "python",
   "name": "python3"
  },
  "language_info": {
   "codemirror_mode": {
    "name": "ipython",
    "version": 3
   },
   "file_extension": ".py",
   "mimetype": "text/x-python",
   "name": "python",
   "nbconvert_exporter": "python",
   "pygments_lexer": "ipython3",
   "version": "3.10.12"
  },
  "widgets": {
   "application/vnd.jupyter.widget-state+json": {
    "state": {
     "07ec54878c3c410ca11e8b72444a00e8": {
      "model_module": "@jupyter-widgets/controls",
      "model_module_version": "1.5.0",
      "model_name": "ProgressStyleModel",
      "state": {
       "description_width": ""
      }
     },
     "0c35e343c7ef48baa2f16a89425e45c9": {
      "model_module": "@jupyter-widgets/base",
      "model_module_version": "1.2.0",
      "model_name": "LayoutModel",
      "state": {
       "width": "100%"
      }
     },
     "121009d8ad1a400bb0faff5650af82b3": {
      "model_module": "@jupyter-widgets/base",
      "model_module_version": "1.2.0",
      "model_name": "LayoutModel",
      "state": {}
     },
     "148400d8a7d44374a39589fb0c0d7d46": {
      "model_module": "@jupyter-widgets/base",
      "model_module_version": "1.2.0",
      "model_name": "LayoutModel",
      "state": {
       "width": "100%"
      }
     },
     "1bf5946071df47e686b46976c829f4d0": {
      "model_module": "@jupyter-widgets/base",
      "model_module_version": "1.2.0",
      "model_name": "LayoutModel",
      "state": {}
     },
     "2262fd9b5af64b308ea9fd1d5b0b0494": {
      "model_module": "@jupyter-widgets/controls",
      "model_module_version": "1.5.0",
      "model_name": "FloatProgressModel",
      "state": {
       "bar_style": "success",
       "layout": "IPY_MODEL_0c35e343c7ef48baa2f16a89425e45c9",
       "max": 1,
       "style": "IPY_MODEL_64638caeb3de4839809e4dae0dc2b071",
       "value": 1
      }
     },
     "328d9c2dbd124dc19ae91ce0cb551403": {
      "model_module": "@jupyter-widgets/controls",
      "model_module_version": "1.5.0",
      "model_name": "VBoxModel",
      "state": {
       "children": [
        "IPY_MODEL_493c51e117d545a799ea5a57b9bfb258",
        "IPY_MODEL_bc89b3250375423e82db58560d690de3"
       ],
       "layout": "IPY_MODEL_4352d146b8ac4b478de6fb1778cd5d41"
      }
     },
     "384ad0e5d7934e3b89951358a9d19186": {
      "model_module": "@jupyter-widgets/controls",
      "model_module_version": "1.5.0",
      "model_name": "VBoxModel",
      "state": {
       "children": [
        "IPY_MODEL_cfb38214efa947568144d4522d548de6",
        "IPY_MODEL_c689f166d13242938ff57a24b0817d41"
       ],
       "layout": "IPY_MODEL_121009d8ad1a400bb0faff5650af82b3"
      }
     },
     "4352d146b8ac4b478de6fb1778cd5d41": {
      "model_module": "@jupyter-widgets/base",
      "model_module_version": "1.2.0",
      "model_name": "LayoutModel",
      "state": {}
     },
     "493c51e117d545a799ea5a57b9bfb258": {
      "model_module": "@jupyter-widgets/controls",
      "model_module_version": "1.5.0",
      "model_name": "HTMLModel",
      "state": {
       "layout": "IPY_MODEL_a3f5661d51064b2eb0e9ef5d1b0bb8aa",
       "style": "IPY_MODEL_b6610365565e4df1ab9f0dacfc0ee04a",
       "value": "Rendering (13.9s, ETA: 0ms)"
      }
     },
     "5ca4d20425df44658fb252c281f019fd": {
      "model_module": "@jupyter-widgets/base",
      "model_module_version": "1.2.0",
      "model_name": "LayoutModel",
      "state": {
       "width": "100%"
      }
     },
     "5ead71d75c28401eb61aaec2db79be71": {
      "model_module": "@jupyter-widgets/controls",
      "model_module_version": "1.5.0",
      "model_name": "HTMLModel",
      "state": {
       "layout": "IPY_MODEL_1bf5946071df47e686b46976c829f4d0",
       "style": "IPY_MODEL_f87d0eda3bba45a6b5101e92ec75ab51",
       "value": "Rendering (13.9s, ETA: 0ms)"
      }
     },
     "64638caeb3de4839809e4dae0dc2b071": {
      "model_module": "@jupyter-widgets/controls",
      "model_module_version": "1.5.0",
      "model_name": "ProgressStyleModel",
      "state": {
       "description_width": ""
      }
     },
     "64e097a514c04437bf30f0d12463d973": {
      "model_module": "@jupyter-widgets/controls",
      "model_module_version": "1.5.0",
      "model_name": "FloatProgressModel",
      "state": {
       "bar_style": "success",
       "layout": "IPY_MODEL_5ca4d20425df44658fb252c281f019fd",
       "max": 1,
       "style": "IPY_MODEL_07ec54878c3c410ca11e8b72444a00e8",
       "value": 1
      }
     },
     "6c57fb913d8b47c7ad6a2129294b7f4a": {
      "model_module": "@jupyter-widgets/controls",
      "model_module_version": "1.5.0",
      "model_name": "VBoxModel",
      "state": {
       "children": [
        "IPY_MODEL_c93f1917313f474c96018ef6f4db65b3",
        "IPY_MODEL_e1ec3d6d53ce43e386de054ab61583b5"
       ],
       "layout": "IPY_MODEL_cdad0127f4f6443a8643eec4140c2b50"
      }
     },
     "76ef1ebaa1c34d4ca27c8fda94d21eae": {
      "model_module": "@jupyter-widgets/base",
      "model_module_version": "1.2.0",
      "model_name": "LayoutModel",
      "state": {}
     },
     "7995615f2c5648de87bc7080ce7043aa": {
      "model_module": "@jupyter-widgets/base",
      "model_module_version": "1.2.0",
      "model_name": "LayoutModel",
      "state": {}
     },
     "7b6bc4d7291243dcb4838f1745959151": {
      "model_module": "@jupyter-widgets/base",
      "model_module_version": "1.2.0",
      "model_name": "LayoutModel",
      "state": {}
     },
     "895ccf032eb44c24a5e60315ff3eba16": {
      "model_module": "@jupyter-widgets/base",
      "model_module_version": "1.2.0",
      "model_name": "LayoutModel",
      "state": {
       "width": "100%"
      }
     },
     "9b86f1cff37c4fdc9e619cd95a70a256": {
      "model_module": "@jupyter-widgets/controls",
      "model_module_version": "1.5.0",
      "model_name": "DescriptionStyleModel",
      "state": {
       "description_width": ""
      }
     },
     "a3f5661d51064b2eb0e9ef5d1b0bb8aa": {
      "model_module": "@jupyter-widgets/base",
      "model_module_version": "1.2.0",
      "model_name": "LayoutModel",
      "state": {}
     },
     "a40669281c224b5f85fa4485491c3950": {
      "model_module": "@jupyter-widgets/controls",
      "model_module_version": "1.5.0",
      "model_name": "VBoxModel",
      "state": {
       "children": [
        "IPY_MODEL_d7bb96993f3a4db4bb2aa71270257a1b",
        "IPY_MODEL_64e097a514c04437bf30f0d12463d973"
       ],
       "layout": "IPY_MODEL_76ef1ebaa1c34d4ca27c8fda94d21eae"
      }
     },
     "a6576f2dd3604fb79879caa19911b935": {
      "model_module": "@jupyter-widgets/controls",
      "model_module_version": "1.5.0",
      "model_name": "ProgressStyleModel",
      "state": {
       "description_width": ""
      }
     },
     "b6610365565e4df1ab9f0dacfc0ee04a": {
      "model_module": "@jupyter-widgets/controls",
      "model_module_version": "1.5.0",
      "model_name": "DescriptionStyleModel",
      "state": {
       "description_width": ""
      }
     },
     "b91e3ad4740c42798db154827fbe5477": {
      "model_module": "@jupyter-widgets/controls",
      "model_module_version": "1.5.0",
      "model_name": "DescriptionStyleModel",
      "state": {
       "description_width": ""
      }
     },
     "bc89b3250375423e82db58560d690de3": {
      "model_module": "@jupyter-widgets/controls",
      "model_module_version": "1.5.0",
      "model_name": "FloatProgressModel",
      "state": {
       "bar_style": "success",
       "layout": "IPY_MODEL_148400d8a7d44374a39589fb0c0d7d46",
       "max": 1,
       "style": "IPY_MODEL_e4fb04aa19fd44a49f0fdd5e9a4fa9fd",
       "value": 1
      }
     },
     "c689f166d13242938ff57a24b0817d41": {
      "model_module": "@jupyter-widgets/controls",
      "model_module_version": "1.5.0",
      "model_name": "FloatProgressModel",
      "state": {
       "bar_style": "success",
       "layout": "IPY_MODEL_f1cc99986b0b46b58cae7fd82c5aad84",
       "max": 1,
       "style": "IPY_MODEL_e609a9ba6dff485bbde84e1fe599b2ba",
       "value": 1
      }
     },
     "c93f1917313f474c96018ef6f4db65b3": {
      "model_module": "@jupyter-widgets/controls",
      "model_module_version": "1.5.0",
      "model_name": "HTMLModel",
      "state": {
       "layout": "IPY_MODEL_ea57520c73bb4bf49de6ef0ab85b5fd5",
       "style": "IPY_MODEL_9b86f1cff37c4fdc9e619cd95a70a256",
       "value": "Rendering (34.1s, ETA: 0ms)"
      }
     },
     "cdad0127f4f6443a8643eec4140c2b50": {
      "model_module": "@jupyter-widgets/base",
      "model_module_version": "1.2.0",
      "model_name": "LayoutModel",
      "state": {}
     },
     "cfb38214efa947568144d4522d548de6": {
      "model_module": "@jupyter-widgets/controls",
      "model_module_version": "1.5.0",
      "model_name": "HTMLModel",
      "state": {
       "layout": "IPY_MODEL_f92a16e114714e9e82f1e60a0980cb2d",
       "style": "IPY_MODEL_e11cbf07e2d240348cdc470bd4f234e7",
       "value": "Rendering (13.8s, ETA: 0ms)"
      }
     },
     "d7bb96993f3a4db4bb2aa71270257a1b": {
      "model_module": "@jupyter-widgets/controls",
      "model_module_version": "1.5.0",
      "model_name": "HTMLModel",
      "state": {
       "layout": "IPY_MODEL_7995615f2c5648de87bc7080ce7043aa",
       "style": "IPY_MODEL_b91e3ad4740c42798db154827fbe5477",
       "value": "Rendering (14s, ETA: 0ms)"
      }
     },
     "d827ae3e316a4961b44fc24c2ef633a7": {
      "model_module": "@jupyter-widgets/controls",
      "model_module_version": "1.5.0",
      "model_name": "VBoxModel",
      "state": {
       "children": [
        "IPY_MODEL_5ead71d75c28401eb61aaec2db79be71",
        "IPY_MODEL_2262fd9b5af64b308ea9fd1d5b0b0494"
       ],
       "layout": "IPY_MODEL_7b6bc4d7291243dcb4838f1745959151"
      }
     },
     "e11cbf07e2d240348cdc470bd4f234e7": {
      "model_module": "@jupyter-widgets/controls",
      "model_module_version": "1.5.0",
      "model_name": "DescriptionStyleModel",
      "state": {
       "description_width": ""
      }
     },
     "e1ec3d6d53ce43e386de054ab61583b5": {
      "model_module": "@jupyter-widgets/controls",
      "model_module_version": "1.5.0",
      "model_name": "FloatProgressModel",
      "state": {
       "bar_style": "success",
       "layout": "IPY_MODEL_895ccf032eb44c24a5e60315ff3eba16",
       "max": 1,
       "style": "IPY_MODEL_a6576f2dd3604fb79879caa19911b935",
       "value": 1
      }
     },
     "e4fb04aa19fd44a49f0fdd5e9a4fa9fd": {
      "model_module": "@jupyter-widgets/controls",
      "model_module_version": "1.5.0",
      "model_name": "ProgressStyleModel",
      "state": {
       "description_width": ""
      }
     },
     "e609a9ba6dff485bbde84e1fe599b2ba": {
      "model_module": "@jupyter-widgets/controls",
      "model_module_version": "1.5.0",
      "model_name": "ProgressStyleModel",
      "state": {
       "description_width": ""
      }
     },
     "ea57520c73bb4bf49de6ef0ab85b5fd5": {
      "model_module": "@jupyter-widgets/base",
      "model_module_version": "1.2.0",
      "model_name": "LayoutModel",
      "state": {}
     },
     "f1cc99986b0b46b58cae7fd82c5aad84": {
      "model_module": "@jupyter-widgets/base",
      "model_module_version": "1.2.0",
      "model_name": "LayoutModel",
      "state": {
       "width": "100%"
      }
     },
     "f87d0eda3bba45a6b5101e92ec75ab51": {
      "model_module": "@jupyter-widgets/controls",
      "model_module_version": "1.5.0",
      "model_name": "DescriptionStyleModel",
      "state": {
       "description_width": ""
      }
     },
     "f92a16e114714e9e82f1e60a0980cb2d": {
      "model_module": "@jupyter-widgets/base",
      "model_module_version": "1.2.0",
      "model_name": "LayoutModel",
      "state": {}
     }
    },
    "version_major": 2,
    "version_minor": 0
   }
  }
 },
 "nbformat": 4,
 "nbformat_minor": 4
}
