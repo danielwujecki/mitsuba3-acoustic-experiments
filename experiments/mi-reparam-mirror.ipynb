{
 "cells": [
  {
   "cell_type": "markdown",
   "metadata": {},
   "source": [
    "## RGB Mirror Orientation\n",
    "\n",
    "http://localhost:8888/?token=sloth"
   ]
  },
  {
   "cell_type": "code",
   "execution_count": null,
   "metadata": {},
   "outputs": [],
   "source": [
    "from tqdm import trange\n",
    "\n",
    "# import torch\n",
    "import numpy as np\n",
    "import matplotlib.pyplot as plt\n",
    "\n",
    "import drjit as dr\n",
    "import mitsuba as mi\n",
    "\n",
    "from libs import utils\n",
    "\n",
    "plt.style.use('ggplot')\n",
    "\n",
    "mi.set_variant('cuda_ad_mono')\n",
    "mi.set_log_level(mi.LogLevel.Warn)\n",
    "\n",
    "sess_seed   = 0 # np.random.randint(0, 2**30)\n",
    "sess_seed_g = 1 # np.random.randint(0, 2**30)\n",
    "print(f\"session seeds are: sess_seed={sess_seed}; sess_seed_g={sess_seed_g}\")"
   ]
  },
  {
   "cell_type": "markdown",
   "metadata": {},
   "source": [
    "### Scene Construction"
   ]
  },
  {
   "cell_type": "code",
   "execution_count": null,
   "metadata": {},
   "outputs": [],
   "source": [
    "vis = True\n",
    "\n",
    "tf          = mi.ScalarTransform4f\n",
    "mic_pos     = np.array([ 0.,  0.,  5.])\n",
    "speaker_pos = np.array([20.,  0.,  5 ])\n",
    "sail_pose   = np.array([10., 20.,  5.])\n",
    "sail_size   = np.array([8.,  2.,  5.]) / 2.\n",
    "\n",
    "sail_vertex_base = mi.Transform4f.scale(sail_size).rotate([1., 0., 0.], angle=90.) @ mi.Point3f(\n",
    "    [-1., -1.,  1.,  1.],\n",
    "    [-1.,  1., -1.,  1.],\n",
    "    [ 0.,  0.,  0.,  0.]\n",
    ")\n",
    "\n",
    "scene_dict = {\n",
    "    \"type\": \"scene\",\n",
    "    \"integrator\": {\n",
    "        \"type\": \"prb_reparam\",\n",
    "        \"max_depth\": 2,\n",
    "        \"border_warning\": False,\n",
    "    },\n",
    "\n",
    "    \"sensor\": {\n",
    "        \"type\": \"perspective\",\n",
    "        \"to_world\": tf.look_at(\n",
    "            origin=(mic_pos),\n",
    "            target=(sail_pose),\n",
    "            up=[0, 1, 0]\n",
    "        ),\n",
    "        \"film\": {\n",
    "            \"type\": \"hdrfilm\",\n",
    "            \"width\":  128 if vis else 1,\n",
    "            \"height\": 128 if vis else 1,\n",
    "            \"sample_border\": True,\n",
    "            \"filter\": { \"type\": \"tent\", \"radius\": 1.0, },\n",
    "            # \"sample_border\": False,\n",
    "            # \"filter\": { \"type\": \"box\" },\n",
    "            \"pixel_format\": \"luminance\",\n",
    "        },\n",
    "        # \"fov\": 60,\n",
    "        \"sampler\": { \"type\": \"stratified\", \"sample_count\": 2**20, },\n",
    "    },\n",
    "\n",
    "    \"speaker\": {\n",
    "        \"type\": \"ply\",\n",
    "        \"filename\": \"/home/daniel/Studium/masterarbeit/data/scenes/meshes/sphere.ply\",\n",
    "        \"to_world\": tf.translate(speaker_pos).scale(2.0),\n",
    "        \"emitter\": { \"type\": \"area\", \"radiance\": { \"type\": \"uniform\", \"value\": 1e0 } },\n",
    "    },\n",
    "\n",
    "    \"sail\": {\n",
    "        \"type\": \"ply\",\n",
    "        \"filename\": \"/home/daniel/Studium/masterarbeit/data/scenes/meshes/rectangle.ply\",\n",
    "        \"bsdf\": {\n",
    "            # \"type\": \"roughconductor\",\n",
    "            # \"alpha\": 0.05,\n",
    "\n",
    "            \"type\": \"acousticbsdf\",\n",
    "            \"scattering\": { \"type\": \"spectrum\", \"value\": 0.20 },\n",
    "            \"absorption\": { \"type\": \"spectrum\", \"value\": 0.20 },\n",
    "\n",
    "            # 'type': 'blendbsdf',\n",
    "            # 'weight': 0.1,\n",
    "            # 'bsdf_0': { 'type': 'conductor' },\n",
    "            # 'bsdf_1': { 'type': 'diffuse' },\n",
    "        },\n",
    "    },\n",
    "}"
   ]
  },
  {
   "cell_type": "markdown",
   "metadata": {},
   "source": [
    "### Optimization Setup"
   ]
  },
  {
   "cell_type": "code",
   "execution_count": null,
   "metadata": {},
   "outputs": [],
   "source": [
    "key = \"sail.vertex_positions\"\n",
    "\n",
    "opt = mi.ad.Adam(lr=0.005)\n",
    "opt['a'] = mi.Point2f(0.1, 0.1)\n",
    "\n",
    "def apply_transform(params, opt):\n",
    "    opt['a'] = dr.clamp(opt['a'], -2., 2.)\n",
    "    transf = mi.Transform4f.translate(sail_pose) \\\n",
    "                           .rotate(axis=[1., 0., 0.], angle=(opt['a'].x * 30.)) \\\n",
    "                           .rotate(axis=[0., 0., 1.], angle=(opt['a'].y * 30.))\n",
    "    params[key] = dr.ravel(transf @ sail_vertex_base)\n",
    "    params.update()"
   ]
  },
  {
   "cell_type": "markdown",
   "metadata": {},
   "source": [
    "### Load and Render Scene"
   ]
  },
  {
   "cell_type": "code",
   "execution_count": null,
   "metadata": {},
   "outputs": [],
   "source": [
    "scene  = mi.load_dict(scene_dict)\n",
    "params = mi.traverse(scene)\n",
    "opt['a'] = mi.Point2f(0.0, 0.0)\n",
    "apply_transform(params, opt)\n",
    "\n",
    "if vis:\n",
    "    img = mi.render(scene, seed=sess_seed, spp=1024)\n",
    "    utils.plot_img(img)\n",
    "else:\n",
    "    img = mi.render(scene, seed=sess_seed)\n",
    "    print(img.numpy())"
   ]
  },
  {
   "cell_type": "markdown",
   "metadata": {},
   "source": [
    "### Loss Values"
   ]
  },
  {
   "cell_type": "code",
   "execution_count": null,
   "metadata": {},
   "outputs": [],
   "source": [
    "opt['a'] = mi.Point2f(0.1, 0.1)\n",
    "apply_transform(params, opt)\n",
    "img = mi.render(scene, params, seed=sess_seed, seed_grad=sess_seed_g, spp=64 if vis else 2**22)\n",
    "l = dr.mean(img)\n",
    "dr.backward(l)\n",
    "\n",
    "print(dr.grad(opt['a'])[0])\n",
    "\n",
    "assert True"
   ]
  },
  {
   "cell_type": "code",
   "execution_count": null,
   "metadata": {},
   "outputs": [],
   "source": [
    "angles = np.linspace(-0.5, 0.5, 51, endpoint=True)\n",
    "data = np.zeros((angles.shape[0], 3))\n",
    "\n",
    "for i in trange(angles.shape[0]):\n",
    "    opt['a'] = mi.Point2f(0, angles[i])\n",
    "    apply_transform(params, opt)\n",
    "    img = mi.render(scene, params, seed=sess_seed+i, seed_grad=sess_seed_g+i, spp=64 if vis else 2**22)\n",
    "\n",
    "    l   = dr.mean(img)\n",
    "    dr.backward(l)\n",
    "\n",
    "    data[i, 0] = l[0]\n",
    "    data[i, 1:] = dr.grad(opt['a']).numpy()[0]"
   ]
  },
  {
   "cell_type": "code",
   "execution_count": null,
   "metadata": {},
   "outputs": [],
   "source": [
    "i, j = np.sort(np.argsort(data[:, 0])[-2:])\n",
    "p = angles[np.argmin(data[i:j, 0])]\n",
    "# p = angles[np.argmax(data[:, 0])]\n",
    "\n",
    "fig, (ax1, ax2) = plt.subplots(1, 2, figsize=(12, 4))\n",
    "ax1.plot(angles, data[:, 0])\n",
    "# ax1.vlines(p, data[:, 0].min(), data[:, 0].max(), linestyle='dotted', color=\"k\")\n",
    "ax1.set_xlabel(\"opt['a']\")\n",
    "ax1.set_ylabel(\"loss\")\n",
    "\n",
    "ax2.plot(angles, data[:, 2])\n",
    "# ax2.vlines(p, data[:, 1].min(), data[:, 1].max(), linestyle='dashed', linewidth=1.0, color=\"k\")\n",
    "# ax2.hlines(0, angles[0], angles[-1], linestyle='dotted', color=\"k\", linewidth=1.0)\n",
    "ax2.set_xlabel(\"opt['a']\")\n",
    "ax2.set_ylabel(\"grad\")\n",
    "plt.show()"
   ]
  },
  {
   "cell_type": "code",
   "execution_count": null,
   "metadata": {},
   "outputs": [],
   "source": [
    "heatmap = True\n",
    "\n",
    "if heatmap:\n",
    "    k = 0\n",
    "\n",
    "    vA   = np.linspace(-0.35, 0.35, 29, endpoint=True)\n",
    "    vB   = np.linspace(-0.45, 0.45, 37, endpoint=True)\n",
    "    a, b = np.meshgrid(vA, vB)\n",
    "    data = np.zeros((3,) + a.shape)\n",
    "    print(vA)\n",
    "    print(vB)\n",
    "\n",
    "    for i in trange(a.shape[0]):\n",
    "        for j in range(a.shape[1]):\n",
    "            opt['a'] = mi.Point2f(a[i, j], b[i, j])\n",
    "            apply_transform(params, opt)\n",
    "\n",
    "            img = mi.render(scene, params, seed=sess_seed, seed_grad=sess_seed_g, spp=64 if vis else 2**22)\n",
    "            l   = dr.mean(img)\n",
    "            dr.backward(l)\n",
    "            data[0, i, j] = l[0]\n",
    "            data[1, i, j] = dr.grad(opt[\"a\"]).x[0]\n",
    "            data[2, i, j] = dr.grad(opt[\"a\"]).y[0]"
   ]
  },
  {
   "cell_type": "code",
   "execution_count": null,
   "metadata": {},
   "outputs": [],
   "source": [
    "# np.save(\"../data/ceiling-sail/mirror-angle-heatmap.npy\", np.vstack([a[None, :, :], b[None, :, :], data]))"
   ]
  },
  {
   "cell_type": "code",
   "execution_count": null,
   "metadata": {},
   "outputs": [],
   "source": [
    "if heatmap:\n",
    "    n = 2\n",
    "    fig, ax = plt.subplots(1, 1, figsize=(7, 6))\n",
    "\n",
    "    # contf = ax.contourf(a[12:-12, 10:-10], b[12:-12, 10:-10], data[0, 12:-12, 10:-10], cmap=\"inferno\")\n",
    "    contf = ax.contourf(a, b, data[0], cmap=\"inferno\", levels=np.linspace(0., 0.012, 25))\n",
    "    # ax.contour(a, b, data[0], colors='k', alpha=0.5, linewidths=0.3)\n",
    "\n",
    "    ax.quiver(a, b, data[1], data[2], color='C1')\n",
    "\n",
    "    fig.colorbar(contf, ax=ax, fraction=0.1, shrink=0.8).set_label('loss')\n",
    "    # ax.set_xticks(vA[::n], np.round(vA * 30., 1)[::n])\n",
    "    # ax.set_yticks(vB[::n], np.round(vB * 30., 1)[::n])\n",
    "    ax.set_xlabel(\"$R_x$\")\n",
    "    ax.set_ylabel(\"$R_z$\")\n",
    "    ax.set_title(f\"Loss Heatmap - ceiling sail {k}\")\n",
    "\n",
    "    # fig.savefig(f\"../data/ceiling-sail/ceiling-sail-single-mic-heatmap-sail_{k}.png\")\n",
    "    fig.show()"
   ]
  },
  {
   "cell_type": "markdown",
   "metadata": {},
   "source": [
    "### Main Optimization Loop"
   ]
  },
  {
   "cell_type": "code",
   "execution_count": null,
   "metadata": {},
   "outputs": [],
   "source": [
    "opt['a'] = mi.Float(0.0)\n",
    "angles, losses, grads = [], [], []"
   ]
  },
  {
   "cell_type": "code",
   "execution_count": null,
   "metadata": {},
   "outputs": [],
   "source": [
    "iters = 50\n",
    "\n",
    "for i in trange(iters) if iters > 1 else range(iters):\n",
    "    apply_transform(params, opt)\n",
    "    img = mi.render(scene, params, seed=sess_seed+i, seed_grad=sess_seed_g+i, spp=64 if vis else 2**20)\n",
    "\n",
    "    l = -1. * dr.sum(img)\n",
    "    dr.backward(l, flags=dr.ADFlag.ClearNone if iters < 2 else dr.ADFlag.Default)\n",
    "\n",
    "    if iters < 2:\n",
    "        # display(dr.unravel(mi.Point3f, dr.grad(params[key])))\n",
    "        display(dr.grad(opt['a']))\n",
    "    else:\n",
    "        grads.append(dr.grad(opt['a']))\n",
    "        opt.step()\n",
    "        angles.append(opt['a'])\n",
    "        losses.append(l)\n",
    "\n",
    "#np.save(\"/home/daniel/loss_n.npy\", angles)"
   ]
  },
  {
   "cell_type": "code",
   "execution_count": null,
   "metadata": {},
   "outputs": [],
   "source": [
    "if iters > 1:\n",
    "    fig, (ax1, ax2, ax3) = plt.subplots(1, 3, figsize=(18, 4))\n",
    "    ax1.set_title(\"grads\")\n",
    "    ax1.plot(np.array(grads)[:, 0])\n",
    "\n",
    "    ax2.set_title(\"angles\")\n",
    "    ax2.plot(np.array(angles)[:, 0])\n",
    "\n",
    "    ax3.set_title(\"losses\")\n",
    "    ax3.plot(np.array(losses)[:, 0])\n",
    "    fig.show()"
   ]
  },
  {
   "cell_type": "code",
   "execution_count": null,
   "metadata": {},
   "outputs": [],
   "source": []
  }
 ],
 "metadata": {
  "kernelspec": {
   "display_name": "Python 3 (ipykernel)",
   "language": "python",
   "name": "python3"
  },
  "language_info": {
   "codemirror_mode": {
    "name": "ipython",
    "version": 3
   },
   "file_extension": ".py",
   "mimetype": "text/x-python",
   "name": "python",
   "nbconvert_exporter": "python",
   "pygments_lexer": "ipython3",
   "version": "3.10.12"
  },
  "widgets": {
   "application/vnd.jupyter.widget-state+json": {
    "state": {
     "07ec54878c3c410ca11e8b72444a00e8": {
      "model_module": "@jupyter-widgets/controls",
      "model_module_version": "1.5.0",
      "model_name": "ProgressStyleModel",
      "state": {
       "description_width": ""
      }
     },
     "0c35e343c7ef48baa2f16a89425e45c9": {
      "model_module": "@jupyter-widgets/base",
      "model_module_version": "1.2.0",
      "model_name": "LayoutModel",
      "state": {
       "width": "100%"
      }
     },
     "121009d8ad1a400bb0faff5650af82b3": {
      "model_module": "@jupyter-widgets/base",
      "model_module_version": "1.2.0",
      "model_name": "LayoutModel",
      "state": {}
     },
     "148400d8a7d44374a39589fb0c0d7d46": {
      "model_module": "@jupyter-widgets/base",
      "model_module_version": "1.2.0",
      "model_name": "LayoutModel",
      "state": {
       "width": "100%"
      }
     },
     "1bf5946071df47e686b46976c829f4d0": {
      "model_module": "@jupyter-widgets/base",
      "model_module_version": "1.2.0",
      "model_name": "LayoutModel",
      "state": {}
     },
     "2262fd9b5af64b308ea9fd1d5b0b0494": {
      "model_module": "@jupyter-widgets/controls",
      "model_module_version": "1.5.0",
      "model_name": "FloatProgressModel",
      "state": {
       "bar_style": "success",
       "layout": "IPY_MODEL_0c35e343c7ef48baa2f16a89425e45c9",
       "max": 1,
       "style": "IPY_MODEL_64638caeb3de4839809e4dae0dc2b071",
       "value": 1
      }
     },
     "328d9c2dbd124dc19ae91ce0cb551403": {
      "model_module": "@jupyter-widgets/controls",
      "model_module_version": "1.5.0",
      "model_name": "VBoxModel",
      "state": {
       "children": [
        "IPY_MODEL_493c51e117d545a799ea5a57b9bfb258",
        "IPY_MODEL_bc89b3250375423e82db58560d690de3"
       ],
       "layout": "IPY_MODEL_4352d146b8ac4b478de6fb1778cd5d41"
      }
     },
     "384ad0e5d7934e3b89951358a9d19186": {
      "model_module": "@jupyter-widgets/controls",
      "model_module_version": "1.5.0",
      "model_name": "VBoxModel",
      "state": {
       "children": [
        "IPY_MODEL_cfb38214efa947568144d4522d548de6",
        "IPY_MODEL_c689f166d13242938ff57a24b0817d41"
       ],
       "layout": "IPY_MODEL_121009d8ad1a400bb0faff5650af82b3"
      }
     },
     "4352d146b8ac4b478de6fb1778cd5d41": {
      "model_module": "@jupyter-widgets/base",
      "model_module_version": "1.2.0",
      "model_name": "LayoutModel",
      "state": {}
     },
     "493c51e117d545a799ea5a57b9bfb258": {
      "model_module": "@jupyter-widgets/controls",
      "model_module_version": "1.5.0",
      "model_name": "HTMLModel",
      "state": {
       "layout": "IPY_MODEL_a3f5661d51064b2eb0e9ef5d1b0bb8aa",
       "style": "IPY_MODEL_b6610365565e4df1ab9f0dacfc0ee04a",
       "value": "Rendering (13.9s, ETA: 0ms)"
      }
     },
     "5ca4d20425df44658fb252c281f019fd": {
      "model_module": "@jupyter-widgets/base",
      "model_module_version": "1.2.0",
      "model_name": "LayoutModel",
      "state": {
       "width": "100%"
      }
     },
     "5ead71d75c28401eb61aaec2db79be71": {
      "model_module": "@jupyter-widgets/controls",
      "model_module_version": "1.5.0",
      "model_name": "HTMLModel",
      "state": {
       "layout": "IPY_MODEL_1bf5946071df47e686b46976c829f4d0",
       "style": "IPY_MODEL_f87d0eda3bba45a6b5101e92ec75ab51",
       "value": "Rendering (13.9s, ETA: 0ms)"
      }
     },
     "64638caeb3de4839809e4dae0dc2b071": {
      "model_module": "@jupyter-widgets/controls",
      "model_module_version": "1.5.0",
      "model_name": "ProgressStyleModel",
      "state": {
       "description_width": ""
      }
     },
     "64e097a514c04437bf30f0d12463d973": {
      "model_module": "@jupyter-widgets/controls",
      "model_module_version": "1.5.0",
      "model_name": "FloatProgressModel",
      "state": {
       "bar_style": "success",
       "layout": "IPY_MODEL_5ca4d20425df44658fb252c281f019fd",
       "max": 1,
       "style": "IPY_MODEL_07ec54878c3c410ca11e8b72444a00e8",
       "value": 1
      }
     },
     "6c57fb913d8b47c7ad6a2129294b7f4a": {
      "model_module": "@jupyter-widgets/controls",
      "model_module_version": "1.5.0",
      "model_name": "VBoxModel",
      "state": {
       "children": [
        "IPY_MODEL_c93f1917313f474c96018ef6f4db65b3",
        "IPY_MODEL_e1ec3d6d53ce43e386de054ab61583b5"
       ],
       "layout": "IPY_MODEL_cdad0127f4f6443a8643eec4140c2b50"
      }
     },
     "76ef1ebaa1c34d4ca27c8fda94d21eae": {
      "model_module": "@jupyter-widgets/base",
      "model_module_version": "1.2.0",
      "model_name": "LayoutModel",
      "state": {}
     },
     "7995615f2c5648de87bc7080ce7043aa": {
      "model_module": "@jupyter-widgets/base",
      "model_module_version": "1.2.0",
      "model_name": "LayoutModel",
      "state": {}
     },
     "7b6bc4d7291243dcb4838f1745959151": {
      "model_module": "@jupyter-widgets/base",
      "model_module_version": "1.2.0",
      "model_name": "LayoutModel",
      "state": {}
     },
     "895ccf032eb44c24a5e60315ff3eba16": {
      "model_module": "@jupyter-widgets/base",
      "model_module_version": "1.2.0",
      "model_name": "LayoutModel",
      "state": {
       "width": "100%"
      }
     },
     "9b86f1cff37c4fdc9e619cd95a70a256": {
      "model_module": "@jupyter-widgets/controls",
      "model_module_version": "1.5.0",
      "model_name": "DescriptionStyleModel",
      "state": {
       "description_width": ""
      }
     },
     "a3f5661d51064b2eb0e9ef5d1b0bb8aa": {
      "model_module": "@jupyter-widgets/base",
      "model_module_version": "1.2.0",
      "model_name": "LayoutModel",
      "state": {}
     },
     "a40669281c224b5f85fa4485491c3950": {
      "model_module": "@jupyter-widgets/controls",
      "model_module_version": "1.5.0",
      "model_name": "VBoxModel",
      "state": {
       "children": [
        "IPY_MODEL_d7bb96993f3a4db4bb2aa71270257a1b",
        "IPY_MODEL_64e097a514c04437bf30f0d12463d973"
       ],
       "layout": "IPY_MODEL_76ef1ebaa1c34d4ca27c8fda94d21eae"
      }
     },
     "a6576f2dd3604fb79879caa19911b935": {
      "model_module": "@jupyter-widgets/controls",
      "model_module_version": "1.5.0",
      "model_name": "ProgressStyleModel",
      "state": {
       "description_width": ""
      }
     },
     "b6610365565e4df1ab9f0dacfc0ee04a": {
      "model_module": "@jupyter-widgets/controls",
      "model_module_version": "1.5.0",
      "model_name": "DescriptionStyleModel",
      "state": {
       "description_width": ""
      }
     },
     "b91e3ad4740c42798db154827fbe5477": {
      "model_module": "@jupyter-widgets/controls",
      "model_module_version": "1.5.0",
      "model_name": "DescriptionStyleModel",
      "state": {
       "description_width": ""
      }
     },
     "bc89b3250375423e82db58560d690de3": {
      "model_module": "@jupyter-widgets/controls",
      "model_module_version": "1.5.0",
      "model_name": "FloatProgressModel",
      "state": {
       "bar_style": "success",
       "layout": "IPY_MODEL_148400d8a7d44374a39589fb0c0d7d46",
       "max": 1,
       "style": "IPY_MODEL_e4fb04aa19fd44a49f0fdd5e9a4fa9fd",
       "value": 1
      }
     },
     "c689f166d13242938ff57a24b0817d41": {
      "model_module": "@jupyter-widgets/controls",
      "model_module_version": "1.5.0",
      "model_name": "FloatProgressModel",
      "state": {
       "bar_style": "success",
       "layout": "IPY_MODEL_f1cc99986b0b46b58cae7fd82c5aad84",
       "max": 1,
       "style": "IPY_MODEL_e609a9ba6dff485bbde84e1fe599b2ba",
       "value": 1
      }
     },
     "c93f1917313f474c96018ef6f4db65b3": {
      "model_module": "@jupyter-widgets/controls",
      "model_module_version": "1.5.0",
      "model_name": "HTMLModel",
      "state": {
       "layout": "IPY_MODEL_ea57520c73bb4bf49de6ef0ab85b5fd5",
       "style": "IPY_MODEL_9b86f1cff37c4fdc9e619cd95a70a256",
       "value": "Rendering (34.1s, ETA: 0ms)"
      }
     },
     "cdad0127f4f6443a8643eec4140c2b50": {
      "model_module": "@jupyter-widgets/base",
      "model_module_version": "1.2.0",
      "model_name": "LayoutModel",
      "state": {}
     },
     "cfb38214efa947568144d4522d548de6": {
      "model_module": "@jupyter-widgets/controls",
      "model_module_version": "1.5.0",
      "model_name": "HTMLModel",
      "state": {
       "layout": "IPY_MODEL_f92a16e114714e9e82f1e60a0980cb2d",
       "style": "IPY_MODEL_e11cbf07e2d240348cdc470bd4f234e7",
       "value": "Rendering (13.8s, ETA: 0ms)"
      }
     },
     "d7bb96993f3a4db4bb2aa71270257a1b": {
      "model_module": "@jupyter-widgets/controls",
      "model_module_version": "1.5.0",
      "model_name": "HTMLModel",
      "state": {
       "layout": "IPY_MODEL_7995615f2c5648de87bc7080ce7043aa",
       "style": "IPY_MODEL_b91e3ad4740c42798db154827fbe5477",
       "value": "Rendering (14s, ETA: 0ms)"
      }
     },
     "d827ae3e316a4961b44fc24c2ef633a7": {
      "model_module": "@jupyter-widgets/controls",
      "model_module_version": "1.5.0",
      "model_name": "VBoxModel",
      "state": {
       "children": [
        "IPY_MODEL_5ead71d75c28401eb61aaec2db79be71",
        "IPY_MODEL_2262fd9b5af64b308ea9fd1d5b0b0494"
       ],
       "layout": "IPY_MODEL_7b6bc4d7291243dcb4838f1745959151"
      }
     },
     "e11cbf07e2d240348cdc470bd4f234e7": {
      "model_module": "@jupyter-widgets/controls",
      "model_module_version": "1.5.0",
      "model_name": "DescriptionStyleModel",
      "state": {
       "description_width": ""
      }
     },
     "e1ec3d6d53ce43e386de054ab61583b5": {
      "model_module": "@jupyter-widgets/controls",
      "model_module_version": "1.5.0",
      "model_name": "FloatProgressModel",
      "state": {
       "bar_style": "success",
       "layout": "IPY_MODEL_895ccf032eb44c24a5e60315ff3eba16",
       "max": 1,
       "style": "IPY_MODEL_a6576f2dd3604fb79879caa19911b935",
       "value": 1
      }
     },
     "e4fb04aa19fd44a49f0fdd5e9a4fa9fd": {
      "model_module": "@jupyter-widgets/controls",
      "model_module_version": "1.5.0",
      "model_name": "ProgressStyleModel",
      "state": {
       "description_width": ""
      }
     },
     "e609a9ba6dff485bbde84e1fe599b2ba": {
      "model_module": "@jupyter-widgets/controls",
      "model_module_version": "1.5.0",
      "model_name": "ProgressStyleModel",
      "state": {
       "description_width": ""
      }
     },
     "ea57520c73bb4bf49de6ef0ab85b5fd5": {
      "model_module": "@jupyter-widgets/base",
      "model_module_version": "1.2.0",
      "model_name": "LayoutModel",
      "state": {}
     },
     "f1cc99986b0b46b58cae7fd82c5aad84": {
      "model_module": "@jupyter-widgets/base",
      "model_module_version": "1.2.0",
      "model_name": "LayoutModel",
      "state": {
       "width": "100%"
      }
     },
     "f87d0eda3bba45a6b5101e92ec75ab51": {
      "model_module": "@jupyter-widgets/controls",
      "model_module_version": "1.5.0",
      "model_name": "DescriptionStyleModel",
      "state": {
       "description_width": ""
      }
     },
     "f92a16e114714e9e82f1e60a0980cb2d": {
      "model_module": "@jupyter-widgets/base",
      "model_module_version": "1.2.0",
      "model_name": "LayoutModel",
      "state": {}
     }
    },
    "version_major": 2,
    "version_minor": 0
   }
  }
 },
 "nbformat": 4,
 "nbformat_minor": 4
}
