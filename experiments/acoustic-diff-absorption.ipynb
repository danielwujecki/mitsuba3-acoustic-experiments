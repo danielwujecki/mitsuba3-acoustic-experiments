{
 "cells": [
  {
   "cell_type": "markdown",
   "metadata": {},
   "source": [
    "## Acoustic Integration - Automatic Differentiation\n",
    "\n",
    "http://localhost:8888/?token=sloth"
   ]
  },
  {
   "cell_type": "code",
   "execution_count": null,
   "metadata": {},
   "outputs": [],
   "source": [
    "# from tqdm import trange\n",
    "import numpy as np\n",
    "import pandas as pd\n",
    "import matplotlib.pyplot as plt\n",
    "%matplotlib ipympl\n",
    "\n",
    "import drjit as dr\n",
    "import mitsuba as mi\n",
    "\n",
    "from libs import utils, acoustic_torch\n",
    "\n",
    "mi.set_variant('cuda_ad_acoustic')\n",
    "mi.set_log_level(mi.LogLevel.Warn)\n",
    "\n",
    "plt.style.use('ggplot')\n",
    "utils.drjit_turn_off_optimizations(False)\n",
    "\n",
    "sess_seed   = np.random.randint(0, 2**30)\n",
    "sess_seed_g = np.random.randint(0, 2**30)\n",
    "print(f\"session seeds are: sess_seed={sess_seed}; sess_seed_g={sess_seed_g}\")"
   ]
  },
  {
   "cell_type": "markdown",
   "metadata": {},
   "source": [
    "### Scene Construction"
   ]
  },
  {
   "cell_type": "code",
   "execution_count": null,
   "metadata": {
    "jupyter": {
     "source_hidden": true
    }
   },
   "outputs": [],
   "source": [
    "absorption = [0.1, 0.75]\n",
    "scattering = [0.5, 0.75]\n",
    "\n",
    "absorption_mdim, scattering_mdim = np.meshgrid(absorption, scattering)\n",
    "absorption,      scattering      = absorption_mdim.flatten(), scattering_mdim.flatten()\n",
    "\n",
    "config = {\n",
    "    \"box_dim\":     [25., 12., 7.],\n",
    "    \"mic_pos\":     [ 9.,  6., 1.],\n",
    "    \"speaker_pos\": [20.,  7., 2.],\n",
    "    \"speaker_radius\": 0.5, #0.1,\n",
    "\n",
    "    \"absorption\": [(i + 1, a) for i, a in enumerate(absorption)],\n",
    "    \"scattering\": [(i + 1, s) for i, s in enumerate(scattering)],\n",
    "\n",
    "    \"wav_bins\":  len(absorption), # x\n",
    "    \"time_bins\": 150,             # y\n",
    "    \"max_time\":  1.5,\n",
    "\n",
    "    # \"integrator\": \"acousticpath\",\n",
    "    \"integrator\": \"prb_acoustic\",\n",
    "    # \"integrator\": \"prb_reparam_acoustic\",\n",
    "    \"max_depth\": 50,\n",
    "    \"spp\": 2**18,\n",
    "}\n",
    "\n",
    "fs = config[\"time_bins\"] / config[\"max_time\"]\n",
    "time = np.linspace(0., config[\"max_time\"], config[\"time_bins\"], endpoint=False)\n",
    "\n",
    "# config[\"max_depth\"] = utils.estimate_max_depth(config[\"box_dim\"], config[\"max_time\"], 1.5)\n",
    "print(f\"max_depth = {config['max_depth']}\")\n",
    "\n",
    "scene_dict = utils.shoebox_scene(**config)\n",
    "scene = mi.load_dict(scene_dict)"
   ]
  },
  {
   "cell_type": "markdown",
   "metadata": {},
   "source": [
    "### Reference Histogram"
   ]
  },
  {
   "cell_type": "code",
   "execution_count": null,
   "metadata": {},
   "outputs": [],
   "source": [
    "# hist_ref = mi.render(scene, seed=sess_seed)\n",
    "# utils.plot_hist(hist_ref[:, :, 0], **config)"
   ]
  },
  {
   "cell_type": "code",
   "execution_count": null,
   "metadata": {},
   "outputs": [],
   "source": [
    "rav_df = pd.read_pickle(\"../leo/notebooks/data/raven-box-25-12-7-hybrid.pkl\")\n",
    "\n",
    "idxs = []\n",
    "for i in range(absorption.shape[0]):\n",
    "    a, s = np.round(absorption[i], 1), np.round(scattering[i], 1)\n",
    "    idxs.append(f\"a{a}-s{s}\")\n",
    "\n",
    "rav = rav_df[idxs].to_numpy()\n",
    "\n",
    "n   = int(1000 * config[\"max_time\"] / config[\"time_bins\"])\n",
    "rav = np.sum(rav.reshape((rav.shape[0] // n, n, -1)), axis=1)\n",
    "rav = rav[:config[\"time_bins\"]]\n",
    "rav = mi.TensorXf(np.dstack([rav, np.zeros_like(rav)]))\n",
    "\n",
    "edc_rav = acoustic_torch.EDC(rav[:, :, 0], db=True, norm=True)\n",
    "\n",
    "rav.shape"
   ]
  },
  {
   "cell_type": "markdown",
   "metadata": {},
   "source": [
    "### Optimization Setup"
   ]
  },
  {
   "cell_type": "code",
   "execution_count": null,
   "metadata": {},
   "outputs": [],
   "source": [
    "key = \"acoustic_bsdf.absorption.values\"\n",
    "params = mi.traverse(scene)\n",
    "display(params)\n",
    "display(params[key])"
   ]
  },
  {
   "cell_type": "code",
   "execution_count": null,
   "metadata": {},
   "outputs": [],
   "source": [
    "params_ref  = mi.Float(params[key])\n",
    "params[key] = mi.Float([0.499, 0.501] * scattering_mdim.shape[0])\n",
    "\n",
    "opt = mi.ad.Adam(lr=0.005)\n",
    "opt[key] = params[key]\n",
    "params.update(opt);"
   ]
  },
  {
   "cell_type": "code",
   "execution_count": null,
   "metadata": {},
   "outputs": [],
   "source": [
    "def loss(a, b):\n",
    "    a = acoustic_torch.C(a[:, :, 0], fs=fs)\n",
    "    b = acoustic_torch.C(b[:, :, 0], fs=fs)\n",
    "    # a = acoustic_torch.D(a[:, :, 0], fs=fs)\n",
    "    # b = acoustic_torch.D(b[:, :, 0], fs=fs)\n",
    "    # a = acoustic_torch.TS(mi.TensorXf(time), a[:, :, 0])\n",
    "    # b = acoustic_torch.TS(mi.TensorXf(time), b[:, :, 0])\n",
    "\n",
    "    # a     = acoustic_torch.EDC(a[:, :, 0], db=True, norm=True)\n",
    "    # b     = acoustic_torch.EDC(b[:, :, 0], db=True, norm=True)\n",
    "    # b     = edc_rav\n",
    "    # a     = acoustic_torch.T(mi.TensorXf(time), a)\n",
    "    # b     = acoustic_torch.T(mi.TensorXf(time), b)\n",
    "\n",
    "    return utils.mse(a, b)"
   ]
  },
  {
   "cell_type": "code",
   "execution_count": null,
   "metadata": {},
   "outputs": [],
   "source": [
    "hist = mi.render(scene, seed=sess_seed)\n",
    "dr.enable_grad(hist)\n",
    "l = loss(hist, rav)\n",
    "dr.backward(l)\n",
    "grad = dr.grad(hist)\n",
    "utils.plot_hist(grad[:, :, 0], **config)"
   ]
  },
  {
   "cell_type": "markdown",
   "metadata": {},
   "source": [
    "### Main Loop"
   ]
  },
  {
   "cell_type": "code",
   "execution_count": null,
   "metadata": {},
   "outputs": [],
   "source": [
    "vals, losses = [], []\n",
    "fig, (ax1, ax2) = plt.subplots(1, 2, figsize=(12, 4))\n",
    "ax1.set_xlim(-1, 51)\n",
    "ax1.set_ylim(-0.1, 1.1)\n",
    "ax2.set_xlim(-1, 50)\n",
    "ax2.set_ylim(-0.1, 1.1);\n",
    "plt.close()"
   ]
  },
  {
   "cell_type": "code",
   "execution_count": null,
   "metadata": {},
   "outputs": [],
   "source": [
    "iters  = 10\n",
    "if iters > 1:\n",
    "    n  = len(vals) + iters\n",
    "\n",
    "# for i in trange(iters) if iters > 2 else range(iters):\n",
    "for i in range(iters):\n",
    "    hist = mi.render(scene, params, seed=sess_seed+i, seed_grad=sess_seed_g+i)\n",
    "    l    = loss(hist[:], rav[:])\n",
    "    dr.backward(l)\n",
    "\n",
    "    if iters < 1:\n",
    "        display(dr.grad(opt[key]))\n",
    "        dr.set_grad(opt[key], 0)\n",
    "    else:\n",
    "        opt.step()\n",
    "        opt[key] = dr.clamp(opt[key], 0.0, 1.0)\n",
    "        params.update(opt)\n",
    "\n",
    "        vals.append(params[key].numpy())\n",
    "        losses.append(l.numpy()[0])\n",
    "\n",
    "        ax1.clear()\n",
    "        ax1.plot(vals)\n",
    "        ax1.hlines([0.75, 0.1], 0, n, colors='k', linestyles='dotted')\n",
    "        ax1.set_xlim(-n * 0.02, n * 1.02)\n",
    "        ax1.set_ylim(-0.1, 1.1)\n",
    "        ax2.clear()\n",
    "        ax2.plot(losses)\n",
    "        ax2.set_xlim(-1, n)\n",
    "        fig.canvas.draw()"
   ]
  },
  {
   "cell_type": "code",
   "execution_count": null,
   "metadata": {},
   "outputs": [],
   "source": [
    "if iters > 1:\n",
    "    losses = np.array(losses)\n",
    "    vals   = np.array(vals)\n",
    "    data   = np.hstack([losses[:, None], vals])\n",
    "    # np.save(\"/home/daniel/diff-absorption-edc-0_5s.npy\", data)"
   ]
  },
  {
   "cell_type": "code",
   "execution_count": null,
   "metadata": {},
   "outputs": [],
   "source": [
    "# a = [0.1,  0.75, 0.1 , 0.75,  0.1,  0.75]\n",
    "# s = [0.5,  0.5 , 0.75, 0.75,  1. ,  1.  ]\n",
    "\n",
    "# PRB - 5s fuer 10 iters, 1027 MiB GPU (unchanged to idle)\n",
    "# without any dr.jit optims: 16s (ca. 3x so lange)\n",
    "# [43.57299041748047, -26.953903198242188,\n",
    "#  72.29619598388672, -45.544830322265625,\n",
    "# 108.41382598876953, -67.37712097167969]\n",
    "\n",
    "# acousticpath (AD) - >20min fuer 10 iters, 9930 MiB GPU\n",
    "# [120.82818603515625, -79.3001937866211,\n",
    "#  120.27494812011719, -74.47596740722656,\n",
    "#  110.60392761230469, -68.03990936279297]"
   ]
  },
  {
   "cell_type": "markdown",
   "metadata": {},
   "source": [
    "### Estimated (Forward) Gradients vs. Finite Differences"
   ]
  },
  {
   "cell_type": "code",
   "execution_count": null,
   "metadata": {},
   "outputs": [],
   "source": [
    "a    = np.array([0.1, 0.1, 0.7, 0.7])\n",
    "si   = np.array([1,     2,   1,   2], dtype=np.uint)\n",
    "\n",
    "data = np.zeros((2, 2, a.shape[0], config[\"time_bins\"]))\n",
    "\n",
    "for t, sign in enumerate([1., -1.]):\n",
    "    for k in range(a.shape[0]):\n",
    "        # forward pass\n",
    "        vals     = mi.Float([a[k]] * config[\"wav_bins\"])\n",
    "        opt[key] = vals\n",
    "        params.update(opt)\n",
    "\n",
    "        grad              = dr.zeros(mi.Float, config[\"wav_bins\"])\n",
    "        grad[int(si[k])]  = sign\n",
    "        dr.set_grad(opt[key], grad)\n",
    "\n",
    "        img               = mi.render(scene, params, seed=sess_seed, seed_grad=sess_seed_g)\n",
    "        grad              = dr.forward_to(img * dr.rcp(config[\"spp\"]))\n",
    "        data[0, t, k]     = grad[:, int(si[k]), 0].numpy()\n",
    "\n",
    "        # finite differences\n",
    "        vals              = mi.Float([a[k]] * config[\"wav_bins\"])\n",
    "        opt[key]          = vals\n",
    "        params.update(opt)\n",
    "        img               = mi.render(scene, seed=sess_seed)\n",
    "\n",
    "        vals              = mi.Float([a[k]] * config[\"wav_bins\"])\n",
    "        vals[int(si[k])]  = a[k] + sign * 1e-4\n",
    "        opt[key]          = vals\n",
    "        params.update(opt)\n",
    "        finite_difference = mi.render(scene, seed=sess_seed) - img\n",
    "        data[1, t, k]     = finite_difference[:, int(si[k]), 0].numpy()\n",
    "\n",
    "# np.save(\"/home/daniel/diff-absorption-fd-vs-forward.npy\", data)"
   ]
  },
  {
   "cell_type": "code",
   "execution_count": null,
   "metadata": {},
   "outputs": [],
   "source": [
    "fig, ((ax1, ax2), (ax3, ax4)) = plt.subplots(2, 2, figsize=(12, 8), sharex=True, sharey=False)\n",
    "\n",
    "# ax1.plot(data[:, 0, [0, 1]].T.reshape((config[\"time_bins\"], -1)))\n",
    "# ax2.plot(data[:, 0, [2, 3]].T.reshape((config[\"time_bins\"], -1)))\n",
    "# ax3.plot(data[:, 1, [0, 1]].T.reshape((config[\"time_bins\"], -1)))\n",
    "# ax4.plot(data[:, 1, [2, 3]].T.reshape((config[\"time_bins\"], -1)))\n",
    "ax1.plot(data[0, 0].T.reshape((config[\"time_bins\"], -1)))\n",
    "ax2.plot(data[1, 0].T.reshape((config[\"time_bins\"], -1)))\n",
    "ax3.plot(data[0, 1].T.reshape((config[\"time_bins\"], -1)))\n",
    "ax4.plot(data[1, 1].T.reshape((config[\"time_bins\"], -1)))\n",
    "\n",
    "fig.show()"
   ]
  },
  {
   "cell_type": "code",
   "execution_count": null,
   "metadata": {},
   "outputs": [],
   "source": [
    "utils.plot_hist(grad[:, :, 0], **config)\n",
    "utils.plot_hist(finite_difference[:, :, 0], **config)"
   ]
  },
  {
   "cell_type": "code",
   "execution_count": null,
   "metadata": {},
   "outputs": [],
   "source": []
  }
 ],
 "metadata": {
  "kernelspec": {
   "display_name": "Python 3 (ipykernel)",
   "language": "python",
   "name": "python3"
  },
  "widgets": {
   "application/vnd.jupyter.widget-state+json": {
    "state": {
     "07ec54878c3c410ca11e8b72444a00e8": {
      "model_module": "@jupyter-widgets/controls",
      "model_module_version": "1.5.0",
      "model_name": "ProgressStyleModel",
      "state": {
       "description_width": ""
      }
     },
     "0c35e343c7ef48baa2f16a89425e45c9": {
      "model_module": "@jupyter-widgets/base",
      "model_module_version": "1.2.0",
      "model_name": "LayoutModel",
      "state": {
       "width": "100%"
      }
     },
     "121009d8ad1a400bb0faff5650af82b3": {
      "model_module": "@jupyter-widgets/base",
      "model_module_version": "1.2.0",
      "model_name": "LayoutModel",
      "state": {}
     },
     "148400d8a7d44374a39589fb0c0d7d46": {
      "model_module": "@jupyter-widgets/base",
      "model_module_version": "1.2.0",
      "model_name": "LayoutModel",
      "state": {
       "width": "100%"
      }
     },
     "1bf5946071df47e686b46976c829f4d0": {
      "model_module": "@jupyter-widgets/base",
      "model_module_version": "1.2.0",
      "model_name": "LayoutModel",
      "state": {}
     },
     "2262fd9b5af64b308ea9fd1d5b0b0494": {
      "model_module": "@jupyter-widgets/controls",
      "model_module_version": "1.5.0",
      "model_name": "FloatProgressModel",
      "state": {
       "bar_style": "success",
       "layout": "IPY_MODEL_0c35e343c7ef48baa2f16a89425e45c9",
       "max": 1,
       "style": "IPY_MODEL_64638caeb3de4839809e4dae0dc2b071",
       "value": 1
      }
     },
     "328d9c2dbd124dc19ae91ce0cb551403": {
      "model_module": "@jupyter-widgets/controls",
      "model_module_version": "1.5.0",
      "model_name": "VBoxModel",
      "state": {
       "children": [
        "IPY_MODEL_493c51e117d545a799ea5a57b9bfb258",
        "IPY_MODEL_bc89b3250375423e82db58560d690de3"
       ],
       "layout": "IPY_MODEL_4352d146b8ac4b478de6fb1778cd5d41"
      }
     },
     "384ad0e5d7934e3b89951358a9d19186": {
      "model_module": "@jupyter-widgets/controls",
      "model_module_version": "1.5.0",
      "model_name": "VBoxModel",
      "state": {
       "children": [
        "IPY_MODEL_cfb38214efa947568144d4522d548de6",
        "IPY_MODEL_c689f166d13242938ff57a24b0817d41"
       ],
       "layout": "IPY_MODEL_121009d8ad1a400bb0faff5650af82b3"
      }
     },
     "4352d146b8ac4b478de6fb1778cd5d41": {
      "model_module": "@jupyter-widgets/base",
      "model_module_version": "1.2.0",
      "model_name": "LayoutModel",
      "state": {}
     },
     "493c51e117d545a799ea5a57b9bfb258": {
      "model_module": "@jupyter-widgets/controls",
      "model_module_version": "1.5.0",
      "model_name": "HTMLModel",
      "state": {
       "layout": "IPY_MODEL_a3f5661d51064b2eb0e9ef5d1b0bb8aa",
       "style": "IPY_MODEL_b6610365565e4df1ab9f0dacfc0ee04a",
       "value": "Rendering (13.9s, ETA: 0ms)"
      }
     },
     "5ca4d20425df44658fb252c281f019fd": {
      "model_module": "@jupyter-widgets/base",
      "model_module_version": "1.2.0",
      "model_name": "LayoutModel",
      "state": {
       "width": "100%"
      }
     },
     "5ead71d75c28401eb61aaec2db79be71": {
      "model_module": "@jupyter-widgets/controls",
      "model_module_version": "1.5.0",
      "model_name": "HTMLModel",
      "state": {
       "layout": "IPY_MODEL_1bf5946071df47e686b46976c829f4d0",
       "style": "IPY_MODEL_f87d0eda3bba45a6b5101e92ec75ab51",
       "value": "Rendering (13.9s, ETA: 0ms)"
      }
     },
     "64638caeb3de4839809e4dae0dc2b071": {
      "model_module": "@jupyter-widgets/controls",
      "model_module_version": "1.5.0",
      "model_name": "ProgressStyleModel",
      "state": {
       "description_width": ""
      }
     },
     "64e097a514c04437bf30f0d12463d973": {
      "model_module": "@jupyter-widgets/controls",
      "model_module_version": "1.5.0",
      "model_name": "FloatProgressModel",
      "state": {
       "bar_style": "success",
       "layout": "IPY_MODEL_5ca4d20425df44658fb252c281f019fd",
       "max": 1,
       "style": "IPY_MODEL_07ec54878c3c410ca11e8b72444a00e8",
       "value": 1
      }
     },
     "6c57fb913d8b47c7ad6a2129294b7f4a": {
      "model_module": "@jupyter-widgets/controls",
      "model_module_version": "1.5.0",
      "model_name": "VBoxModel",
      "state": {
       "children": [
        "IPY_MODEL_c93f1917313f474c96018ef6f4db65b3",
        "IPY_MODEL_e1ec3d6d53ce43e386de054ab61583b5"
       ],
       "layout": "IPY_MODEL_cdad0127f4f6443a8643eec4140c2b50"
      }
     },
     "76ef1ebaa1c34d4ca27c8fda94d21eae": {
      "model_module": "@jupyter-widgets/base",
      "model_module_version": "1.2.0",
      "model_name": "LayoutModel",
      "state": {}
     },
     "7995615f2c5648de87bc7080ce7043aa": {
      "model_module": "@jupyter-widgets/base",
      "model_module_version": "1.2.0",
      "model_name": "LayoutModel",
      "state": {}
     },
     "7b6bc4d7291243dcb4838f1745959151": {
      "model_module": "@jupyter-widgets/base",
      "model_module_version": "1.2.0",
      "model_name": "LayoutModel",
      "state": {}
     },
     "895ccf032eb44c24a5e60315ff3eba16": {
      "model_module": "@jupyter-widgets/base",
      "model_module_version": "1.2.0",
      "model_name": "LayoutModel",
      "state": {
       "width": "100%"
      }
     },
     "9b86f1cff37c4fdc9e619cd95a70a256": {
      "model_module": "@jupyter-widgets/controls",
      "model_module_version": "1.5.0",
      "model_name": "DescriptionStyleModel",
      "state": {
       "description_width": ""
      }
     },
     "a3f5661d51064b2eb0e9ef5d1b0bb8aa": {
      "model_module": "@jupyter-widgets/base",
      "model_module_version": "1.2.0",
      "model_name": "LayoutModel",
      "state": {}
     },
     "a40669281c224b5f85fa4485491c3950": {
      "model_module": "@jupyter-widgets/controls",
      "model_module_version": "1.5.0",
      "model_name": "VBoxModel",
      "state": {
       "children": [
        "IPY_MODEL_d7bb96993f3a4db4bb2aa71270257a1b",
        "IPY_MODEL_64e097a514c04437bf30f0d12463d973"
       ],
       "layout": "IPY_MODEL_76ef1ebaa1c34d4ca27c8fda94d21eae"
      }
     },
     "a6576f2dd3604fb79879caa19911b935": {
      "model_module": "@jupyter-widgets/controls",
      "model_module_version": "1.5.0",
      "model_name": "ProgressStyleModel",
      "state": {
       "description_width": ""
      }
     },
     "b6610365565e4df1ab9f0dacfc0ee04a": {
      "model_module": "@jupyter-widgets/controls",
      "model_module_version": "1.5.0",
      "model_name": "DescriptionStyleModel",
      "state": {
       "description_width": ""
      }
     },
     "b91e3ad4740c42798db154827fbe5477": {
      "model_module": "@jupyter-widgets/controls",
      "model_module_version": "1.5.0",
      "model_name": "DescriptionStyleModel",
      "state": {
       "description_width": ""
      }
     },
     "bc89b3250375423e82db58560d690de3": {
      "model_module": "@jupyter-widgets/controls",
      "model_module_version": "1.5.0",
      "model_name": "FloatProgressModel",
      "state": {
       "bar_style": "success",
       "layout": "IPY_MODEL_148400d8a7d44374a39589fb0c0d7d46",
       "max": 1,
       "style": "IPY_MODEL_e4fb04aa19fd44a49f0fdd5e9a4fa9fd",
       "value": 1
      }
     },
     "c689f166d13242938ff57a24b0817d41": {
      "model_module": "@jupyter-widgets/controls",
      "model_module_version": "1.5.0",
      "model_name": "FloatProgressModel",
      "state": {
       "bar_style": "success",
       "layout": "IPY_MODEL_f1cc99986b0b46b58cae7fd82c5aad84",
       "max": 1,
       "style": "IPY_MODEL_e609a9ba6dff485bbde84e1fe599b2ba",
       "value": 1
      }
     },
     "c93f1917313f474c96018ef6f4db65b3": {
      "model_module": "@jupyter-widgets/controls",
      "model_module_version": "1.5.0",
      "model_name": "HTMLModel",
      "state": {
       "layout": "IPY_MODEL_ea57520c73bb4bf49de6ef0ab85b5fd5",
       "style": "IPY_MODEL_9b86f1cff37c4fdc9e619cd95a70a256",
       "value": "Rendering (34.1s, ETA: 0ms)"
      }
     },
     "cdad0127f4f6443a8643eec4140c2b50": {
      "model_module": "@jupyter-widgets/base",
      "model_module_version": "1.2.0",
      "model_name": "LayoutModel",
      "state": {}
     },
     "cfb38214efa947568144d4522d548de6": {
      "model_module": "@jupyter-widgets/controls",
      "model_module_version": "1.5.0",
      "model_name": "HTMLModel",
      "state": {
       "layout": "IPY_MODEL_f92a16e114714e9e82f1e60a0980cb2d",
       "style": "IPY_MODEL_e11cbf07e2d240348cdc470bd4f234e7",
       "value": "Rendering (13.8s, ETA: 0ms)"
      }
     },
     "d7bb96993f3a4db4bb2aa71270257a1b": {
      "model_module": "@jupyter-widgets/controls",
      "model_module_version": "1.5.0",
      "model_name": "HTMLModel",
      "state": {
       "layout": "IPY_MODEL_7995615f2c5648de87bc7080ce7043aa",
       "style": "IPY_MODEL_b91e3ad4740c42798db154827fbe5477",
       "value": "Rendering (14s, ETA: 0ms)"
      }
     },
     "d827ae3e316a4961b44fc24c2ef633a7": {
      "model_module": "@jupyter-widgets/controls",
      "model_module_version": "1.5.0",
      "model_name": "VBoxModel",
      "state": {
       "children": [
        "IPY_MODEL_5ead71d75c28401eb61aaec2db79be71",
        "IPY_MODEL_2262fd9b5af64b308ea9fd1d5b0b0494"
       ],
       "layout": "IPY_MODEL_7b6bc4d7291243dcb4838f1745959151"
      }
     },
     "e11cbf07e2d240348cdc470bd4f234e7": {
      "model_module": "@jupyter-widgets/controls",
      "model_module_version": "1.5.0",
      "model_name": "DescriptionStyleModel",
      "state": {
       "description_width": ""
      }
     },
     "e1ec3d6d53ce43e386de054ab61583b5": {
      "model_module": "@jupyter-widgets/controls",
      "model_module_version": "1.5.0",
      "model_name": "FloatProgressModel",
      "state": {
       "bar_style": "success",
       "layout": "IPY_MODEL_895ccf032eb44c24a5e60315ff3eba16",
       "max": 1,
       "style": "IPY_MODEL_a6576f2dd3604fb79879caa19911b935",
       "value": 1
      }
     },
     "e4fb04aa19fd44a49f0fdd5e9a4fa9fd": {
      "model_module": "@jupyter-widgets/controls",
      "model_module_version": "1.5.0",
      "model_name": "ProgressStyleModel",
      "state": {
       "description_width": ""
      }
     },
     "e609a9ba6dff485bbde84e1fe599b2ba": {
      "model_module": "@jupyter-widgets/controls",
      "model_module_version": "1.5.0",
      "model_name": "ProgressStyleModel",
      "state": {
       "description_width": ""
      }
     },
     "ea57520c73bb4bf49de6ef0ab85b5fd5": {
      "model_module": "@jupyter-widgets/base",
      "model_module_version": "1.2.0",
      "model_name": "LayoutModel",
      "state": {}
     },
     "f1cc99986b0b46b58cae7fd82c5aad84": {
      "model_module": "@jupyter-widgets/base",
      "model_module_version": "1.2.0",
      "model_name": "LayoutModel",
      "state": {
       "width": "100%"
      }
     },
     "f87d0eda3bba45a6b5101e92ec75ab51": {
      "model_module": "@jupyter-widgets/controls",
      "model_module_version": "1.5.0",
      "model_name": "DescriptionStyleModel",
      "state": {
       "description_width": ""
      }
     },
     "f92a16e114714e9e82f1e60a0980cb2d": {
      "model_module": "@jupyter-widgets/base",
      "model_module_version": "1.2.0",
      "model_name": "LayoutModel",
      "state": {}
     }
    },
    "version_major": 2,
    "version_minor": 0
   }
  }
 },
 "nbformat": 4,
 "nbformat_minor": 4
}
