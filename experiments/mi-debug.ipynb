{
 "cells": [
  {
   "cell_type": "markdown",
   "id": "c3f088e7-1af5-4c3e-9237-28f511e57f56",
   "metadata": {},
   "source": [
    "## Import & Setup"
   ]
  },
  {
   "cell_type": "code",
   "execution_count": null,
   "id": "102464a7-3f1f-44b9-bbb3-e0f84c5d3f54",
   "metadata": {
    "tags": []
   },
   "outputs": [],
   "source": [
    "# from tqdm import trange\n",
    "import numpy as np\n",
    "import matplotlib.pyplot as plt\n",
    "\n",
    "import drjit as dr\n",
    "import mitsuba as mi\n",
    "\n",
    "from libs import utils\n",
    "\n",
    "mi.set_log_level(mi.LogLevel.Info)\n",
    "plt.style.use('ggplot')"
   ]
  },
  {
   "cell_type": "code",
   "execution_count": null,
   "id": "5fc1170f-c32f-4dcb-85db-4bc957499b09",
   "metadata": {
    "tags": []
   },
   "outputs": [],
   "source": [
    "mi_var = ['scalar_rgb', 'cuda_ad_rgb', 'cuda_ad_acoustic'][2]\n",
    "mi.set_variant(mi_var)\n",
    "print(f\"Mitsuba variant set to '{mi_var}'\")"
   ]
  },
  {
   "cell_type": "markdown",
   "id": "3e488cb6",
   "metadata": {},
   "source": [
    "## Batch Sensor"
   ]
  },
  {
   "cell_type": "code",
   "execution_count": null,
   "id": "b8677e01",
   "metadata": {},
   "outputs": [],
   "source": [
    "scene = mi.load_dict({\n",
    "    \"type\": \"scene\",\n",
    "    \"integrator\": {\n",
    "        \"type\": \"prb_acoustic\",\n",
    "        \"max_time\": 1,\n",
    "        \"max_depth\": 150,\n",
    "    },\n",
    "    \"sensor\": {\n",
    "        \"type\": \"batch\",\n",
    "        \"micA\": {\n",
    "            \"type\": \"microphone\",\n",
    "            \"to_world\": mi.ScalarTransform4f.translate([1, 0, 0]),\n",
    "        },\n",
    "        \"micB\": {\n",
    "            \"type\": \"microphone\",\n",
    "            \"to_world\": mi.ScalarTransform4f.translate([0, 0, 1]),\n",
    "        },\n",
    "        \"tape\": {\n",
    "            \"type\": \"tape\",\n",
    "            \"wav_bins\":  4,\n",
    "            \"time_bins\": 10,\n",
    "            \"rfilter\": { \"type\": \"box\" },\n",
    "            \"count\": True\n",
    "        },\n",
    "        \"sampler\": { \"type\": \"ldsampler\", \"sample_count\": 4 },\n",
    "    }\n",
    "})"
   ]
  },
  {
   "cell_type": "code",
   "execution_count": null,
   "id": "37ac786e",
   "metadata": {},
   "outputs": [],
   "source": [
    "sensor  = scene.sensors()[0]\n",
    "film    = sensor.film()\n",
    "sampler = sensor.sampler()\n",
    "\n",
    "spp = sampler.sample_count()\n",
    "sampler.set_samples_per_wavefront(spp)\n",
    "\n",
    "film_size = film.crop_size()\n",
    "wavefront_size = film_size.x * spp\n",
    "\n",
    "sampler.seed(0, wavefront_size)\n",
    "\n",
    "idx = dr.arange(mi.UInt32, film_size.x * spp)\n",
    "\n",
    "log_spp = dr.log2i(spp)\n",
    "if 1 << log_spp == spp:\n",
    "    idx >>= dr.opaque(mi.UInt32, log_spp)\n",
    "else:\n",
    "    idx //= dr.opaque(mi.UInt32, spp)\n",
    "\n",
    "# Compute the position on the image plane\n",
    "pos = mi.Vector2i(idx, 0 * idx)\n",
    "\n",
    "scale = dr.rcp(mi.ScalarVector2f(film.crop_size()))\n",
    "pos_adjusted = mi.Vector2f(pos) * scale\n",
    "\n",
    "sensor.sample_ray_differential(\n",
    "    time=0.0,\n",
    "    sample1=mi.Float(idx) + 1.,\n",
    "    sample2=pos_adjusted,\n",
    "    sample3=sampler.next_2d(),\n",
    "    active=True\n",
    ")[0]"
   ]
  },
  {
   "cell_type": "code",
   "execution_count": null,
   "id": "478ef575",
   "metadata": {},
   "outputs": [],
   "source": [
    "prb     = scene.integrator()\n",
    "sensor  = scene.sensors()[0]\n",
    "sampler, spp = prb.prepare(sensor, seed=0, spp=4)\n",
    "ray, w, p, det = prb.sample_rays(scene=scene, sensor=sensor, sampler=sampler, reparam=None)"
   ]
  },
  {
   "cell_type": "markdown",
   "id": "9f57dbbc-979c-4bec-adc8-06b45789e0c7",
   "metadata": {},
   "source": [
    "## Basic scene (coordinates)"
   ]
  },
  {
   "cell_type": "code",
   "execution_count": null,
   "id": "b217c833-a714-449c-930e-d682a5598f0f",
   "metadata": {
    "jupyter": {
     "source_hidden": true
    }
   },
   "outputs": [],
   "source": [
    "cube_scene = {\n",
    "    \"type\": \"scene\",\n",
    "    \"integrator\": {\n",
    "        \"type\": \"path\",\n",
    "        \"max_depth\": 8,\n",
    "        \"hide_emitters\": True,\n",
    "    },\n",
    "    \"sensor\": {\n",
    "        \"type\": \"perspective\",\n",
    "        \"near_clip\": 0.1,\n",
    "        \"far_clip\": 100.,\n",
    "        \"to_world\": mi.ScalarTransform4f.look_at(\n",
    "            origin=[0, 0, 0],\n",
    "            target=[0, 0, 1],\n",
    "            up=[0, 1, 0]\n",
    "        ),\n",
    "        \"film\": {\n",
    "            \"type\": \"hdrfilm\",\n",
    "            \"rfilter\": {\n",
    "                \"type\": \"gaussian\"\n",
    "            },\n",
    "            \"width\": 1024,\n",
    "            \"height\": 768,\n",
    "        },\n",
    "        \"sampler\": {\n",
    "            \"type\": \"independent\",\n",
    "            \"sample_count\": 128,\n",
    "        },\n",
    "    },\n",
    "    \"emitter\": {\n",
    "        \"type\": \"constant\",\n",
    "        \"radiance\": {\n",
    "            \"type\": \"spectrum\",\n",
    "            \"value\": 0.99,\n",
    "        }\n",
    "    },\n",
    "    \"cube\": {\n",
    "        \"type\": \"cube\",\n",
    "        \"to_world\": mi.ScalarTransform4f.translate([0., 0., 10.]),\n",
    "        \"bsdf\": {\n",
    "            \"type\": \"diffuse\",\n",
    "            \"reflectance\": {\n",
    "                \"type\": \"srgb\",\n",
    "                \"color\": [.1, .1, .9],\n",
    "            },\n",
    "        },\n",
    "    },\n",
    "}"
   ]
  },
  {
   "cell_type": "code",
   "execution_count": null,
   "id": "05970964-95d9-4d7a-9f01-80817eed283a",
   "metadata": {},
   "outputs": [],
   "source": [
    "#scene = mi.load_file(\"mitsuba_debug.xml\")\n",
    "scene = mi.load_dict(cube_scene)\n",
    "#params = mi.traverse(scene)\n",
    "img = mi.render(scene)\n",
    "mi.Bitmap(img)"
   ]
  },
  {
   "cell_type": "markdown",
   "id": "9ee484ce-c798-4ddf-a0a5-6b0e2b6c237f",
   "metadata": {},
   "source": [
    "## ImageBlock"
   ]
  },
  {
   "cell_type": "markdown",
   "metadata": {},
   "source": [
    "### General"
   ]
  },
  {
   "cell_type": "code",
   "execution_count": null,
   "id": "c83a3514-ea74-44fa-8b46-e837b812769d",
   "metadata": {},
   "outputs": [],
   "source": [
    "imb = mi.ImageBlock(size=[3, 2], offset=[0, 0], channel_count=1, coalesce=False)\n",
    "\n",
    "p = mi.Point2u([\n",
    "    [0, 1, 2],\n",
    "    [0, 0, 0]\n",
    "])\n",
    "x = mi.Float([1., 2., 3.])\n",
    "\n",
    "imb.put(pos=p, values=[x])\n",
    "np.array(imb.tensor())[:, :, 0]"
   ]
  },
  {
   "cell_type": "code",
   "execution_count": null,
   "id": "dae3b81e-c798-4618-80e9-cfdc9254f1f6",
   "metadata": {},
   "outputs": [],
   "source": [
    "time_bins, wav_bins = 6, 3\n",
    "imb = mi.ImageBlock([time_bins, wav_bins], [0, 0], 2, coalesce=False)\n",
    "imb"
   ]
  },
  {
   "cell_type": "code",
   "execution_count": null,
   "id": "9c084553-c9e4-4134-a934-0dcf77e7b5b8",
   "metadata": {},
   "outputs": [],
   "source": [
    "x = mi.Float([1., 2., 3.])\n",
    "imb.put(p, [x, mi.Float(1.)])\n",
    "np.array(imb.tensor())[:, :, 0]"
   ]
  },
  {
   "cell_type": "code",
   "execution_count": null,
   "id": "378e1ad5-f8e3-4037-b037-6b5c68d6128d",
   "metadata": {},
   "outputs": [],
   "source": [
    "imb  = mi.ImageBlock([6, 4], [0, 0], 1, coalesce=False)\n",
    "imb2 = mi.ImageBlock([6, 1], [0, 2], 1, coalesce=False)\n",
    "\n",
    "p = mi.Point2u([\n",
    "    [0, 1, 2],\n",
    "    [2, 2, 2]\n",
    "])\n",
    "x = mi.Float([1., 2., 3.])\n",
    "\n",
    "imb2.put(pos=p, values=[x], active=True)\n",
    "np.array(imb2.tensor())[:, :, 0]"
   ]
  },
  {
   "cell_type": "code",
   "execution_count": null,
   "id": "679ea3c8-c922-4c06-bf29-dfc4c6e273d3",
   "metadata": {},
   "outputs": [],
   "source": [
    "imb.put_block(imb2)\n",
    "np.array(imb.tensor())[:, :, 0]"
   ]
  },
  {
   "cell_type": "code",
   "execution_count": null,
   "id": "8df86b12",
   "metadata": {},
   "outputs": [],
   "source": [
    "film = mi.load_dict({\n",
    "    \"type\": \"tape\",\n",
    "    \"wav_bins\": 2,\n",
    "    \"time_bins\": 4,\n",
    "    \"rfilter\": { \"type\": \"box\" },\n",
    "    \"count\": True\n",
    "})\n",
    "film.prepare([])\n",
    "\n",
    "imb  = film.create_block()\n",
    "imb2 = film.create_block()\n",
    "\n",
    "p = mi.Point2u([\n",
    "    [1, 1, 1, 1], # wav_bins  = x\n",
    "    [0, 1, 2, 1]  # time_bins = y\n",
    "])\n",
    "imb.put(pos=p, values=mi.Vector2f(mi.Float([1., 2., 3., -1.]), mi.Float(1.)), active=True)\n",
    "display(imb.tensor()[:, :, 1].numpy())\n",
    "\n",
    "x = imb.tensor()[:, :, 0].array\n",
    "y = imb.tensor()[:, :, 1].array\n",
    "\n",
    "p = mi.Point2u(dr.meshgrid(\n",
    "    dr.arange(mi.UInt32, film.crop_size().x),\n",
    "    dr.arange(mi.UInt32, film.crop_size().y),\n",
    "))\n",
    "imb2.put(pos=p, values=mi.Vector2f(x, y), active=True)\n",
    "\n",
    "assert dr.all(dr.eq(imb.tensor(), imb2.tensor()))"
   ]
  },
  {
   "cell_type": "code",
   "execution_count": null,
   "id": "984e8bc2",
   "metadata": {},
   "outputs": [],
   "source": [
    "p = mi.Point2u([\n",
    "    [1, 1, 1], # wav_bins  = x\n",
    "    [0, 1, 2]  # time_bins = y\n",
    "])\n",
    "imb.read(pos=p)"
   ]
  },
  {
   "cell_type": "code",
   "execution_count": null,
   "id": "2a17a58f",
   "metadata": {},
   "outputs": [],
   "source": [
    "film = mi.load_dict({\n",
    "    \"type\": \"hdrfilm\",\n",
    "    \"width\": 2,\n",
    "    \"height\": 2,\n",
    "    \"rfilter\": { \"type\": \"box\" },\n",
    "})\n",
    "film.prepare([])\n",
    "\n",
    "rgb = mi.Spectrum([np.random.rand(8), np.random.rand(8), np.random.rand(8)])\n",
    "p   = mi.Point2u([0, 0, 1, 1, 0, 0, 1, 1], [0, 1, 0, 1, 0, 1, 0, 1])\n",
    "det = mi.Float(np.random.rand(8))"
   ]
  },
  {
   "cell_type": "markdown",
   "metadata": {},
   "source": [
    "### Weighting"
   ]
  },
  {
   "cell_type": "code",
   "execution_count": null,
   "id": "6e592fc6",
   "metadata": {},
   "outputs": [],
   "source": [
    "block = film.create_block()\n",
    "block2 = film.create_block()\n",
    "\n",
    "block.put(\n",
    "    pos=p,\n",
    "    wavelengths=mi.Color0f(),\n",
    "    value=rgb,\n",
    "    # weight=1.0,\n",
    "    # alpha=1.0\n",
    ")\n",
    "\n",
    "block2.put(\n",
    "    pos=p,\n",
    "    wavelengths=mi.Float(),\n",
    "    value=rgb * det,\n",
    "    weight=det,\n",
    "    alpha=1.0\n",
    ")\n",
    "\n",
    "film.clear()\n",
    "film.put_block(block)\n",
    "img = film.develop()\n",
    "\n",
    "film.clear()\n",
    "film.put_block(block2)\n",
    "img2 = film.develop()\n",
    "\n",
    "rgb_det     = rgb * det\n",
    "idx         = dr.arange(mi.UInt32, 4)\n",
    "rgb_sum     = dr.gather(mi.Spectrum, rgb,     idx) + dr.gather(mi.Spectrum, rgb,     4 + idx)\n",
    "rgb_det_sum = dr.gather(mi.Spectrum, rgb_det, idx) + dr.gather(mi.Spectrum, rgb_det, 4 + idx)\n",
    "det_sum     = dr.gather(mi.Float,    det,     idx) + dr.gather(mi.Float,    det,     4 + idx)\n",
    "\n",
    "display(dr.unravel(mi.Spectrum, img.array))\n",
    "display(rgb_sum / 2.)\n",
    "\n",
    "display(dr.unravel(mi.Spectrum, img2.array))\n",
    "display(rgb_det_sum / det_sum)"
   ]
  },
  {
   "cell_type": "markdown",
   "metadata": {},
   "source": [
    "### Reconstruction Filter"
   ]
  },
  {
   "cell_type": "code",
   "execution_count": null,
   "metadata": {},
   "outputs": [],
   "source": [
    "utils.drjit_turn_off_optimizations(False)"
   ]
  },
  {
   "cell_type": "code",
   "execution_count": null,
   "metadata": {},
   "outputs": [],
   "source": [
    "film = mi.load_dict({\n",
    "    \"type\": \"tape\",\n",
    "    \"wav_bins\":  21,\n",
    "    \"time_bins\": 21,\n",
    "    \"rfilter\": { \"type\": \"gaussian\", \"stddev\": 1.0 },\n",
    "    # \"rfilter\": { \"type\": \"tent\" },\n",
    "    \"count\": True\n",
    "})\n",
    "\n",
    "film.prepare([])\n",
    "\n",
    "imb = mi.ImageBlock(size=[11, 11], offset=[0, 0], channel_count=2, coalesce=False, rfilter=film.rfilter(), y_only=True)\n",
    "# imb = film.create_block()\n",
    "# imb"
   ]
  },
  {
   "cell_type": "code",
   "execution_count": null,
   "metadata": {},
   "outputs": [],
   "source": [
    "p = mi.Point2f(5.2, 5.2)\n",
    "x = mi.Float([100])\n",
    "\n",
    "imb.put(pos=p, values=[x, 0])\n",
    "img = np.array(imb.tensor())[:, :, 0]\n",
    "\n",
    "plt.imshow(img, interpolation='none', cmap=\"inferno\")\n",
    "plt.axis(\"off\")\n",
    "plt.show()"
   ]
  },
  {
   "cell_type": "code",
   "execution_count": null,
   "metadata": {},
   "outputs": [],
   "source": [
    "X = np.zeros((21, 11, 1))\n",
    "X[5, 5] = 100\n",
    "imb = mi.ImageBlock(mi.TensorXf(X), rfilter=film.rfilter(), y_only=True)\n",
    "img = np.zeros_like(X)\n",
    "for i in range(X.shape[0]):\n",
    "    for j in range(X.shape[1]):\n",
    "        p = mi.Point2f(j, i)\n",
    "        img[i, j] = imb.read(pos=p)[0].numpy()\n",
    "\n",
    "fig, (ax1, ax2) = plt.subplots(1, 2)\n",
    "\n",
    "ax1.imshow(imb.tensor().numpy()[:, :, 0], interpolation='none', cmap=\"inferno\")\n",
    "ax1.axis(\"off\")\n",
    "\n",
    "ax2.imshow(img[:, :, 0], interpolation='none', cmap=\"inferno\")\n",
    "ax2.axis(\"off\")\n",
    "\n",
    "plt.show()"
   ]
  },
  {
   "cell_type": "markdown",
   "id": "cfb7883d-6016-4308-9204-2d350d603d4d",
   "metadata": {},
   "source": [
    "## Shapes"
   ]
  },
  {
   "cell_type": "code",
   "execution_count": null,
   "id": "1a908d4f-69fd-4268-ab7f-b4bb58ed9578",
   "metadata": {},
   "outputs": [],
   "source": [
    "cube = mi.load_dict({ \"type\": \"cube\" })\n",
    "cube.vertex_position(dr.arange(mi.Float, cube.vertex_count()))"
   ]
  },
  {
   "cell_type": "code",
   "execution_count": null,
   "id": "73e2b2ea-cc8c-4abf-b5e5-74f3cdcd9d37",
   "metadata": {},
   "outputs": [],
   "source": [
    "cube.vertex_normal(dr.arange(mi.Float, 24))"
   ]
  },
  {
   "cell_type": "markdown",
   "metadata": {},
   "source": [
    "## Warp"
   ]
  },
  {
   "cell_type": "code",
   "execution_count": null,
   "metadata": {},
   "outputs": [],
   "source": [
    "sampler = mi.load_dict({ \"type\": \"stratified\", \"sample_count\": 2 ** 10 })\n",
    "sampler.seed(0, 2**14)\n",
    "S = sampler.next_2d()"
   ]
  },
  {
   "cell_type": "code",
   "execution_count": null,
   "metadata": {},
   "outputs": [],
   "source": [
    "X = mi.warp.square_to_uniform_cone(S, 0.7)\n",
    "\n",
    "X = mi.Transform4f.rotate(axis=[0, 1, 0], angle=0) @ X\n",
    "\n",
    "X = X.numpy()\n",
    "\n",
    "fig = plt.figure(figsize=(8, 8))\n",
    "ax = fig.add_subplot(projection='3d')\n",
    "ax.scatter(X[:, 0], X[:, 1], X[:, 2], s=5.0, c=X[:, 0])\n",
    "ax.set_xlim(-1., 1.)\n",
    "ax.set_ylim(-1., 1.)\n",
    "ax.set_zlim(-1., 1.)\n",
    "ax.set_xlabel(\"x\")\n",
    "ax.set_ylabel(\"y\")\n",
    "ax.set_zlabel(\"z\")\n",
    "fig.show()"
   ]
  },
  {
   "cell_type": "markdown",
   "id": "e5dd452f-3444-489d-b1a0-c063ecb286b7",
   "metadata": {},
   "source": [
    "## Dr.Jit Differentiation"
   ]
  },
  {
   "cell_type": "code",
   "execution_count": null,
   "id": "929acf65",
   "metadata": {},
   "outputs": [],
   "source": [
    "from drjit.cuda.ad import Array3f, Float"
   ]
  },
  {
   "cell_type": "markdown",
   "id": "1c2cdfae",
   "metadata": {},
   "source": [
    "### Forward vs Backward"
   ]
  },
  {
   "cell_type": "markdown",
   "id": "7fe684d0-17b3-471f-a2d4-7e3f5d634f71",
   "metadata": {},
   "source": [
    "Differentiation of the vector norm $||\\textbf{x}||$ using the chain rule\n",
    "\\begin{align}\n",
    "    \\frac{\\partial}{\\partial\\mathbf{x}} ||\\textbf{x}|| &= \\frac{\\partial}{\\partial\\mathbf{x}} \\sqrt{x_1^2 + x_2^2 + \\ldots + x_k^2} \\\\\n",
    "    &= \\frac{1}{2\\sqrt{x_1^2 + x_2^2 + \\ldots + x_k^2}} \\cdot \\frac{\\partial}{\\partial\\mathbf{x}} \\left(x_1^2 + x_2^2 + \\ldots + x_k^2\\right) \\\\\n",
    "    &= \\frac{1}{2||\\textbf{x}||} \\cdot\n",
    "        \\begin{pmatrix} \\frac{\\partial}{\\partial\\mathbf{x_1}} x_1^2 \\\\ \\frac{\\partial}{\\partial\\mathbf{x_2}} x_2^2 \\\\ \\vdots \\\\ \\frac{\\partial}{\\partial\\mathbf{x_k}} x_k^2 \\end{pmatrix} \\\\\n",
    "    &= \\frac{1}{2||\\textbf{x}||} \\cdot \\begin{pmatrix} 2 \\cdot x_1 \\\\ 2 \\cdot x_2 \\\\ \\vdots \\\\ 2 \\cdot x_k \\end{pmatrix} = \\frac{\\textbf{x}}{||\\textbf{x}||}.\n",
    "\\end{align}\n",
    "Using the function names of Dr.Jit we obtain a more abstract \"graph\" of the calculation\n",
    "\\begin{align}\n",
    "    \\frac{\\partial}{\\partial\\mathbf{x}} \\text{sqrt}(\\text{sum}(\\text{sqr}(\\mathbf{x}))) &= \\text{sqrt}'(\\text{sum}(\\text{sqr}(\\mathbf{x})))\\cdot \\frac{\\partial}{\\partial\\mathbf{x}} \\text{sum}(\\text{sqr}(\\mathbf{x})) \\\\\n",
    "    &= \\text{sqrt}'(\\text{sum}(\\text{sqr}(\\mathbf{x})))\\cdot \\text{sum}'(\\text{sqr}(\\mathbf{x})) \\cdot \\frac{\\partial}{\\partial\\mathbf{x}} \\text{sqr}(\\mathbf{x}) \\\\\n",
    "    &= \\text{sqrt}'(\\text{sum}(\\text{sqr}(\\mathbf{x})))\\cdot \\text{sum}'(\\text{sqr}(\\mathbf{x})) \\cdot \\text{sqr}'(\\textbf{x}) \\cdot \\frac{\\partial}{\\partial\\mathbf{x}} \\mathbf{x} \\\\\n",
    "    &= \\text{sqrt}'(\\text{sum}(\\text{sqr}(\\mathbf{x})))\\cdot \\text{sum}'(\\text{sqr}(\\mathbf{x})) \\cdot \\text{sqr}'(\\textbf{x}) \\cdot 1.\n",
    "\\end{align}"
   ]
  },
  {
   "cell_type": "code",
   "execution_count": null,
   "id": "a2f26693-7bdd-479c-8016-d636e93beb2a",
   "metadata": {},
   "outputs": [],
   "source": [
    "def run_norm():\n",
    "    X = Array3f(np.array([\n",
    "        [2, 1, 1],\n",
    "        [3, 4, 2.]\n",
    "    ]))\n",
    "\n",
    "    dr.enable_grad(X)\n",
    "\n",
    "    X_quad = dr.sqr(X)\n",
    "    X_sum  = dr.sum(X_quad)\n",
    "    norm   = dr.sqrt(X_sum)\n",
    "\n",
    "    return X, X_quad, X_sum, norm\n",
    "\n",
    "run_norm()[3]"
   ]
  },
  {
   "cell_type": "markdown",
   "id": "fa70532f-870e-426a-90a0-8f67d48a81f2",
   "metadata": {},
   "source": [
    "`forward_to(value)` searches for variables considered as inputs and propagates their gradients (\"changes\", set by `dr.set_grad(...)`) towards the given `value`. Can be interpreted as \"how does `value` change, when the input (with set gradient) changes\". Given a standard basis vector we obtain the partial derivative of the output with respect to the set dimension of the input gradient. Basically calculates (from left to right in exactly that order)\n",
    "\\begin{equation}\n",
    "    \\text{dr.grad(norm)} =\n",
    "    \\underbrace{\n",
    "        \\underbrace{ \\text{grad}_\\textbf{x} \\cdot \\text{sqr}'(\\textbf{x}) }_\\text{dr.grad(X\\_quad)}\n",
    "        \\cdot \\text{sum}'(\\text{sqr}(\\mathbf{x}))\n",
    "    }_\\text{dr.grad(X\\_sum)} \\cdot \\text{sqrt}'(\\text{sum}(\\text{sqr}(\\mathbf{x}))).\n",
    "\\end{equation}\n",
    "\n",
    "The flag `dr.ADFlag.ClearNone` just turns off optimizations, such that intermidiate values and gradients can be printed."
   ]
  },
  {
   "cell_type": "code",
   "execution_count": null,
   "id": "25c3178d-2b1e-4e3c-b5aa-e2026e57820e",
   "metadata": {},
   "outputs": [],
   "source": [
    "X, X_quad, X_sum, norm = run_norm()\n",
    "dr.set_grad(X, Array3f(0, 0, 1))\n",
    "dr.forward_to(norm, flags=dr.ADFlag.ClearNone)\n",
    "dr.grad(X_sum), dr.grad(norm)"
   ]
  },
  {
   "cell_type": "markdown",
   "id": "c51aa228-3dce-4983-a2cc-882c493ee491",
   "metadata": {},
   "source": [
    "`dr.forward_from(X)`/`dr.forward(X)` propagates a gradient of ones from a given input through the whole AD graph. Same as `dr.forward(input)`. Yields the same result as `dr.sum(dr.backward_from(value))`, the sum of all partial derivatives (compare to `forward_to(...)`, but all dimensions of the gradient are set to one)."
   ]
  },
  {
   "cell_type": "code",
   "execution_count": null,
   "id": "d107a3ba-a08b-44a8-b72b-d5535c4432c6",
   "metadata": {},
   "outputs": [],
   "source": [
    "X, X_quad, X_sum, norm = run_norm()\n",
    "dr.forward_from(X, flags=dr.ADFlag.ClearNone)\n",
    "dr.grad(norm)"
   ]
  },
  {
   "cell_type": "markdown",
   "id": "68d4c369-da67-411a-9e0d-3bbaa14d2ed9",
   "metadata": {},
   "source": [
    "`dr.backward_from(value)`/`dr.backward(value)` calculates the gradients of the inputs in the traditional way of backpropagation (from left to right)\n",
    "\\begin{equation}\n",
    "    \\frac{\\partial}{\\partial\\mathbf{x}} \\text{sqrt}(\\text{sum}(\\text{sqr}(\\mathbf{x}))) = \n",
    "    \\underbrace {\n",
    "        \\underbrace{ \\text{sqrt}'(\\text{sum}(\\text{sqr}(\\mathbf{x}))) }_\\text{d\\_sqrt} \\cdot \\text{sum}'(\\text{sqr}(\\mathbf{x}))\n",
    "    }_\\text{d\\_sum} \\cdot \\text{sqr}'(\\textbf{x}).\n",
    "\\end{equation}"
   ]
  },
  {
   "cell_type": "code",
   "execution_count": null,
   "id": "6aff4e82-0dff-46fd-b2f4-cff6ca4a6610",
   "metadata": {},
   "outputs": [],
   "source": [
    "X, X_quad, X_sum, norm = run_norm()\n",
    "\n",
    "# manual backward pass\n",
    "with dr.suspend_grad():\n",
    "    d_sqrt = dr.rcp(Float(2) * dr.sqrt(X_sum))\n",
    "    d_sum  = Array3f(1) * d_sqrt\n",
    "    d_norm = Float(2) * X * d_sum\n",
    "    print(d_norm)\n",
    "\n",
    "dr.backward_from(norm, flags=dr.ADFlag.ClearNone)\n",
    "dr.grad(X)"
   ]
  },
  {
   "cell_type": "markdown",
   "id": "536f2f57-7494-4a38-87c8-21827c3fcf83",
   "metadata": {},
   "source": [
    "`dr.backward_to(input)` backpropagates set gradients of a given variable through the AD graph."
   ]
  },
  {
   "cell_type": "code",
   "execution_count": null,
   "id": "9e1250c2-49eb-41fb-83cd-bb91c416420c",
   "metadata": {},
   "outputs": [],
   "source": [
    "X, X_quad, X_sum, norm = run_norm()\n",
    "dr.set_grad(norm, Float([1., 1.]))\n",
    "dr.backward_to(X, flags=dr.ADFlag.ClearNone)\n",
    "dr.grad(X)"
   ]
  },
  {
   "cell_type": "markdown",
   "id": "c8833606",
   "metadata": {},
   "source": [
    "### Chain Rule by two Dr.Jit backward passes"
   ]
  },
  {
   "cell_type": "code",
   "execution_count": null,
   "id": "3405a4df",
   "metadata": {},
   "outputs": [],
   "source": [
    "x = Float(np.random.rand(3))"
   ]
  },
  {
   "cell_type": "code",
   "execution_count": null,
   "id": "3b9881f4",
   "metadata": {},
   "outputs": [],
   "source": [
    "p = Float(x)\n",
    "dr.enable_grad(p)\n",
    "img  = dr.cos(p)\n",
    "loss = dr.sqr(img)\n",
    "dr.backward(loss)\n",
    "dr.grad(p)"
   ]
  },
  {
   "cell_type": "code",
   "execution_count": null,
   "id": "23590c5e",
   "metadata": {},
   "outputs": [],
   "source": [
    "p = Float(x)\n",
    "img = dr.cos(p)\n",
    "\n",
    "dr.enable_grad(img)\n",
    "loss = dr.sqr(img)\n",
    "dr.backward(loss)\n",
    "d_img = dr.grad(img)\n",
    "\n",
    "dr.enable_grad(p)\n",
    "img = dr.cos(p)\n",
    "dr.backward(d_img * img)\n",
    "dr.grad(p)"
   ]
  },
  {
   "cell_type": "code",
   "execution_count": null,
   "id": "c2cc72b7",
   "metadata": {},
   "outputs": [],
   "source": [
    "p = Float(x)\n",
    "img = dr.cos(p)\n",
    "\n",
    "dr.enable_grad(img)\n",
    "loss = dr.sqr(img)\n",
    "dr.backward(loss)\n",
    "d_img = dr.grad(img)\n",
    "\n",
    "dr.enable_grad(p)\n",
    "img = dr.cos(p)\n",
    "\n",
    "dr.set_grad(img, d_img)\n",
    "dr.enqueue(dr.ADMode.Backward, img)\n",
    "dr.traverse(Float, dr.ADMode.Backward)\n",
    "\n",
    "dr.grad(p)"
   ]
  },
  {
   "cell_type": "markdown",
   "id": "63e1077b",
   "metadata": {},
   "source": [
    "## Dr.Jit Loop"
   ]
  },
  {
   "cell_type": "code",
   "execution_count": null,
   "id": "d7886759",
   "metadata": {},
   "outputs": [],
   "source": [
    "u = mi.Spectrum([0., 3., 4., 5., 8., 9.])\n",
    "x = mi.TensorXf(np.random.rand(10, 3, 2))\n",
    "imb = mi.ImageBlock(size=[3, 2], offset=[0, 0], channel_count=2, coalesce=False)\n",
    "\n",
    "loop = mi.Loop(\n",
    "    name=\"Test\",\n",
    "    state=lambda: (u, imb.tensor())\n",
    ")"
   ]
  },
  {
   "cell_type": "code",
   "execution_count": null,
   "id": "c2fc74fc",
   "metadata": {},
   "outputs": [],
   "source": [
    "imb.tensor()"
   ]
  },
  {
   "cell_type": "markdown",
   "id": "49bc492b",
   "metadata": {},
   "source": [
    "## AcousticBSDF AD"
   ]
  },
  {
   "cell_type": "code",
   "execution_count": null,
   "id": "0934ac7b",
   "metadata": {},
   "outputs": [],
   "source": [
    "bsdf = mi.load_dict({\n",
    "    \"type\": \"acousticbsdf\",\n",
    "    # \"scattering\": { \"type\": \"spectrum\", \"value\": [(1, 0.2), (2, 0.3)] },\n",
    "    # \"absorption\": { \"type\": \"spectrum\", \"value\": [(1, 0.2), (2, 0.3)] },\n",
    "    \"scattering\": { \"type\": \"spectrum\", \"value\": 0.5 },\n",
    "    \"absorption\": { \"type\": \"spectrum\", \"value\": 0.9 },\n",
    "})\n",
    "\n",
    "# key = \"absorption.values\"\n",
    "key = \"absorption.value\"\n",
    "params = mi.traverse(bsdf)\n",
    "display(params)\n",
    "display(params[key])"
   ]
  },
  {
   "cell_type": "code",
   "execution_count": null,
   "id": "d97591a2",
   "metadata": {},
   "outputs": [],
   "source": [
    "ctx = mi.BSDFContext()\n",
    "\n",
    "si    = mi.SurfaceInteraction3f()\n",
    "si.p  = [0, 0, 0]\n",
    "si.n  = [0, 0, 1]\n",
    "si.wi = [0, 0, 1]\n",
    "si.sh_frame = mi.Frame3f(si.n)\n",
    "si.wavelengths = mi.Spectrum(1.0)\n",
    "\n",
    "# theta = 19. / 19.0 * (dr.pi / 2)\n",
    "# wo = mi.Vector3f([dr.sin(theta), 0, dr.cos(theta)])\n",
    "wo = mi.Vector3f([0, 0, 1])\n",
    "\n",
    "dr.enable_grad(params[key])\n",
    "val, pdf = bsdf.eval_pdf(ctx, si, wo)\n",
    "dr.backward_from(val)\n",
    "val, dr.grad(params[key])"
   ]
  },
  {
   "cell_type": "code",
   "execution_count": null,
   "id": "5b8accf5",
   "metadata": {},
   "outputs": [],
   "source": []
  }
 ],
 "metadata": {
  "kernelspec": {
   "display_name": "Python 3 (ipykernel)",
   "language": "python",
   "name": "python3"
  }
 },
 "nbformat": 4,
 "nbformat_minor": 5
}
