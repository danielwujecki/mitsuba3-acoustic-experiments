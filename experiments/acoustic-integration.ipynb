{
 "cells": [
  {
   "cell_type": "markdown",
   "metadata": {},
   "source": [
    "## Acoustic Integration - Basic Forward Rendering"
   ]
  },
  {
   "cell_type": "code",
   "execution_count": null,
   "metadata": {},
   "outputs": [],
   "source": [
    "from tqdm import trange\n",
    "\n",
    "import numpy as np\n",
    "import pandas as pd\n",
    "import matplotlib.pyplot as plt\n",
    "\n",
    "import mitsuba as mi\n",
    "\n",
    "from utils import drjit_turn_off_optimizations, shoebox_scene, shoebox_scene_visual, plot_img\n",
    "from acoustic_params import EDC\n",
    "\n",
    "plt.style.use('ggplot')\n",
    "\n",
    "mi.set_variant('cuda_ad_acoustic')\n",
    "mi.set_log_level(mi.LogLevel.Warn)\n",
    "\n",
    "drjit_turn_off_optimizations(False)"
   ]
  },
  {
   "cell_type": "markdown",
   "metadata": {},
   "source": [
    "### 25x12x7 Box"
   ]
  },
  {
   "cell_type": "code",
   "execution_count": null,
   "metadata": {
    "jupyter": {
     "source_hidden": true
    }
   },
   "outputs": [],
   "source": [
    "mi.set_variant('cuda_ad_acoustic')\n",
    "\n",
    "absorption = [0.1, 0.25, 0.5, 0.75, 0.9]\n",
    "scattering = [0.0, 0.25, 0.5, 0.75, 1.0] #* 2\n",
    "\n",
    "absorption_mdim, scattering_mdim = np.meshgrid(absorption, scattering)\n",
    "absorption,      scattering      = absorption_mdim.flatten(), scattering_mdim.flatten()\n",
    "\n",
    "config = {\n",
    "    \"box_dim\":        [25., 12., 7.],\n",
    "    \"mic_pos\":        [ 9.,  6., 1.],\n",
    "    \"speaker_pos\":    [20.,  7., 2.],\n",
    "    \"speaker_radius\": 0.1,\n",
    "    \"interference\":   False,\n",
    "\n",
    "    \"absorption\": [(i + 1, a) for i, a in enumerate(absorption)],\n",
    "    \"scattering\": [(i + 1, s) for i, s in enumerate(scattering)],\n",
    "\n",
    "    \"wav_bins\":  scattering.shape[0], # x\n",
    "    \"time_bins\": 4000,                # y\n",
    "    \"max_time\":  4.,\n",
    "\n",
    "    \"integrator\": \"acousticpath\",\n",
    "    \"max_depth\":  150,\n",
    "    \"spp\":        2**22,\n",
    "}\n",
    "\n",
    "scene_dict = shoebox_scene(**config)\n",
    "#mi.xml.dict_to_xml(scene_dict, \"mitsuba_acoustic.xml\")\n",
    "\n",
    "# mic_posB = [20., 2., 6.]\n",
    "# scene_dict[\"sensor\"][\"microphoneB\"] = {\n",
    "#     \"type\": \"microphone\",\n",
    "#     \"to_world\": mi.ScalarTransform4f.translate(np.array(mic_posB) - (np.array(config['box_dim']) / 2.)),\n",
    "#     # \"to_world\": mi.ScalarTransform4f.translate(np.array(config[\"mic_pos\"]) - (np.array(config['box_dim']) / 2.)),\n",
    "# }\n",
    "\n",
    "time = np.linspace(0., config[\"max_time\"], config[\"time_bins\"], endpoint=False)\n",
    "scene = mi.load_dict(scene_dict)"
   ]
  },
  {
   "cell_type": "code",
   "execution_count": null,
   "metadata": {},
   "outputs": [],
   "source": [
    "data = np.array(mi.render(scene, seed=0))\n",
    "hist = data[:, :, 0] / config[\"spp\"]\n",
    "cnts = data[:, :, 1]\n",
    "edc  = EDC(hist)"
   ]
  },
  {
   "cell_type": "code",
   "execution_count": null,
   "metadata": {},
   "outputs": [],
   "source": [
    "# compoare absorption, scattering fix\n",
    "\n",
    "label = list(map(lambda x: f\"$\\\\alpha = {x:.2f}$\", absorption_mdim[0]))\n",
    "\n",
    "n = scattering_mdim.shape[1]\n",
    "\n",
    "for i in range(scattering_mdim.shape[0]):\n",
    "    continue\n",
    "    k = i * n\n",
    "\n",
    "    fig, (ax1, ax2, ax3) = plt.subplots(1, 3, sharex=True, figsize=(18, 4))\n",
    "    fig.suptitle(f\"scattering = {scattering_mdim[i, 0]}\")\n",
    "    ax1.plot(time, hist[:, k:k+n], label=label)\n",
    "    ax1.set_title(\"Histogram\")\n",
    "    ax1.legend()\n",
    "    ax2.plot(time, edc[:, k:k+n])\n",
    "    ax2.set_title(\"Energy [dB]\")\n",
    "    ax3.plot(time, cnts[:, k:k+n])\n",
    "    ax3.set_title(\"Counts\")\n",
    "    plt.tight_layout()\n",
    "    #plt.savefig(f\"figures/{s}_count.png\")\n",
    "    plt.show()"
   ]
  },
  {
   "cell_type": "code",
   "execution_count": null,
   "metadata": {},
   "outputs": [],
   "source": [
    "# compoare scattering, absorption fix\n",
    "\n",
    "label = list(map(lambda x: f\"s {x:.2f}\", scattering_mdim[:, 0]))\n",
    "\n",
    "for i in range(scattering_mdim.shape[1]):\n",
    "    continue\n",
    "    idx = np.arange(scattering_mdim.shape[0]) * scattering_mdim.shape[1] + i\n",
    "\n",
    "    fig, (ax1, ax2, ax3) = plt.subplots(1, 3, sharex=True, figsize=(18, 4))\n",
    "    fig.suptitle(f\"$\\\\alpha = {absorption_mdim[0, 1]}$\")\n",
    "    ax1.plot(time, hist[:, idx], label=label)\n",
    "    ax1.set_title(\"Histogram\")\n",
    "    ax1.legend()\n",
    "    ax2.plot(time, edc[:, idx])\n",
    "    ax2.set_title(\"Energy [dB]\")\n",
    "    ax3.plot(time, cnts[:, idx])\n",
    "    ax3.set_title(\"Counts\")\n",
    "    plt.tight_layout()\n",
    "    plt.show()"
   ]
  },
  {
   "cell_type": "code",
   "execution_count": null,
   "metadata": {},
   "outputs": [],
   "source": [
    "# plot everything in 3d\n",
    "\n",
    "if False:\n",
    "    fig = plt.figure(figsize=(7, 7))\n",
    "    ax  = fig.add_subplot(projection='3d')\n",
    "    for i in range(hist.shape[1]):\n",
    "        ax.plot(time, np.ones_like(time) * i, np.log(hist[:, i]))\n",
    "\n",
    "    ax.set_xlabel(\"x\")\n",
    "    ax.set_ylabel(\"y\")\n",
    "    ax.set_zlabel(\"z\")\n",
    "\n",
    "    plt.tight_layout()\n",
    "    plt.show()"
   ]
  },
  {
   "cell_type": "code",
   "execution_count": null,
   "metadata": {},
   "outputs": [],
   "source": [
    "# store simulation to disk\n",
    "\n",
    "results = pd.DataFrame()\n",
    "\n",
    "for i in range(scattering.shape[0]):\n",
    "    s, a = scattering[i], absorption[i]\n",
    "    ar, sr = round(a + 0.01, 1), round(s + 0.01, 1)\n",
    "    results.insert(0, f'a{ar:.1f}-s{sr:.1f}', hist[:, i])\n",
    "\n",
    "results.insert(0, \"time\", time)\n",
    "results.set_index(\"time\", inplace=True, drop=True)\n",
    "\n",
    "# results.to_pickle('../data/mi3-prba-box-25-12-7.pkl')"
   ]
  },
  {
   "cell_type": "markdown",
   "metadata": {},
   "source": [
    "### Variance"
   ]
  },
  {
   "cell_type": "code",
   "execution_count": null,
   "metadata": {},
   "outputs": [],
   "source": [
    "data = np.zeros((50, config[\"time_bins\"], config[\"wav_bins\"]))\n",
    "for i in trange(data.shape[0]):\n",
    "    data[i] = np.array(mi.render(scene, seed=i))[:, :, 0]"
   ]
  },
  {
   "cell_type": "code",
   "execution_count": null,
   "metadata": {},
   "outputs": [],
   "source": [
    "plt.plot(time, np.var(data[:, :, 10:15], axis=0))\n",
    "plt.ylim(0, 20)\n",
    "plt.show()"
   ]
  },
  {
   "cell_type": "markdown",
   "metadata": {},
   "source": [
    "### Scene Visualization"
   ]
  },
  {
   "cell_type": "code",
   "execution_count": null,
   "metadata": {
    "jupyter": {
     "source_hidden": true
    }
   },
   "outputs": [],
   "source": [
    "mi.set_variant('cuda_ad_rgb')\n",
    "scene_dict = shoebox_scene_visual(resf=10, **config)"
   ]
  },
  {
   "cell_type": "code",
   "execution_count": null,
   "metadata": {},
   "outputs": [],
   "source": [
    "tf          = mi.ScalarTransform4f\n",
    "box_dim     = np.array(config['box_dim']) / 2.\n",
    "\n",
    "scene_dict[\"sensor\"][\"cameraB\"] = {\n",
    "    \"type\": \"perspective\",\n",
    "    \"to_world\": tf.look_at(\n",
    "        origin=box_dim * np.array([0., 0., 15.]),\n",
    "        target=box_dim * np.array([0., 0., 0.]),\n",
    "        up=[0, 1, 0]\n",
    "    ),\n",
    "}"
   ]
  },
  {
   "cell_type": "code",
   "execution_count": null,
   "metadata": {},
   "outputs": [],
   "source": [
    "scene = mi.load_dict(scene_dict)\n",
    "img = mi.render(scene, spp=256)\n",
    "\n",
    "plot_img(img)"
   ]
  },
  {
   "cell_type": "markdown",
   "metadata": {},
   "source": [
    "### 5x5x5 Box"
   ]
  },
  {
   "cell_type": "code",
   "execution_count": null,
   "metadata": {},
   "outputs": [],
   "source": [
    "mi.set_variant('cuda_ad_acoustic')\n",
    "\n",
    "hist_leo = np.load('../notebooks-leo/data/RT-HIST-box-5-5-5.npy')\n",
    "edc_leo  = EDC(hist_leo, db=True)\n",
    "\n",
    "config = {\n",
    "    \"box_dim\":     [5., 5., 5.],\n",
    "    \"mic_pos\":     [2., 2., 1.],\n",
    "    \"speaker_pos\": [1., 1., 1.],\n",
    "    \"speaker_radius\": 0.1,\n",
    "\n",
    "    \"absorption\": [(1, 0.1), (2, 0.2), (3, 0.5), (4, 0.7), (5, 0.9)],\n",
    "    \"scattering\": 0.0,\n",
    "\n",
    "    \"wav_bins\": 5,      # x\n",
    "    \"time_bins\": 2000,  # y\n",
    "    \"max_time\": 2,\n",
    "\n",
    "    \"integrator\": \"prb_acoustic\",\n",
    "    \"max_depth\": 150,\n",
    "    \"spp\": 2**22, # 2**14 * 2048 = 2**13 * 2**11 = 2^12 * ~time_bins\n",
    "}\n",
    "\n",
    "scene_dict = shoebox_scene(**config)\n",
    "scene = mi.load_dict(scene_dict)\n",
    "\n",
    "data = np.array(mi.render(scene))\n",
    "hist = data[:, :, 0] / config[\"spp\"]\n",
    "cnts = data[:, :, 1]\n",
    "edc  = EDC(hist, db=True)\n",
    "\n",
    "fig, ((ax1, ax2), (ax3, ax4)) = plt.subplots(2, 2, sharex=True, figsize=(12, 6))\n",
    "ax1.plot(hist)\n",
    "ax1.set_ylim(0., 0.00045)\n",
    "ax1.set_title(\"Histogram\")\n",
    "\n",
    "ax2.plot(edc)\n",
    "ax2.set_ylim(-350., 0.)\n",
    "ax2.set_title(\"Energy [dB]\")\n",
    "\n",
    "ax3.plot(hist_leo)\n",
    "ax3.set_ylim(0., 0.00045)\n",
    "ax3.set_title(\"Histogram Leo\")\n",
    "\n",
    "ax4.plot(edc_leo)\n",
    "ax4.set_ylim(-350., 0.)\n",
    "ax4.set_title(\"Energy [dB] Leo\")\n",
    "plt.show()\n",
    "\n",
    "#np.save('../data/mi3-prba-box-5-5-5.npy', hist)"
   ]
  },
  {
   "cell_type": "code",
   "execution_count": null,
   "metadata": {},
   "outputs": [],
   "source": []
  }
 ],
 "metadata": {
  "kernelspec": {
   "display_name": "Python 3 (ipykernel)",
   "language": "python",
   "name": "python3"
  },
  "language_info": {
   "codemirror_mode": {
    "name": "ipython",
    "version": 3
   },
   "file_extension": ".py",
   "mimetype": "text/x-python",
   "name": "python",
   "nbconvert_exporter": "python",
   "pygments_lexer": "ipython3",
   "version": "3.10.12"
  },
  "widgets": {
   "application/vnd.jupyter.widget-state+json": {
    "state": {
     "07ec54878c3c410ca11e8b72444a00e8": {
      "model_module": "@jupyter-widgets/controls",
      "model_module_version": "1.5.0",
      "model_name": "ProgressStyleModel",
      "state": {
       "description_width": ""
      }
     },
     "0c35e343c7ef48baa2f16a89425e45c9": {
      "model_module": "@jupyter-widgets/base",
      "model_module_version": "1.2.0",
      "model_name": "LayoutModel",
      "state": {
       "width": "100%"
      }
     },
     "121009d8ad1a400bb0faff5650af82b3": {
      "model_module": "@jupyter-widgets/base",
      "model_module_version": "1.2.0",
      "model_name": "LayoutModel",
      "state": {}
     },
     "148400d8a7d44374a39589fb0c0d7d46": {
      "model_module": "@jupyter-widgets/base",
      "model_module_version": "1.2.0",
      "model_name": "LayoutModel",
      "state": {
       "width": "100%"
      }
     },
     "1bf5946071df47e686b46976c829f4d0": {
      "model_module": "@jupyter-widgets/base",
      "model_module_version": "1.2.0",
      "model_name": "LayoutModel",
      "state": {}
     },
     "2262fd9b5af64b308ea9fd1d5b0b0494": {
      "model_module": "@jupyter-widgets/controls",
      "model_module_version": "1.5.0",
      "model_name": "FloatProgressModel",
      "state": {
       "bar_style": "success",
       "layout": "IPY_MODEL_0c35e343c7ef48baa2f16a89425e45c9",
       "max": 1,
       "style": "IPY_MODEL_64638caeb3de4839809e4dae0dc2b071",
       "value": 1
      }
     },
     "328d9c2dbd124dc19ae91ce0cb551403": {
      "model_module": "@jupyter-widgets/controls",
      "model_module_version": "1.5.0",
      "model_name": "VBoxModel",
      "state": {
       "children": [
        "IPY_MODEL_493c51e117d545a799ea5a57b9bfb258",
        "IPY_MODEL_bc89b3250375423e82db58560d690de3"
       ],
       "layout": "IPY_MODEL_4352d146b8ac4b478de6fb1778cd5d41"
      }
     },
     "384ad0e5d7934e3b89951358a9d19186": {
      "model_module": "@jupyter-widgets/controls",
      "model_module_version": "1.5.0",
      "model_name": "VBoxModel",
      "state": {
       "children": [
        "IPY_MODEL_cfb38214efa947568144d4522d548de6",
        "IPY_MODEL_c689f166d13242938ff57a24b0817d41"
       ],
       "layout": "IPY_MODEL_121009d8ad1a400bb0faff5650af82b3"
      }
     },
     "4352d146b8ac4b478de6fb1778cd5d41": {
      "model_module": "@jupyter-widgets/base",
      "model_module_version": "1.2.0",
      "model_name": "LayoutModel",
      "state": {}
     },
     "493c51e117d545a799ea5a57b9bfb258": {
      "model_module": "@jupyter-widgets/controls",
      "model_module_version": "1.5.0",
      "model_name": "HTMLModel",
      "state": {
       "layout": "IPY_MODEL_a3f5661d51064b2eb0e9ef5d1b0bb8aa",
       "style": "IPY_MODEL_b6610365565e4df1ab9f0dacfc0ee04a",
       "value": "Rendering (13.9s, ETA: 0ms)"
      }
     },
     "5ca4d20425df44658fb252c281f019fd": {
      "model_module": "@jupyter-widgets/base",
      "model_module_version": "1.2.0",
      "model_name": "LayoutModel",
      "state": {
       "width": "100%"
      }
     },
     "5ead71d75c28401eb61aaec2db79be71": {
      "model_module": "@jupyter-widgets/controls",
      "model_module_version": "1.5.0",
      "model_name": "HTMLModel",
      "state": {
       "layout": "IPY_MODEL_1bf5946071df47e686b46976c829f4d0",
       "style": "IPY_MODEL_f87d0eda3bba45a6b5101e92ec75ab51",
       "value": "Rendering (13.9s, ETA: 0ms)"
      }
     },
     "64638caeb3de4839809e4dae0dc2b071": {
      "model_module": "@jupyter-widgets/controls",
      "model_module_version": "1.5.0",
      "model_name": "ProgressStyleModel",
      "state": {
       "description_width": ""
      }
     },
     "64e097a514c04437bf30f0d12463d973": {
      "model_module": "@jupyter-widgets/controls",
      "model_module_version": "1.5.0",
      "model_name": "FloatProgressModel",
      "state": {
       "bar_style": "success",
       "layout": "IPY_MODEL_5ca4d20425df44658fb252c281f019fd",
       "max": 1,
       "style": "IPY_MODEL_07ec54878c3c410ca11e8b72444a00e8",
       "value": 1
      }
     },
     "6c57fb913d8b47c7ad6a2129294b7f4a": {
      "model_module": "@jupyter-widgets/controls",
      "model_module_version": "1.5.0",
      "model_name": "VBoxModel",
      "state": {
       "children": [
        "IPY_MODEL_c93f1917313f474c96018ef6f4db65b3",
        "IPY_MODEL_e1ec3d6d53ce43e386de054ab61583b5"
       ],
       "layout": "IPY_MODEL_cdad0127f4f6443a8643eec4140c2b50"
      }
     },
     "76ef1ebaa1c34d4ca27c8fda94d21eae": {
      "model_module": "@jupyter-widgets/base",
      "model_module_version": "1.2.0",
      "model_name": "LayoutModel",
      "state": {}
     },
     "7995615f2c5648de87bc7080ce7043aa": {
      "model_module": "@jupyter-widgets/base",
      "model_module_version": "1.2.0",
      "model_name": "LayoutModel",
      "state": {}
     },
     "7b6bc4d7291243dcb4838f1745959151": {
      "model_module": "@jupyter-widgets/base",
      "model_module_version": "1.2.0",
      "model_name": "LayoutModel",
      "state": {}
     },
     "895ccf032eb44c24a5e60315ff3eba16": {
      "model_module": "@jupyter-widgets/base",
      "model_module_version": "1.2.0",
      "model_name": "LayoutModel",
      "state": {
       "width": "100%"
      }
     },
     "9b86f1cff37c4fdc9e619cd95a70a256": {
      "model_module": "@jupyter-widgets/controls",
      "model_module_version": "1.5.0",
      "model_name": "DescriptionStyleModel",
      "state": {
       "description_width": ""
      }
     },
     "a3f5661d51064b2eb0e9ef5d1b0bb8aa": {
      "model_module": "@jupyter-widgets/base",
      "model_module_version": "1.2.0",
      "model_name": "LayoutModel",
      "state": {}
     },
     "a40669281c224b5f85fa4485491c3950": {
      "model_module": "@jupyter-widgets/controls",
      "model_module_version": "1.5.0",
      "model_name": "VBoxModel",
      "state": {
       "children": [
        "IPY_MODEL_d7bb96993f3a4db4bb2aa71270257a1b",
        "IPY_MODEL_64e097a514c04437bf30f0d12463d973"
       ],
       "layout": "IPY_MODEL_76ef1ebaa1c34d4ca27c8fda94d21eae"
      }
     },
     "a6576f2dd3604fb79879caa19911b935": {
      "model_module": "@jupyter-widgets/controls",
      "model_module_version": "1.5.0",
      "model_name": "ProgressStyleModel",
      "state": {
       "description_width": ""
      }
     },
     "b6610365565e4df1ab9f0dacfc0ee04a": {
      "model_module": "@jupyter-widgets/controls",
      "model_module_version": "1.5.0",
      "model_name": "DescriptionStyleModel",
      "state": {
       "description_width": ""
      }
     },
     "b91e3ad4740c42798db154827fbe5477": {
      "model_module": "@jupyter-widgets/controls",
      "model_module_version": "1.5.0",
      "model_name": "DescriptionStyleModel",
      "state": {
       "description_width": ""
      }
     },
     "bc89b3250375423e82db58560d690de3": {
      "model_module": "@jupyter-widgets/controls",
      "model_module_version": "1.5.0",
      "model_name": "FloatProgressModel",
      "state": {
       "bar_style": "success",
       "layout": "IPY_MODEL_148400d8a7d44374a39589fb0c0d7d46",
       "max": 1,
       "style": "IPY_MODEL_e4fb04aa19fd44a49f0fdd5e9a4fa9fd",
       "value": 1
      }
     },
     "c689f166d13242938ff57a24b0817d41": {
      "model_module": "@jupyter-widgets/controls",
      "model_module_version": "1.5.0",
      "model_name": "FloatProgressModel",
      "state": {
       "bar_style": "success",
       "layout": "IPY_MODEL_f1cc99986b0b46b58cae7fd82c5aad84",
       "max": 1,
       "style": "IPY_MODEL_e609a9ba6dff485bbde84e1fe599b2ba",
       "value": 1
      }
     },
     "c93f1917313f474c96018ef6f4db65b3": {
      "model_module": "@jupyter-widgets/controls",
      "model_module_version": "1.5.0",
      "model_name": "HTMLModel",
      "state": {
       "layout": "IPY_MODEL_ea57520c73bb4bf49de6ef0ab85b5fd5",
       "style": "IPY_MODEL_9b86f1cff37c4fdc9e619cd95a70a256",
       "value": "Rendering (34.1s, ETA: 0ms)"
      }
     },
     "cdad0127f4f6443a8643eec4140c2b50": {
      "model_module": "@jupyter-widgets/base",
      "model_module_version": "1.2.0",
      "model_name": "LayoutModel",
      "state": {}
     },
     "cfb38214efa947568144d4522d548de6": {
      "model_module": "@jupyter-widgets/controls",
      "model_module_version": "1.5.0",
      "model_name": "HTMLModel",
      "state": {
       "layout": "IPY_MODEL_f92a16e114714e9e82f1e60a0980cb2d",
       "style": "IPY_MODEL_e11cbf07e2d240348cdc470bd4f234e7",
       "value": "Rendering (13.8s, ETA: 0ms)"
      }
     },
     "d7bb96993f3a4db4bb2aa71270257a1b": {
      "model_module": "@jupyter-widgets/controls",
      "model_module_version": "1.5.0",
      "model_name": "HTMLModel",
      "state": {
       "layout": "IPY_MODEL_7995615f2c5648de87bc7080ce7043aa",
       "style": "IPY_MODEL_b91e3ad4740c42798db154827fbe5477",
       "value": "Rendering (14s, ETA: 0ms)"
      }
     },
     "d827ae3e316a4961b44fc24c2ef633a7": {
      "model_module": "@jupyter-widgets/controls",
      "model_module_version": "1.5.0",
      "model_name": "VBoxModel",
      "state": {
       "children": [
        "IPY_MODEL_5ead71d75c28401eb61aaec2db79be71",
        "IPY_MODEL_2262fd9b5af64b308ea9fd1d5b0b0494"
       ],
       "layout": "IPY_MODEL_7b6bc4d7291243dcb4838f1745959151"
      }
     },
     "e11cbf07e2d240348cdc470bd4f234e7": {
      "model_module": "@jupyter-widgets/controls",
      "model_module_version": "1.5.0",
      "model_name": "DescriptionStyleModel",
      "state": {
       "description_width": ""
      }
     },
     "e1ec3d6d53ce43e386de054ab61583b5": {
      "model_module": "@jupyter-widgets/controls",
      "model_module_version": "1.5.0",
      "model_name": "FloatProgressModel",
      "state": {
       "bar_style": "success",
       "layout": "IPY_MODEL_895ccf032eb44c24a5e60315ff3eba16",
       "max": 1,
       "style": "IPY_MODEL_a6576f2dd3604fb79879caa19911b935",
       "value": 1
      }
     },
     "e4fb04aa19fd44a49f0fdd5e9a4fa9fd": {
      "model_module": "@jupyter-widgets/controls",
      "model_module_version": "1.5.0",
      "model_name": "ProgressStyleModel",
      "state": {
       "description_width": ""
      }
     },
     "e609a9ba6dff485bbde84e1fe599b2ba": {
      "model_module": "@jupyter-widgets/controls",
      "model_module_version": "1.5.0",
      "model_name": "ProgressStyleModel",
      "state": {
       "description_width": ""
      }
     },
     "ea57520c73bb4bf49de6ef0ab85b5fd5": {
      "model_module": "@jupyter-widgets/base",
      "model_module_version": "1.2.0",
      "model_name": "LayoutModel",
      "state": {}
     },
     "f1cc99986b0b46b58cae7fd82c5aad84": {
      "model_module": "@jupyter-widgets/base",
      "model_module_version": "1.2.0",
      "model_name": "LayoutModel",
      "state": {
       "width": "100%"
      }
     },
     "f87d0eda3bba45a6b5101e92ec75ab51": {
      "model_module": "@jupyter-widgets/controls",
      "model_module_version": "1.5.0",
      "model_name": "DescriptionStyleModel",
      "state": {
       "description_width": ""
      }
     },
     "f92a16e114714e9e82f1e60a0980cb2d": {
      "model_module": "@jupyter-widgets/base",
      "model_module_version": "1.2.0",
      "model_name": "LayoutModel",
      "state": {}
     }
    },
    "version_major": 2,
    "version_minor": 0
   }
  }
 },
 "nbformat": 4,
 "nbformat_minor": 4
}
