{
 "cells": [
  {
   "cell_type": "markdown",
   "metadata": {},
   "source": [
    "## Acoustic Integration - Automatic Differentiation\n",
    "\n",
    "http://localhost:8888/?token=sloth"
   ]
  },
  {
   "cell_type": "code",
   "execution_count": null,
   "metadata": {},
   "outputs": [],
   "source": [
    "if \"mi\" not in vars():\n",
    "    import os\n",
    "\n",
    "    from tqdm import trange\n",
    "\n",
    "    import torch\n",
    "    import numpy as np\n",
    "    import matplotlib.pyplot as plt\n",
    "\n",
    "    import drjit as dr\n",
    "    import mitsuba as mi\n",
    "\n",
    "    from libs import utils, acoustic_torch\n",
    "\n",
    "    mi.set_variant('cuda_ad_acoustic')\n",
    "    mi.set_log_level(mi.LogLevel.Warn)\n",
    "\n",
    "    plt.style.use('ggplot')\n",
    "    utils.drjit_turn_off_optimizations(False)\n",
    "\n",
    "    sess_seed   = np.random.randint(0, 2**30)\n",
    "    sess_seed_g = np.random.randint(0, 2**30)\n",
    "    print(f\"session seeds are: sess_seed={sess_seed}; sess_seed_g={sess_seed_g}\")"
   ]
  },
  {
   "cell_type": "markdown",
   "metadata": {},
   "source": [
    "### Scene Construction"
   ]
  },
  {
   "cell_type": "code",
   "execution_count": null,
   "metadata": {
    "jupyter": {
     "source_hidden": true
    }
   },
   "outputs": [],
   "source": [
    "absorption = [0.65, 0.65]\n",
    "scattering = 0.05\n",
    "\n",
    "config = {\n",
    "    \"box_dim\":     [20., 20., 20.],\n",
    "    \"mic_pos\":     [9.,   9.,  9.],\n",
    "    \"speaker_pos\": [11., 11., 11.],\n",
    "    \"speaker_radius\": 1.0,\n",
    "\n",
    "    \"absorption\": [(i + 1, a) for i, a in enumerate(absorption)],\n",
    "    \"scattering\": scattering,\n",
    "\n",
    "    \"wav_bins\":  len(absorption),\n",
    "    \"time_bins\": 150,\n",
    "    \"max_time\":  1.5,\n",
    "\n",
    "    # \"integrator\": \"prb_acoustic\",\n",
    "    \"integrator\": \"prb_reparam_acoustic\",\n",
    "    \"max_depth\": 50,\n",
    "    \"spp\": 2**18,\n",
    "}\n",
    "\n",
    "fs = config[\"time_bins\"] / config[\"max_time\"]\n",
    "time = np.linspace(0., config[\"max_time\"], config[\"time_bins\"], endpoint=False)\n",
    "\n",
    "# config[\"max_depth\"] = utils.estimate_max_depth(config[\"box_dim\"], config[\"max_time\"], 1.5)\n",
    "print(f\"max_depth = {config['max_depth']}\")\n",
    "\n",
    "scene_dict = utils.shoebox_scene(**config)\n",
    "# scene_dict = utils.shoebox_scene_visual(**config, resf=4)"
   ]
  },
  {
   "cell_type": "code",
   "execution_count": null,
   "metadata": {},
   "outputs": [],
   "source": [
    "scene_dict[\"integrator\"][\"skip_direct\"] = False\n",
    "scene_dict[\"integrator\"][\"reparam_max_depth\"] = 8\n",
    "# scene_dict[\"sensor\"][\"film\"][\"rfilter\"] = {\n",
    "#     \"type\": \"gaussian\",\n",
    "#     \"stddev\": 0.25 * 343. * config[\"max_time\"] / config[\"time_bins\"],\n",
    "# }\n",
    "\n",
    "scene_dict = {\n",
    "    \"opt_bsdf\" : {\n",
    "        \"type\": \"acousticbsdf\",\n",
    "        \"scattering\": { \"type\": \"spectrum\", \"value\": scattering },\n",
    "        \"absorption\": { \"type\": \"spectrum\", \"value\": [(i+1, a) for i, a in enumerate([0.65, 0.65])], },\n",
    "    },\n",
    "    **scene_dict\n",
    "}\n",
    "\n",
    "# faces = ['back', 'right', 'top', 'bottom']\n",
    "faces = np.array(['back', 'front', 'left', 'right', 'top', 'bottom'])\n",
    "for f in faces[[0, 1]]:\n",
    "    scene_dict[\"shoebox\"][f][\"bsdf\"] = { \"type\": \"ref\", \"id\": \"opt_bsdf\" }\n",
    "\n",
    "scene = mi.load_dict(scene_dict)"
   ]
  },
  {
   "cell_type": "markdown",
   "metadata": {},
   "source": [
    "### Reference Histogram"
   ]
  },
  {
   "cell_type": "code",
   "execution_count": null,
   "metadata": {},
   "outputs": [],
   "source": [
    "hist_ref = mi.render(scene, seed=sess_seed)\n",
    "utils.plot_hist(hist_ref[:, :, 0], **config)\n",
    "# utils.plot_img(hist_ref)"
   ]
  },
  {
   "cell_type": "markdown",
   "metadata": {},
   "source": [
    "### Optimization Setup"
   ]
  },
  {
   "cell_type": "code",
   "execution_count": null,
   "metadata": {},
   "outputs": [],
   "source": [
    "key_a = \"opt_bsdf.absorption.values\"\n",
    "\n",
    "params = mi.traverse(scene)\n",
    "\n",
    "vertex_pos_ref = {}\n",
    "for f in faces:\n",
    "    key_g = f\"shoebox.{f}.vertex_positions\"\n",
    "    vertex_pos_ref[key_g] = dr.unravel(mi.Point3f, params[key_g])\n",
    "\n",
    "# display(params)\n",
    "display(params[key_a])\n",
    "# display(vertex_pos_ref)"
   ]
  },
  {
   "cell_type": "code",
   "execution_count": null,
   "metadata": {},
   "outputs": [],
   "source": [
    "opt = mi.ad.Adam(lr=0.005)\n",
    "opt[key_a] = mi.Float([0.65, 0.65])\n",
    "opt['s']   = mi.Vector3f(1.0, 1.0, 1.0)\n",
    "# opt_s['s'] = mi.Vector3f((np.random.rand(3) - 0.5) * 0.1 + 1.0)\n",
    "\n",
    "def apply_transform(params_to_update):\n",
    "    opt[key_a] = dr.clamp(opt[key_a], 0.2, 0.9)\n",
    "    opt['s'] = dr.clamp(opt['s'], 0.5, 2.)\n",
    "\n",
    "    transf = mi.Transform4f.scale(opt['s'].z)\n",
    "    key = \"shoebox.back.vertex_positions\"\n",
    "    params_to_update[key] = dr.ravel(transf @ vertex_pos_ref[key])\n",
    "    key = \"shoebox.front.vertex_positions\"\n",
    "    params_to_update[key] = dr.ravel(transf @ vertex_pos_ref[key])\n",
    "\n",
    "    transf = mi.Transform4f.scale(opt['s'].x)\n",
    "    key = \"shoebox.left.vertex_positions\"\n",
    "    params_to_update[key] = dr.ravel(transf @ vertex_pos_ref[key])\n",
    "    key = \"shoebox.right.vertex_positions\"\n",
    "    params_to_update[key] = dr.ravel(transf @ vertex_pos_ref[key])\n",
    "\n",
    "    transf = mi.Transform4f.scale(opt['s'].y)\n",
    "    key = \"shoebox.bottom.vertex_positions\"\n",
    "    params_to_update[key] = dr.ravel(transf @ vertex_pos_ref[key])\n",
    "    key = \"shoebox.top.vertex_positions\"\n",
    "    params_to_update[key] = dr.ravel(transf @ vertex_pos_ref[key])\n",
    "\n",
    "    params_to_update[key_a] = opt[key_a]\n",
    "    params_to_update.update()"
   ]
  },
  {
   "cell_type": "code",
   "execution_count": null,
   "metadata": {},
   "outputs": [],
   "source": [
    "@dr.wrap_ad(source='drjit', target='torch')\n",
    "def norm(hist):\n",
    "    hist = hist / torch.sum(hist[:, :, 1], dim=0)[None, :, None]\n",
    "    return hist\n",
    "\n",
    "def loss(hist, hist_ref=None):\n",
    "    assert hist_ref is None\n",
    "    # t   = acoustic_torch.TS(mi.TensorXf(time), hist[:, :, 0])\n",
    "    edc = acoustic_torch.EDC(hist[:, :, 0], db=True, norm=True)\n",
    "    t   = acoustic_torch.T(mi.TensorXf(time), edc)\n",
    "    return dr.sqr(t[0] - t[1])\n",
    "    # return dr.sum(t)"
   ]
  },
  {
   "cell_type": "code",
   "execution_count": null,
   "metadata": {},
   "outputs": [],
   "source": [
    "# s = 0.05\n",
    "# params[\"acoustic_bsdf.scattering.value\"] = s\n",
    "# params[\"opt_bsdf.scattering.value\"]      = s\n",
    "opt[key_a] = mi.Float([0.2, 0.9])\n",
    "apply_transform(params)\n",
    "hist = mi.render(scene, seed=sess_seed)\n",
    "dr.enable_grad(hist)\n",
    "\n",
    "l = loss(hist)\n",
    "dr.backward(l, flags=dr.ADFlag.ClearNone)\n",
    "\n",
    "grad = dr.grad(hist)\n",
    "utils.plot_hist(grad[:, :, 0], **config)\n",
    "\n",
    "# X = hist[:, 1, 0].numpy() * grad[:, 1, 0].numpy()\n",
    "# plt.plot(time, X / np.max(np.abs(X)))\n",
    "# G = grad[:, 1, 0].numpy()\n",
    "# plt.plot(time, G / np.max(np.abs(G)))\n",
    "# plt.xlim(-0.05, 0.4)\n",
    "# plt.ylim(-1.10, 1.1)\n",
    "# plt.show()"
   ]
  },
  {
   "cell_type": "code",
   "execution_count": null,
   "metadata": {},
   "outputs": [],
   "source": [
    "n = 7\n",
    "d = np.zeros((n, 2))\n",
    "a = np.linspace(0.6, 0.9, n)\n",
    "\n",
    "for i in trange(n):\n",
    "    break\n",
    "    opt[key_a] = mi.Float([0.2, a[i]])\n",
    "    apply_transform(params)\n",
    "    hist = mi.render(scene, params, seed=sess_seed, seed_grad=sess_seed_g)\n",
    "    l    = -1. * loss(hist)\n",
    "    dr.backward(l)\n",
    "    d[i, 0] = l.numpy()\n",
    "    d[i, 1] = dr.grad(opt[key_a])[1]\n",
    "\n",
    "plt.plot(a, d[:, 1])\n",
    "plt.show()"
   ]
  },
  {
   "cell_type": "markdown",
   "metadata": {},
   "source": [
    "### Main Loop"
   ]
  },
  {
   "cell_type": "code",
   "execution_count": null,
   "metadata": {},
   "outputs": [],
   "source": [
    "vals, grads, losses = [], [], []\n",
    "\n",
    "%matplotlib ipympl\n",
    "fig, (ax1, ax2, ax3) = plt.subplots(1, 3, figsize=(12, 3))\n",
    "\n",
    "ax1.set_title(\"values\")\n",
    "ax1.set_xlim(-1, 51)\n",
    "ax1.set_ylim(-0.1, 2.1)\n",
    "\n",
    "ax2.set_title(\"gradients\")\n",
    "ax2.set_xlim(-1, 51)\n",
    "ax2.set_ylim(-0.1, 1.1);\n",
    "\n",
    "ax3.set_title(\"loss\")\n",
    "ax3.set_xlim(-1, 51)\n",
    "ax3.set_ylim(-0.1, 1.1);"
   ]
  },
  {
   "cell_type": "code",
   "execution_count": null,
   "metadata": {},
   "outputs": [],
   "source": [
    "iters  = 50\n",
    "if iters > 1:\n",
    "    n  = len(vals) + iters\n",
    "\n",
    "for i in trange(iters):\n",
    "    apply_transform(params)\n",
    "    hist = mi.render(scene, params, seed=sess_seed+i, seed_grad=sess_seed_g+i)\n",
    "    l    = -1. * loss(hist)\n",
    "    dr.backward(l, flags=dr.ADFlag.ClearNone)\n",
    "    if dr.any(dr.isnan(dr.grad(opt['s'])))[0]:\n",
    "        dr.set_grad(opt['s'], 0.)\n",
    "        dr.set_grad(opt[key_a], 0.)\n",
    "        print(i)\n",
    "        continue\n",
    "\n",
    "    if iters < 2:\n",
    "        display(dr.grad(opt['s']))\n",
    "    else:\n",
    "        vals.append(np.append(opt['s'].numpy()[0], opt[key_a].numpy()))\n",
    "        grads.append(np.append(dr.grad(opt['s']).numpy()[0], dr.grad(opt[key_a]).numpy()))\n",
    "        losses.append(l.numpy())\n",
    "\n",
    "        opt.step()\n",
    "\n",
    "        ax1.clear()\n",
    "        ax1.set_title(\"values\")\n",
    "        ax1.set_xlim(-n * 0.02, n * 1.02)\n",
    "        ax1.set_ylim(-0.1, 2.1)\n",
    "        ax1.plot(vals)\n",
    "        ax1.hlines([0.2, 0.9], 0, n, colors='k', linestyles='dotted', linewidth=1.0)\n",
    "        ax1.hlines([0.5, 2.0], 0, n, colors='k', linestyles='dashdot', linewidth=1.0)\n",
    "\n",
    "        ax2.clear()\n",
    "        ax2.set_title(\"gradients\")\n",
    "        ax2.set_xlim(-n * 0.02, n * 1.02)\n",
    "        ax2.plot(np.array(grads)[:, :-2], label=[\"x\", \"y\", \"z\"])\n",
    "        # ax2.plot(np.array(grads)[:, -2:], label=[\"a1\", \"a2\"])\n",
    "        # ax2.legend()\n",
    "\n",
    "        ax3.clear()\n",
    "        ax3.set_title(\"loss\")\n",
    "        ax3.set_xlim(-n * 0.02, n * 1.02)\n",
    "        plt.plot(losses)\n",
    "\n",
    "        fig.canvas.draw()"
   ]
  },
  {
   "cell_type": "code",
   "execution_count": null,
   "metadata": {},
   "outputs": [],
   "source": [
    "if iters > 1:\n",
    "    V = np.stack([np.array(vals), np.array(grads)])\n",
    "    fname = \"../data/ism-diff-exp/ism-diff-exp-n3-02.npy\"\n",
    "    # np.save(fname, V)"
   ]
  },
  {
   "cell_type": "markdown",
   "metadata": {},
   "source": [
    "### Loss per Optimization step"
   ]
  },
  {
   "cell_type": "code",
   "execution_count": null,
   "metadata": {},
   "outputs": [],
   "source": [
    "if False:\n",
    "    # fname = \"../data/ism-diff-exp/ism-diff-exp-n3-02.npy\"\n",
    "    # V = np.load(fname)\n",
    "    losses = []\n",
    "\n",
    "    for i in trange(V.shape[1]):\n",
    "        opt[key_a] = mi.Float(V[0, i, -2:])\n",
    "        opt['s']   = mi.Vector3f(V[0, i, :-2])\n",
    "        apply_transform(params)\n",
    "\n",
    "        img = mi.render(scene, seed=sess_seed)\n",
    "        losses.append(loss(img))\n",
    "\n",
    "    np.save(fname.replace('.npy', '-losses.npy'), np.array(losses)[:, 0])\n",
    "\n",
    "    f, ax = plt.subplots(1, 1)\n",
    "    ax.plot(np.array(losses)[:, 0])\n",
    "    plt.show()"
   ]
  },
  {
   "cell_type": "markdown",
   "metadata": {},
   "source": [
    "### Manual Parameter search"
   ]
  },
  {
   "cell_type": "code",
   "execution_count": null,
   "metadata": {},
   "outputs": [],
   "source": [
    "n = 31\n",
    "values = np.linspace(0.5, 2., n)\n",
    "res = np.zeros(n)\n",
    "\n",
    "print(values)\n",
    "\n",
    "for i in trange(n):\n",
    "    # opt[key_a] = mi.Float([0.2, 0.9])\n",
    "    # opt['s']   = mi.Vector3f(1.3, 1.3, values[i])\n",
    "    opt['s']   = mi.Vector3f(1.0, 1.0, values[i])\n",
    "    # opt['s']   = mi.Vector3f(values[i], values[i], 1.0)\n",
    "    apply_transform(params)\n",
    "\n",
    "    img = mi.render(scene, seed=sess_seed)\n",
    "\n",
    "    # edc = acoustic_torch.EDC(img[:, :, 0], db=True, norm=True)\n",
    "    # t   = acoustic_torch.T(mi.TensorXf(time), edc)\n",
    "    # res[i] = dr.abs(t[1] - t[0]).numpy()\n",
    "\n",
    "    res[i] = loss(img).numpy()"
   ]
  },
  {
   "cell_type": "code",
   "execution_count": null,
   "metadata": {},
   "outputs": [],
   "source": [
    "plt.close()\n",
    "plt.plot(values, res)\n",
    "plt.show()"
   ]
  },
  {
   "cell_type": "markdown",
   "metadata": {},
   "source": [
    "### Scattering Dependence"
   ]
  },
  {
   "cell_type": "code",
   "execution_count": null,
   "metadata": {},
   "outputs": [],
   "source": [
    "path = \"../data/ism-diff-exp\"\n",
    "files = os.listdir(path)\n",
    "\n",
    "V = np.zeros((6, 2, 2, 250, 5))\n",
    "L = np.zeros((6, 2, 250))\n",
    "for f in files:\n",
    "    if \"losses\" in f or \"adj\" in f:\n",
    "        continue\n",
    "    k = f[14:-4].split('-')\n",
    "    n = int(k[0]) - 1\n",
    "    l = int(k[-1]) - 1\n",
    "\n",
    "    V[n, l] = np.load(os.path.join(path, f))\n",
    "    L[n, l] = np.load(os.path.join(path, f).replace('.npy', '-losses.npy'))"
   ]
  },
  {
   "cell_type": "code",
   "execution_count": null,
   "metadata": {},
   "outputs": [],
   "source": [
    "for n in range(6):\n",
    "    i = np.argmax(L[n, 0])\n",
    "    params[\"acoustic_bsdf.scattering.value\"] = 0.\n",
    "    params[\"opt_bsdf.scattering.value\"]      = 0.\n",
    "    opt[key_a] = mi.Float(V[n, 0, 0, i, -2:])\n",
    "    opt['s']   = mi.Vector3f(V[n, 0, 0, i, :-2])\n",
    "    apply_transform(params)\n",
    "    img = mi.render(scene, seed=sess_seed)\n",
    "    l0 = loss(img).numpy()[0]\n",
    "\n",
    "    j = np.argmax(L[n, 1])\n",
    "    opt[key_a] = mi.Float(V[n, 1, 0, j, -2:])\n",
    "    opt['s']   = mi.Vector3f(V[n, 1, 0, j, :-2])\n",
    "    apply_transform(params)\n",
    "    img = mi.render(scene, seed=sess_seed)\n",
    "    l1 = loss(img).numpy()[0]\n",
    "\n",
    "    print(n, l0, l1, L[n, 0, i], L[n, 1, j])"
   ]
  },
  {
   "cell_type": "code",
   "execution_count": null,
   "metadata": {},
   "outputs": [],
   "source": [
    "losses = []\n",
    "\n",
    "i = np.argmax(L[2, 0])\n",
    "opt[key_a] = mi.Float(V[2, 0, 0, i, -2:])\n",
    "opt['s']   = mi.Vector3f(V[2, 0, 0, i, :-2])\n",
    "apply_transform(params)\n",
    "\n",
    "n = 101\n",
    "scattering = np.linspace(0., 1., n, endpoint=True)\n",
    "for i in trange(n):\n",
    "    params[\"acoustic_bsdf.scattering.value\"] = scattering[i]\n",
    "    params[\"opt_bsdf.scattering.value\"]      = scattering[i]\n",
    "    params.update()\n",
    "    img = mi.render(scene, seed=sess_seed)\n",
    "    losses.append(loss(img).numpy()[0])\n",
    "\n",
    "plt.plot(scattering, losses)\n",
    "plt.show()"
   ]
  },
  {
   "cell_type": "code",
   "execution_count": null,
   "metadata": {},
   "outputs": [],
   "source": []
  }
 ],
 "metadata": {
  "kernelspec": {
   "display_name": "Python 3 (ipykernel)",
   "language": "python",
   "name": "python3"
  },
  "language_info": {
   "codemirror_mode": {
    "name": "ipython",
    "version": 3
   },
   "file_extension": ".py",
   "mimetype": "text/x-python",
   "name": "python",
   "nbconvert_exporter": "python",
   "pygments_lexer": "ipython3",
   "version": "3.10.12"
  },
  "widgets": {
   "application/vnd.jupyter.widget-state+json": {
    "state": {
     "07ec54878c3c410ca11e8b72444a00e8": {
      "model_module": "@jupyter-widgets/controls",
      "model_module_version": "1.5.0",
      "model_name": "ProgressStyleModel",
      "state": {
       "description_width": ""
      }
     },
     "0c35e343c7ef48baa2f16a89425e45c9": {
      "model_module": "@jupyter-widgets/base",
      "model_module_version": "1.2.0",
      "model_name": "LayoutModel",
      "state": {
       "width": "100%"
      }
     },
     "121009d8ad1a400bb0faff5650af82b3": {
      "model_module": "@jupyter-widgets/base",
      "model_module_version": "1.2.0",
      "model_name": "LayoutModel",
      "state": {}
     },
     "148400d8a7d44374a39589fb0c0d7d46": {
      "model_module": "@jupyter-widgets/base",
      "model_module_version": "1.2.0",
      "model_name": "LayoutModel",
      "state": {
       "width": "100%"
      }
     },
     "1bf5946071df47e686b46976c829f4d0": {
      "model_module": "@jupyter-widgets/base",
      "model_module_version": "1.2.0",
      "model_name": "LayoutModel",
      "state": {}
     },
     "2262fd9b5af64b308ea9fd1d5b0b0494": {
      "model_module": "@jupyter-widgets/controls",
      "model_module_version": "1.5.0",
      "model_name": "FloatProgressModel",
      "state": {
       "bar_style": "success",
       "layout": "IPY_MODEL_0c35e343c7ef48baa2f16a89425e45c9",
       "max": 1,
       "style": "IPY_MODEL_64638caeb3de4839809e4dae0dc2b071",
       "value": 1
      }
     },
     "328d9c2dbd124dc19ae91ce0cb551403": {
      "model_module": "@jupyter-widgets/controls",
      "model_module_version": "1.5.0",
      "model_name": "VBoxModel",
      "state": {
       "children": [
        "IPY_MODEL_493c51e117d545a799ea5a57b9bfb258",
        "IPY_MODEL_bc89b3250375423e82db58560d690de3"
       ],
       "layout": "IPY_MODEL_4352d146b8ac4b478de6fb1778cd5d41"
      }
     },
     "384ad0e5d7934e3b89951358a9d19186": {
      "model_module": "@jupyter-widgets/controls",
      "model_module_version": "1.5.0",
      "model_name": "VBoxModel",
      "state": {
       "children": [
        "IPY_MODEL_cfb38214efa947568144d4522d548de6",
        "IPY_MODEL_c689f166d13242938ff57a24b0817d41"
       ],
       "layout": "IPY_MODEL_121009d8ad1a400bb0faff5650af82b3"
      }
     },
     "4352d146b8ac4b478de6fb1778cd5d41": {
      "model_module": "@jupyter-widgets/base",
      "model_module_version": "1.2.0",
      "model_name": "LayoutModel",
      "state": {}
     },
     "493c51e117d545a799ea5a57b9bfb258": {
      "model_module": "@jupyter-widgets/controls",
      "model_module_version": "1.5.0",
      "model_name": "HTMLModel",
      "state": {
       "layout": "IPY_MODEL_a3f5661d51064b2eb0e9ef5d1b0bb8aa",
       "style": "IPY_MODEL_b6610365565e4df1ab9f0dacfc0ee04a",
       "value": "Rendering (13.9s, ETA: 0ms)"
      }
     },
     "5ca4d20425df44658fb252c281f019fd": {
      "model_module": "@jupyter-widgets/base",
      "model_module_version": "1.2.0",
      "model_name": "LayoutModel",
      "state": {
       "width": "100%"
      }
     },
     "5ead71d75c28401eb61aaec2db79be71": {
      "model_module": "@jupyter-widgets/controls",
      "model_module_version": "1.5.0",
      "model_name": "HTMLModel",
      "state": {
       "layout": "IPY_MODEL_1bf5946071df47e686b46976c829f4d0",
       "style": "IPY_MODEL_f87d0eda3bba45a6b5101e92ec75ab51",
       "value": "Rendering (13.9s, ETA: 0ms)"
      }
     },
     "64638caeb3de4839809e4dae0dc2b071": {
      "model_module": "@jupyter-widgets/controls",
      "model_module_version": "1.5.0",
      "model_name": "ProgressStyleModel",
      "state": {
       "description_width": ""
      }
     },
     "64e097a514c04437bf30f0d12463d973": {
      "model_module": "@jupyter-widgets/controls",
      "model_module_version": "1.5.0",
      "model_name": "FloatProgressModel",
      "state": {
       "bar_style": "success",
       "layout": "IPY_MODEL_5ca4d20425df44658fb252c281f019fd",
       "max": 1,
       "style": "IPY_MODEL_07ec54878c3c410ca11e8b72444a00e8",
       "value": 1
      }
     },
     "6c57fb913d8b47c7ad6a2129294b7f4a": {
      "model_module": "@jupyter-widgets/controls",
      "model_module_version": "1.5.0",
      "model_name": "VBoxModel",
      "state": {
       "children": [
        "IPY_MODEL_c93f1917313f474c96018ef6f4db65b3",
        "IPY_MODEL_e1ec3d6d53ce43e386de054ab61583b5"
       ],
       "layout": "IPY_MODEL_cdad0127f4f6443a8643eec4140c2b50"
      }
     },
     "76ef1ebaa1c34d4ca27c8fda94d21eae": {
      "model_module": "@jupyter-widgets/base",
      "model_module_version": "1.2.0",
      "model_name": "LayoutModel",
      "state": {}
     },
     "7995615f2c5648de87bc7080ce7043aa": {
      "model_module": "@jupyter-widgets/base",
      "model_module_version": "1.2.0",
      "model_name": "LayoutModel",
      "state": {}
     },
     "7b6bc4d7291243dcb4838f1745959151": {
      "model_module": "@jupyter-widgets/base",
      "model_module_version": "1.2.0",
      "model_name": "LayoutModel",
      "state": {}
     },
     "895ccf032eb44c24a5e60315ff3eba16": {
      "model_module": "@jupyter-widgets/base",
      "model_module_version": "1.2.0",
      "model_name": "LayoutModel",
      "state": {
       "width": "100%"
      }
     },
     "9b86f1cff37c4fdc9e619cd95a70a256": {
      "model_module": "@jupyter-widgets/controls",
      "model_module_version": "1.5.0",
      "model_name": "DescriptionStyleModel",
      "state": {
       "description_width": ""
      }
     },
     "a3f5661d51064b2eb0e9ef5d1b0bb8aa": {
      "model_module": "@jupyter-widgets/base",
      "model_module_version": "1.2.0",
      "model_name": "LayoutModel",
      "state": {}
     },
     "a40669281c224b5f85fa4485491c3950": {
      "model_module": "@jupyter-widgets/controls",
      "model_module_version": "1.5.0",
      "model_name": "VBoxModel",
      "state": {
       "children": [
        "IPY_MODEL_d7bb96993f3a4db4bb2aa71270257a1b",
        "IPY_MODEL_64e097a514c04437bf30f0d12463d973"
       ],
       "layout": "IPY_MODEL_76ef1ebaa1c34d4ca27c8fda94d21eae"
      }
     },
     "a6576f2dd3604fb79879caa19911b935": {
      "model_module": "@jupyter-widgets/controls",
      "model_module_version": "1.5.0",
      "model_name": "ProgressStyleModel",
      "state": {
       "description_width": ""
      }
     },
     "b6610365565e4df1ab9f0dacfc0ee04a": {
      "model_module": "@jupyter-widgets/controls",
      "model_module_version": "1.5.0",
      "model_name": "DescriptionStyleModel",
      "state": {
       "description_width": ""
      }
     },
     "b91e3ad4740c42798db154827fbe5477": {
      "model_module": "@jupyter-widgets/controls",
      "model_module_version": "1.5.0",
      "model_name": "DescriptionStyleModel",
      "state": {
       "description_width": ""
      }
     },
     "bc89b3250375423e82db58560d690de3": {
      "model_module": "@jupyter-widgets/controls",
      "model_module_version": "1.5.0",
      "model_name": "FloatProgressModel",
      "state": {
       "bar_style": "success",
       "layout": "IPY_MODEL_148400d8a7d44374a39589fb0c0d7d46",
       "max": 1,
       "style": "IPY_MODEL_e4fb04aa19fd44a49f0fdd5e9a4fa9fd",
       "value": 1
      }
     },
     "c689f166d13242938ff57a24b0817d41": {
      "model_module": "@jupyter-widgets/controls",
      "model_module_version": "1.5.0",
      "model_name": "FloatProgressModel",
      "state": {
       "bar_style": "success",
       "layout": "IPY_MODEL_f1cc99986b0b46b58cae7fd82c5aad84",
       "max": 1,
       "style": "IPY_MODEL_e609a9ba6dff485bbde84e1fe599b2ba",
       "value": 1
      }
     },
     "c93f1917313f474c96018ef6f4db65b3": {
      "model_module": "@jupyter-widgets/controls",
      "model_module_version": "1.5.0",
      "model_name": "HTMLModel",
      "state": {
       "layout": "IPY_MODEL_ea57520c73bb4bf49de6ef0ab85b5fd5",
       "style": "IPY_MODEL_9b86f1cff37c4fdc9e619cd95a70a256",
       "value": "Rendering (34.1s, ETA: 0ms)"
      }
     },
     "cdad0127f4f6443a8643eec4140c2b50": {
      "model_module": "@jupyter-widgets/base",
      "model_module_version": "1.2.0",
      "model_name": "LayoutModel",
      "state": {}
     },
     "cfb38214efa947568144d4522d548de6": {
      "model_module": "@jupyter-widgets/controls",
      "model_module_version": "1.5.0",
      "model_name": "HTMLModel",
      "state": {
       "layout": "IPY_MODEL_f92a16e114714e9e82f1e60a0980cb2d",
       "style": "IPY_MODEL_e11cbf07e2d240348cdc470bd4f234e7",
       "value": "Rendering (13.8s, ETA: 0ms)"
      }
     },
     "d7bb96993f3a4db4bb2aa71270257a1b": {
      "model_module": "@jupyter-widgets/controls",
      "model_module_version": "1.5.0",
      "model_name": "HTMLModel",
      "state": {
       "layout": "IPY_MODEL_7995615f2c5648de87bc7080ce7043aa",
       "style": "IPY_MODEL_b91e3ad4740c42798db154827fbe5477",
       "value": "Rendering (14s, ETA: 0ms)"
      }
     },
     "d827ae3e316a4961b44fc24c2ef633a7": {
      "model_module": "@jupyter-widgets/controls",
      "model_module_version": "1.5.0",
      "model_name": "VBoxModel",
      "state": {
       "children": [
        "IPY_MODEL_5ead71d75c28401eb61aaec2db79be71",
        "IPY_MODEL_2262fd9b5af64b308ea9fd1d5b0b0494"
       ],
       "layout": "IPY_MODEL_7b6bc4d7291243dcb4838f1745959151"
      }
     },
     "e11cbf07e2d240348cdc470bd4f234e7": {
      "model_module": "@jupyter-widgets/controls",
      "model_module_version": "1.5.0",
      "model_name": "DescriptionStyleModel",
      "state": {
       "description_width": ""
      }
     },
     "e1ec3d6d53ce43e386de054ab61583b5": {
      "model_module": "@jupyter-widgets/controls",
      "model_module_version": "1.5.0",
      "model_name": "FloatProgressModel",
      "state": {
       "bar_style": "success",
       "layout": "IPY_MODEL_895ccf032eb44c24a5e60315ff3eba16",
       "max": 1,
       "style": "IPY_MODEL_a6576f2dd3604fb79879caa19911b935",
       "value": 1
      }
     },
     "e4fb04aa19fd44a49f0fdd5e9a4fa9fd": {
      "model_module": "@jupyter-widgets/controls",
      "model_module_version": "1.5.0",
      "model_name": "ProgressStyleModel",
      "state": {
       "description_width": ""
      }
     },
     "e609a9ba6dff485bbde84e1fe599b2ba": {
      "model_module": "@jupyter-widgets/controls",
      "model_module_version": "1.5.0",
      "model_name": "ProgressStyleModel",
      "state": {
       "description_width": ""
      }
     },
     "ea57520c73bb4bf49de6ef0ab85b5fd5": {
      "model_module": "@jupyter-widgets/base",
      "model_module_version": "1.2.0",
      "model_name": "LayoutModel",
      "state": {}
     },
     "f1cc99986b0b46b58cae7fd82c5aad84": {
      "model_module": "@jupyter-widgets/base",
      "model_module_version": "1.2.0",
      "model_name": "LayoutModel",
      "state": {
       "width": "100%"
      }
     },
     "f87d0eda3bba45a6b5101e92ec75ab51": {
      "model_module": "@jupyter-widgets/controls",
      "model_module_version": "1.5.0",
      "model_name": "DescriptionStyleModel",
      "state": {
       "description_width": ""
      }
     },
     "f92a16e114714e9e82f1e60a0980cb2d": {
      "model_module": "@jupyter-widgets/base",
      "model_module_version": "1.2.0",
      "model_name": "LayoutModel",
      "state": {}
     }
    },
    "version_major": 2,
    "version_minor": 0
   }
  }
 },
 "nbformat": 4,
 "nbformat_minor": 4
}
