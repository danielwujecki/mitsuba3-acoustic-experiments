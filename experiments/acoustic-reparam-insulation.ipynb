{
 "cells": [
  {
   "cell_type": "markdown",
   "metadata": {},
   "source": [
    "## Acoustic Integration - Insulation Size Estimation\n",
    "\n",
    "http://localhost:8888/?token=sloth"
   ]
  },
  {
   "cell_type": "code",
   "execution_count": null,
   "metadata": {},
   "outputs": [],
   "source": [
    "if \"mi\" not in vars():\n",
    "    visual = False\n",
    "\n",
    "    import numpy as np\n",
    "    from tqdm import trange\n",
    "    import matplotlib.pyplot as plt\n",
    "\n",
    "    if not visual:\n",
    "        %matplotlib ipympl\n",
    "\n",
    "    import drjit as dr\n",
    "    import mitsuba as mi\n",
    "\n",
    "    from libs import utils, acoustic_torch\n",
    "\n",
    "    plt.style.use('ggplot')\n",
    "    mi.set_log_level(mi.LogLevel.Warn)\n",
    "    utils.drjit_turn_off_optimizations(False)\n",
    "\n",
    "    if visual:\n",
    "        mi.set_variant('cuda_ad_rgb')\n",
    "    else:\n",
    "        mi.set_variant('cuda_ad_acoustic')\n",
    "\n",
    "    sess_seed   = np.random.randint(0, 2**30)\n",
    "    sess_seed_g = np.random.randint(0, 2**30)\n",
    "    print(f\"session seeds are: sess_seed={sess_seed}; sess_seed_g={sess_seed_g}\")"
   ]
  },
  {
   "cell_type": "markdown",
   "metadata": {},
   "source": [
    "### Scene Construction"
   ]
  },
  {
   "cell_type": "code",
   "execution_count": null,
   "metadata": {},
   "outputs": [],
   "source": [
    "def shoebox_scene_wrapper(visual=False, **kwargs):\n",
    "    tf          = mi.ScalarTransform4f\n",
    "    box_dim     = np.array(kwargs['box_dim']) / 2.\n",
    "    eps         = 100. * dr.epsilon(mi.Float)\n",
    "\n",
    "    scene = utils.shoebox_scene_visual(**kwargs) if visual else utils.shoebox_scene(**kwargs)\n",
    "    scene[\"eierpappe\"] = {\n",
    "        \"type\": \"ply\",\n",
    "        \"filename\": \"/home/daniel/Studium/masterarbeit/data/scenes/meshes/rectangle.ply\",\n",
    "        \"bsdf\": {\n",
    "            \"type\": \"acousticbsdf\",\n",
    "            \"scattering\": { \"type\": \"spectrum\", \"value\": kwargs['scattering'] },\n",
    "            \"absorption\": { \"type\": \"spectrum\", \"value\": 0.9 },\n",
    "        },\n",
    "        \"to_world\": tf.translate([0., 0., eps - box_dim[2]]).scale([6., box_dim[1] - 0.5, 1.])\n",
    "    }\n",
    "\n",
    "    if visual:\n",
    "        scene[\"eierpappe\"][\"bsdf\"] = { \"type\": \"diffuse\", \"reflectance\": 0.9 }\n",
    "        scene[\"integrator\"] = {\n",
    "            \"type\": \"prb_reparam\",\n",
    "            \"max_depth\": 8,\n",
    "            \"hide_emitters\": True,\n",
    "            # \"reparam_rays\": 32,\n",
    "        }\n",
    "    else:\n",
    "        scene[\"integrator\"][\"skip_direct\"] = True\n",
    "\n",
    "    return scene"
   ]
  },
  {
   "cell_type": "code",
   "execution_count": null,
   "metadata": {
    "jupyter": {
     "source_hidden": true
    }
   },
   "outputs": [],
   "source": [
    "absorption = [0.1, 0.2]\n",
    "# scattering = [0.2, 0.8]\n",
    "\n",
    "# absorption_mdim, scattering_mdim = np.meshgrid(absorption, scattering)\n",
    "# absorption,      scattering      = absorption_mdim.flatten(), scattering_mdim.flatten()\n",
    "\n",
    "config = {\n",
    "    \"box_dim\":     [25., 12., 7.],\n",
    "    \"mic_pos\":     [ 9.,  6., 1.],\n",
    "    \"speaker_pos\": [20.,  7., 2.],\n",
    "    \"speaker_radius\": 0.5, #0.1,\n",
    "\n",
    "    \"absorption\": [(i + 1, a) for i, a in enumerate(absorption)],\n",
    "    \"scattering\": 0.8, #[(i + 1, s) for i, s in enumerate(scattering)],\n",
    "\n",
    "    \"wav_bins\":  len(absorption), # x\n",
    "    \"time_bins\": 60,             # y\n",
    "    \"max_time\":  1.5,\n",
    "\n",
    "    # \"integrator\": \"prb_acoustic\",\n",
    "    \"integrator\": \"prb_reparam_acoustic\",\n",
    "    \"max_depth\": 60,\n",
    "    \"spp\": 2**18,\n",
    "}\n",
    "\n",
    "fs = config[\"time_bins\"] / config[\"max_time\"]\n",
    "time = np.linspace(0., config[\"max_time\"], config[\"time_bins\"], endpoint=False)\n",
    "\n",
    "max_depth_rec       = utils.estimate_max_depth(config[\"box_dim\"], config[\"max_time\"], 1.5)\n",
    "# config[\"max_depth\"] = max_depth_rec\n",
    "print(f\"max_depth = {config['max_depth']}; should be = {max_depth_rec}\")"
   ]
  },
  {
   "cell_type": "markdown",
   "metadata": {},
   "source": [
    "### Reference Histogram"
   ]
  },
  {
   "cell_type": "code",
   "execution_count": null,
   "metadata": {},
   "outputs": [],
   "source": [
    "scene_dict = shoebox_scene_wrapper(visual=visual, **config)\n",
    "scene      = mi.load_dict(scene_dict)\n",
    "img_ref    = mi.render(scene, seed=sess_seed)\n",
    "\n",
    "if visual:\n",
    "    utils.plot_img(img_ref)\n",
    "else:\n",
    "    utils.plot_hist(img_ref[:, :, 0], **config)"
   ]
  },
  {
   "cell_type": "markdown",
   "metadata": {},
   "source": [
    "### Optimization Setup"
   ]
  },
  {
   "cell_type": "code",
   "execution_count": null,
   "metadata": {},
   "outputs": [],
   "source": [
    "params = mi.traverse(scene)\n",
    "# display(params)\n",
    "\n",
    "key = 'eierpappe.vertex_positions'\n",
    "vertex_pos_ref = dr.unravel(mi.Point3f, params[key])\n",
    "display(vertex_pos_ref)"
   ]
  },
  {
   "cell_type": "code",
   "execution_count": null,
   "metadata": {},
   "outputs": [],
   "source": [
    "opt = mi.ad.Adam(lr=0.025)\n",
    "opt['s'] = mi.Point3f(1.5, 1.0, 1.0)\n",
    "\n",
    "def apply_transform():\n",
    "    opt['s']   = dr.clamp(opt['s'], 0.0, 2.0)\n",
    "    opt['s'].y = opt['s'].z = 1.0\n",
    "\n",
    "    params[key] = dr.ravel(vertex_pos_ref * (2. - opt['s']))\n",
    "    # params[key] = dr.ravel(vertex_pos_ref * opt['s'])\n",
    "    params.update()"
   ]
  },
  {
   "cell_type": "code",
   "execution_count": null,
   "metadata": {},
   "outputs": [],
   "source": [
    "apply_transform()\n",
    "img = mi.render(scene, seed=sess_seed)\n",
    "if visual:\n",
    "    utils.plot_img(img)\n",
    "else:\n",
    "    utils.plot_hist(img[:, :, 0], **config)"
   ]
  },
  {
   "cell_type": "markdown",
   "metadata": {},
   "source": [
    "### Visualize Loss/Gradient-Spectogram"
   ]
  },
  {
   "cell_type": "code",
   "execution_count": null,
   "metadata": {},
   "outputs": [],
   "source": [
    "edc_ref = acoustic_torch.EDC(img_ref[:, :, 0], db=True, norm=True)\n",
    "t30_ref = acoustic_torch.T(mi.TensorXf(time), edc_ref)\n",
    "\n",
    "def loss(a, b):\n",
    "    # a = acoustic_torch.C(a[:, :, 0], fs=fs)\n",
    "    # b = acoustic_torch.C(b[:, :, 0], fs=fs)\n",
    "    # a = acoustic_torch.D(a[:, :, 0], fs=fs)\n",
    "    # b = acoustic_torch.D(b[:, :, 0], fs=fs)\n",
    "    # a = acoustic_torch.TS(mi.TensorXf(time), a[:, :, 0])\n",
    "    # b = acoustic_torch.TS(mi.TensorXf(time), b[:, :, 0])\n",
    "\n",
    "    a = acoustic_torch.EDC(a[:, :, 0], db=True, norm=True)\n",
    "    # b = acoustic_torch.EDC(b[:, :, 0], db=True, norm=True)\n",
    "    a = acoustic_torch.T(mi.TensorXf(time), a)\n",
    "    # b = acoustic_torch.T(mi.TensorXf(time), b)\n",
    "    b = t30_ref\n",
    "\n",
    "    return utils.mse(a, b)"
   ]
  },
  {
   "cell_type": "code",
   "execution_count": null,
   "metadata": {},
   "outputs": [],
   "source": [
    "opt['s'] = mi.Point3f(1.1, 1., 1.)\n",
    "apply_transform()\n",
    "img = mi.render(scene, seed=sess_seed)\n",
    "dr.enable_grad(img)\n",
    "l = loss(img, img_ref)\n",
    "dr.backward(l)\n",
    "\n",
    "gradl = mi.TensorXf(dr.grad(img))\n",
    "print(dr.min(gradl), dr.max(gradl))\n",
    "\n",
    "if visual:\n",
    "    gradl = dr.maximum(0., gradl - dr.min(gradl))\n",
    "    gradl = dr.minimum(1., gradl / dr.max(gradl))\n",
    "    utils.plot_img(gradl)\n",
    "else:\n",
    "    utils.plot_hist(gradl[:, :, 0], **config)"
   ]
  },
  {
   "cell_type": "code",
   "execution_count": null,
   "metadata": {},
   "outputs": [],
   "source": [
    "if False and not visual:\n",
    "    factors = np.linspace(0.5, 1.5, 11, endpoint=True)\n",
    "    losses  = np.zeros((factors.shape[0], 2))\n",
    "    grads   = np.zeros((factors.shape[0], 2))\n",
    "\n",
    "    assert losses.shape == grads.shape\n",
    "\n",
    "    for i in trange(losses.shape[0]):\n",
    "        opt['s'] = mi.Point3f(factors[i], 1., 1.)\n",
    "        apply_transform()\n",
    "        img = mi.render(scene, params, seed=i+1, seed_grad=i+2)\n",
    "\n",
    "        l0  = dr.sqr(dr.sum(img[:, :, 0]) - dr.sum(img_ref[:, :, 0]))\n",
    "        dr.backward(l0)\n",
    "        g0  = dr.grad(opt['s']).x\n",
    "\n",
    "        losses[i, 0] = l0[0]\n",
    "        grads[i, 0]  = g0[0]\n",
    "\n",
    "\n",
    "        opt['s'] = mi.Point3f(factors[i], 1., 1.)\n",
    "        apply_transform()\n",
    "        img = mi.render(scene, params, seed=i+1, seed_grad=i+2)\n",
    "\n",
    "        # grad = mi.TensorXf(np.array([\n",
    "        #     [[0., 0.], [0., 0.]],\n",
    "        #     [[0., 0.], [0., 0.]],\n",
    "        #     [[2., 0.], [2., 0.]],\n",
    "        #     [[2., 0.], [2., 0.]],\n",
    "        #     [[0., 0.], [0., 0.]],\n",
    "        # ])) * dr.sign(mi.Float(factors[i])) * -1000.\n",
    "        # dr.set_grad(img, grad)\n",
    "        # g1 = dr.backward_to(opt['s'])\n",
    "\n",
    "        l1  = mse(img, img_ref)\n",
    "        dr.backward(l1)\n",
    "        g1  = dr.grad(opt['s']).x\n",
    "\n",
    "        losses[i, 1] = l1[0]\n",
    "        grads[i, 1]  = g1[0]\n",
    "\n",
    "    fig, axis = plt.subplots(2, 2, figsize=(12, 8), sharex=True, sharey=False)\n",
    "    axf = axis.flatten()\n",
    "\n",
    "    axf[0].plot(factors, losses[:, 0])\n",
    "    axf[1].plot(factors, losses[:, 1])\n",
    "    axf[2].plot(factors, grads[:, 0])\n",
    "    axf[3].plot(factors, grads[:, 1])\n",
    "\n",
    "    axf[2].axhline(0., -10., 10, c=\"C1\", linestyle=\"dotted\")\n",
    "    axf[2].axvline(1., -2**30, 2**30, c=\"C1\", linestyle=\"dotted\")\n",
    "    axf[3].axhline(0., -10., 10, c=\"C1\", linestyle=\"dotted\")\n",
    "    axf[3].axvline(1., -2**30, 2**30, c=\"C1\", linestyle=\"dotted\")\n",
    "\n",
    "    axf[0].set_title(\"$\\\\left(\\sum_{i=1}^n x_i - \\sum_{i=1}^n \\overline{x}_i \\\\right)^2$\")\n",
    "    axf[1].set_title(\"$\\\\frac{1}{n}\\sum_{i=1}^n (x_i - \\overline{x}_i)^2$\")\n",
    "\n",
    "    axf[0].set_ylabel(\"Loss\")\n",
    "    axf[2].set_ylabel(\"Gradient opt['s']\")\n",
    "\n",
    "    # plt.close()\n",
    "    fig.show()"
   ]
  },
  {
   "cell_type": "markdown",
   "metadata": {},
   "source": [
    "### Main Loop"
   ]
  },
  {
   "cell_type": "code",
   "execution_count": null,
   "metadata": {},
   "outputs": [],
   "source": [
    "opt['s'] = mi.Point3f(1.5, 1., 1.)\n",
    "\n",
    "vals, losses, grads = [], [], []\n",
    "\n",
    "fig, (ax1, ax2, ax3) = plt.subplots(1, 3, figsize=(12, 3), sharex=True)\n",
    "ax1.set_title(\"values\")\n",
    "ax1.set_xlim(-1, 51)\n",
    "ax1.set_ylim(-0.1, 2.1)\n",
    "\n",
    "ax2.set_title(\"grads\")\n",
    "ax2.set_ylim(-1.1, 1.1)\n",
    "\n",
    "ax3.set_title(\"losses\");"
   ]
  },
  {
   "cell_type": "code",
   "execution_count": null,
   "metadata": {},
   "outputs": [],
   "source": [
    "iters = 50\n",
    "if iters > 1:\n",
    "    n  = len(vals) + iters\n",
    "\n",
    "# for i in trange(iters) if iters > 1 else range(iters):\n",
    "for i in range(iters) if iters > 1 else range(iters):\n",
    "    apply_transform()\n",
    "    if visual:\n",
    "        img = mi.render(scene, params,\n",
    "                        seed=sess_seed+i, seed_grad=sess_seed_g+i, spp=25)\n",
    "    else:\n",
    "        img = mi.render(scene, params,\n",
    "                        seed=sess_seed+i, seed_grad=sess_seed_g+i)\n",
    "\n",
    "    l = loss(img, img_ref)\n",
    "    dr.backward(l, flags=dr.ADFlag.ClearNone if iters < 2 else dr.ADFlag.Default)\n",
    "    # dr.set_grad(opt['s'], mi.Point3f(100., 0., 0.))\n",
    "\n",
    "    if iters < 2:\n",
    "        display(dr.unravel(mi.Point3f, dr.grad(params[key])))\n",
    "        display(dr.grad(opt['s']).x)\n",
    "    else:\n",
    "        losses.append(l[0])\n",
    "        vals.append(opt['s'].x[0])\n",
    "        grads.append(dr.grad(opt['s']).x[0])\n",
    "\n",
    "        opt.step()\n",
    "\n",
    "        ax1.clear()\n",
    "        ax1.set_title(\"values\")\n",
    "        ax1.plot(vals)\n",
    "        ax1.hlines([1.0], 0, n, colors='k', linestyles='dotted')\n",
    "        ax1.set_xlim(-n * 0.02, n * 1.02)\n",
    "        ax1.set_ylim(-0.1, 2.1)\n",
    "\n",
    "        ax2.clear()\n",
    "        ax2.set_title(\"grads\")\n",
    "        ax2.plot(grads)\n",
    "\n",
    "        ax3.clear()\n",
    "        ax3.set_title(\"losses\")\n",
    "        ax3.plot(losses)\n",
    "\n",
    "        fig.canvas.draw()"
   ]
  },
  {
   "cell_type": "code",
   "execution_count": null,
   "metadata": {},
   "outputs": [],
   "source": [
    "if iters > 1:\n",
    "    losses = np.array(losses)\n",
    "    vals   = np.array(vals)\n",
    "    grads  = np.array(grads)\n",
    "    data = np.stack([losses, vals, grads])\n",
    "    # np.save(\"/home/daniel/reparam-eierpappe-plain-prb-t30-1_5.npy\", data)"
   ]
  },
  {
   "cell_type": "markdown",
   "metadata": {},
   "source": [
    "### Estimated (Forward) Gradients vs. Finite Differences"
   ]
  },
  {
   "cell_type": "code",
   "execution_count": null,
   "metadata": {},
   "outputs": [],
   "source": [
    "randint = np.random.randint(0, 2**20)\n",
    "\n",
    "# forward_pass\n",
    "opt['s'] = mi.Point3f(0.2, 0.0, 0.0)\n",
    "apply_transform()\n",
    "\n",
    "assert dr.grad_enabled(opt['s'])\n",
    "dr.set_grad(opt['s'], mi.Point3f(1.0, 0.0, 0.0))\n",
    "\n",
    "img  = mi.render(scene, params, seed=randint, seed_grad=randint+1)\n",
    "grad = dr.forward_to(img)\n",
    "\n",
    "# finite differences\n",
    "opt['s'] = mi.Point3f(0.2, 0.0, 0.0)\n",
    "apply_transform()\n",
    "img = mi.render(scene, seed=randint)\n",
    "\n",
    "opt['s'] = mi.Point3f(0.2 + 1e-2, 0.0, 0.0)\n",
    "apply_transform()\n",
    "finite_difference = mi.render(scene, seed=randint) - img\n",
    "# finite_difference = img - mi.render(scene, seed=randint)"
   ]
  },
  {
   "cell_type": "code",
   "execution_count": null,
   "metadata": {},
   "outputs": [],
   "source": [
    "if not visual:\n",
    "    t = np.linspace(0., config[\"max_time\"], config[\"time_bins\"], endpoint=False)\n",
    "    label = list(map(lambda x: f\"$\\\\alpha={x:.2f}$\", absorption))\n",
    "\n",
    "    _, (ax1, ax2) = plt.subplots(1, 2, figsize=(12, 4), sharey=False)\n",
    "\n",
    "    ax1.plot(t, grad[:, :, 0].numpy())\n",
    "    ax1.set_xlabel(\"time [s]\")\n",
    "    ax1.set_ylabel(\"Energy [a.U.]\")\n",
    "    ax1.set_title(\"PRB Reparam Gradient\")\n",
    "\n",
    "    ax2.plot(t, finite_difference[:, :, 0].numpy(), label=label)\n",
    "    ax2.set_xlabel(\"time [s]\")\n",
    "    ax2.set_title(\"finite differences\")\n",
    "    ax2.legend()\n",
    "\n",
    "    plt.show()\n",
    "else:\n",
    "    _, (ax1, ax2) = plt.subplots(1, 2, figsize=(16, 5))\n",
    "\n",
    "    ax1.imshow(bitmap(grad, convert=True))\n",
    "    ax1.axis(\"off\")\n",
    "    ax1.set_title(\"PRB Reparam Gradient\")\n",
    "\n",
    "    ax2.imshow(bitmap(dr.abs(finite_difference), convert=True))\n",
    "    ax2.axis(\"off\")\n",
    "    ax2.set_title(\"finite differences\")\n",
    "\n",
    "    plt.show()\n",
    "\n",
    "    grad_t              = grad.numpy().transpose(1, 0, 2)\n",
    "    finite_difference_t = finite_difference.numpy().transpose(1, 0, 2)\n",
    "\n",
    "    _, axis = plt.subplots(3, 2, figsize=(12, 12), sharex=True)\n",
    "\n",
    "    axis[0, 0].set_title(\"PRB Reparam Gradient\")\n",
    "    axis[0, 0].plot(grad_t[:, :, 0].flatten())\n",
    "    axis[1, 0].plot(grad_t[:, :, 0].flatten())\n",
    "    axis[2, 0].plot(grad_t[:, :, 0].flatten())\n",
    "\n",
    "    axis[0, 1].set_title(\"finite differences\")\n",
    "    axis[0, 1].plot(finite_difference_t[:, :, 0].flatten())\n",
    "    axis[1, 1].plot(finite_difference_t[:, :, 0].flatten())\n",
    "    axis[2, 1].plot(finite_difference_t[:, :, 0].flatten())\n",
    "\n",
    "    plt.show()"
   ]
  },
  {
   "cell_type": "code",
   "execution_count": null,
   "metadata": {},
   "outputs": [],
   "source": []
  }
 ],
 "metadata": {
  "kernelspec": {
   "display_name": "Python 3 (ipykernel)",
   "language": "python",
   "name": "python3"
  },
  "language_info": {
   "codemirror_mode": {
    "name": "ipython",
    "version": 3
   },
   "file_extension": ".py",
   "mimetype": "text/x-python",
   "name": "python",
   "nbconvert_exporter": "python",
   "pygments_lexer": "ipython3",
   "version": "3.10.12"
  },
  "widgets": {
   "application/vnd.jupyter.widget-state+json": {
    "state": {
     "07ec54878c3c410ca11e8b72444a00e8": {
      "model_module": "@jupyter-widgets/controls",
      "model_module_version": "1.5.0",
      "model_name": "ProgressStyleModel",
      "state": {
       "description_width": ""
      }
     },
     "0c35e343c7ef48baa2f16a89425e45c9": {
      "model_module": "@jupyter-widgets/base",
      "model_module_version": "1.2.0",
      "model_name": "LayoutModel",
      "state": {
       "width": "100%"
      }
     },
     "121009d8ad1a400bb0faff5650af82b3": {
      "model_module": "@jupyter-widgets/base",
      "model_module_version": "1.2.0",
      "model_name": "LayoutModel",
      "state": {}
     },
     "148400d8a7d44374a39589fb0c0d7d46": {
      "model_module": "@jupyter-widgets/base",
      "model_module_version": "1.2.0",
      "model_name": "LayoutModel",
      "state": {
       "width": "100%"
      }
     },
     "1bf5946071df47e686b46976c829f4d0": {
      "model_module": "@jupyter-widgets/base",
      "model_module_version": "1.2.0",
      "model_name": "LayoutModel",
      "state": {}
     },
     "2262fd9b5af64b308ea9fd1d5b0b0494": {
      "model_module": "@jupyter-widgets/controls",
      "model_module_version": "1.5.0",
      "model_name": "FloatProgressModel",
      "state": {
       "bar_style": "success",
       "layout": "IPY_MODEL_0c35e343c7ef48baa2f16a89425e45c9",
       "max": 1,
       "style": "IPY_MODEL_64638caeb3de4839809e4dae0dc2b071",
       "value": 1
      }
     },
     "328d9c2dbd124dc19ae91ce0cb551403": {
      "model_module": "@jupyter-widgets/controls",
      "model_module_version": "1.5.0",
      "model_name": "VBoxModel",
      "state": {
       "children": [
        "IPY_MODEL_493c51e117d545a799ea5a57b9bfb258",
        "IPY_MODEL_bc89b3250375423e82db58560d690de3"
       ],
       "layout": "IPY_MODEL_4352d146b8ac4b478de6fb1778cd5d41"
      }
     },
     "384ad0e5d7934e3b89951358a9d19186": {
      "model_module": "@jupyter-widgets/controls",
      "model_module_version": "1.5.0",
      "model_name": "VBoxModel",
      "state": {
       "children": [
        "IPY_MODEL_cfb38214efa947568144d4522d548de6",
        "IPY_MODEL_c689f166d13242938ff57a24b0817d41"
       ],
       "layout": "IPY_MODEL_121009d8ad1a400bb0faff5650af82b3"
      }
     },
     "4352d146b8ac4b478de6fb1778cd5d41": {
      "model_module": "@jupyter-widgets/base",
      "model_module_version": "1.2.0",
      "model_name": "LayoutModel",
      "state": {}
     },
     "493c51e117d545a799ea5a57b9bfb258": {
      "model_module": "@jupyter-widgets/controls",
      "model_module_version": "1.5.0",
      "model_name": "HTMLModel",
      "state": {
       "layout": "IPY_MODEL_a3f5661d51064b2eb0e9ef5d1b0bb8aa",
       "style": "IPY_MODEL_b6610365565e4df1ab9f0dacfc0ee04a",
       "value": "Rendering (13.9s, ETA: 0ms)"
      }
     },
     "5ca4d20425df44658fb252c281f019fd": {
      "model_module": "@jupyter-widgets/base",
      "model_module_version": "1.2.0",
      "model_name": "LayoutModel",
      "state": {
       "width": "100%"
      }
     },
     "5ead71d75c28401eb61aaec2db79be71": {
      "model_module": "@jupyter-widgets/controls",
      "model_module_version": "1.5.0",
      "model_name": "HTMLModel",
      "state": {
       "layout": "IPY_MODEL_1bf5946071df47e686b46976c829f4d0",
       "style": "IPY_MODEL_f87d0eda3bba45a6b5101e92ec75ab51",
       "value": "Rendering (13.9s, ETA: 0ms)"
      }
     },
     "64638caeb3de4839809e4dae0dc2b071": {
      "model_module": "@jupyter-widgets/controls",
      "model_module_version": "1.5.0",
      "model_name": "ProgressStyleModel",
      "state": {
       "description_width": ""
      }
     },
     "64e097a514c04437bf30f0d12463d973": {
      "model_module": "@jupyter-widgets/controls",
      "model_module_version": "1.5.0",
      "model_name": "FloatProgressModel",
      "state": {
       "bar_style": "success",
       "layout": "IPY_MODEL_5ca4d20425df44658fb252c281f019fd",
       "max": 1,
       "style": "IPY_MODEL_07ec54878c3c410ca11e8b72444a00e8",
       "value": 1
      }
     },
     "6c57fb913d8b47c7ad6a2129294b7f4a": {
      "model_module": "@jupyter-widgets/controls",
      "model_module_version": "1.5.0",
      "model_name": "VBoxModel",
      "state": {
       "children": [
        "IPY_MODEL_c93f1917313f474c96018ef6f4db65b3",
        "IPY_MODEL_e1ec3d6d53ce43e386de054ab61583b5"
       ],
       "layout": "IPY_MODEL_cdad0127f4f6443a8643eec4140c2b50"
      }
     },
     "76ef1ebaa1c34d4ca27c8fda94d21eae": {
      "model_module": "@jupyter-widgets/base",
      "model_module_version": "1.2.0",
      "model_name": "LayoutModel",
      "state": {}
     },
     "7995615f2c5648de87bc7080ce7043aa": {
      "model_module": "@jupyter-widgets/base",
      "model_module_version": "1.2.0",
      "model_name": "LayoutModel",
      "state": {}
     },
     "7b6bc4d7291243dcb4838f1745959151": {
      "model_module": "@jupyter-widgets/base",
      "model_module_version": "1.2.0",
      "model_name": "LayoutModel",
      "state": {}
     },
     "895ccf032eb44c24a5e60315ff3eba16": {
      "model_module": "@jupyter-widgets/base",
      "model_module_version": "1.2.0",
      "model_name": "LayoutModel",
      "state": {
       "width": "100%"
      }
     },
     "9b86f1cff37c4fdc9e619cd95a70a256": {
      "model_module": "@jupyter-widgets/controls",
      "model_module_version": "1.5.0",
      "model_name": "DescriptionStyleModel",
      "state": {
       "description_width": ""
      }
     },
     "a3f5661d51064b2eb0e9ef5d1b0bb8aa": {
      "model_module": "@jupyter-widgets/base",
      "model_module_version": "1.2.0",
      "model_name": "LayoutModel",
      "state": {}
     },
     "a40669281c224b5f85fa4485491c3950": {
      "model_module": "@jupyter-widgets/controls",
      "model_module_version": "1.5.0",
      "model_name": "VBoxModel",
      "state": {
       "children": [
        "IPY_MODEL_d7bb96993f3a4db4bb2aa71270257a1b",
        "IPY_MODEL_64e097a514c04437bf30f0d12463d973"
       ],
       "layout": "IPY_MODEL_76ef1ebaa1c34d4ca27c8fda94d21eae"
      }
     },
     "a6576f2dd3604fb79879caa19911b935": {
      "model_module": "@jupyter-widgets/controls",
      "model_module_version": "1.5.0",
      "model_name": "ProgressStyleModel",
      "state": {
       "description_width": ""
      }
     },
     "b6610365565e4df1ab9f0dacfc0ee04a": {
      "model_module": "@jupyter-widgets/controls",
      "model_module_version": "1.5.0",
      "model_name": "DescriptionStyleModel",
      "state": {
       "description_width": ""
      }
     },
     "b91e3ad4740c42798db154827fbe5477": {
      "model_module": "@jupyter-widgets/controls",
      "model_module_version": "1.5.0",
      "model_name": "DescriptionStyleModel",
      "state": {
       "description_width": ""
      }
     },
     "bc89b3250375423e82db58560d690de3": {
      "model_module": "@jupyter-widgets/controls",
      "model_module_version": "1.5.0",
      "model_name": "FloatProgressModel",
      "state": {
       "bar_style": "success",
       "layout": "IPY_MODEL_148400d8a7d44374a39589fb0c0d7d46",
       "max": 1,
       "style": "IPY_MODEL_e4fb04aa19fd44a49f0fdd5e9a4fa9fd",
       "value": 1
      }
     },
     "c689f166d13242938ff57a24b0817d41": {
      "model_module": "@jupyter-widgets/controls",
      "model_module_version": "1.5.0",
      "model_name": "FloatProgressModel",
      "state": {
       "bar_style": "success",
       "layout": "IPY_MODEL_f1cc99986b0b46b58cae7fd82c5aad84",
       "max": 1,
       "style": "IPY_MODEL_e609a9ba6dff485bbde84e1fe599b2ba",
       "value": 1
      }
     },
     "c93f1917313f474c96018ef6f4db65b3": {
      "model_module": "@jupyter-widgets/controls",
      "model_module_version": "1.5.0",
      "model_name": "HTMLModel",
      "state": {
       "layout": "IPY_MODEL_ea57520c73bb4bf49de6ef0ab85b5fd5",
       "style": "IPY_MODEL_9b86f1cff37c4fdc9e619cd95a70a256",
       "value": "Rendering (34.1s, ETA: 0ms)"
      }
     },
     "cdad0127f4f6443a8643eec4140c2b50": {
      "model_module": "@jupyter-widgets/base",
      "model_module_version": "1.2.0",
      "model_name": "LayoutModel",
      "state": {}
     },
     "cfb38214efa947568144d4522d548de6": {
      "model_module": "@jupyter-widgets/controls",
      "model_module_version": "1.5.0",
      "model_name": "HTMLModel",
      "state": {
       "layout": "IPY_MODEL_f92a16e114714e9e82f1e60a0980cb2d",
       "style": "IPY_MODEL_e11cbf07e2d240348cdc470bd4f234e7",
       "value": "Rendering (13.8s, ETA: 0ms)"
      }
     },
     "d7bb96993f3a4db4bb2aa71270257a1b": {
      "model_module": "@jupyter-widgets/controls",
      "model_module_version": "1.5.0",
      "model_name": "HTMLModel",
      "state": {
       "layout": "IPY_MODEL_7995615f2c5648de87bc7080ce7043aa",
       "style": "IPY_MODEL_b91e3ad4740c42798db154827fbe5477",
       "value": "Rendering (14s, ETA: 0ms)"
      }
     },
     "d827ae3e316a4961b44fc24c2ef633a7": {
      "model_module": "@jupyter-widgets/controls",
      "model_module_version": "1.5.0",
      "model_name": "VBoxModel",
      "state": {
       "children": [
        "IPY_MODEL_5ead71d75c28401eb61aaec2db79be71",
        "IPY_MODEL_2262fd9b5af64b308ea9fd1d5b0b0494"
       ],
       "layout": "IPY_MODEL_7b6bc4d7291243dcb4838f1745959151"
      }
     },
     "e11cbf07e2d240348cdc470bd4f234e7": {
      "model_module": "@jupyter-widgets/controls",
      "model_module_version": "1.5.0",
      "model_name": "DescriptionStyleModel",
      "state": {
       "description_width": ""
      }
     },
     "e1ec3d6d53ce43e386de054ab61583b5": {
      "model_module": "@jupyter-widgets/controls",
      "model_module_version": "1.5.0",
      "model_name": "FloatProgressModel",
      "state": {
       "bar_style": "success",
       "layout": "IPY_MODEL_895ccf032eb44c24a5e60315ff3eba16",
       "max": 1,
       "style": "IPY_MODEL_a6576f2dd3604fb79879caa19911b935",
       "value": 1
      }
     },
     "e4fb04aa19fd44a49f0fdd5e9a4fa9fd": {
      "model_module": "@jupyter-widgets/controls",
      "model_module_version": "1.5.0",
      "model_name": "ProgressStyleModel",
      "state": {
       "description_width": ""
      }
     },
     "e609a9ba6dff485bbde84e1fe599b2ba": {
      "model_module": "@jupyter-widgets/controls",
      "model_module_version": "1.5.0",
      "model_name": "ProgressStyleModel",
      "state": {
       "description_width": ""
      }
     },
     "ea57520c73bb4bf49de6ef0ab85b5fd5": {
      "model_module": "@jupyter-widgets/base",
      "model_module_version": "1.2.0",
      "model_name": "LayoutModel",
      "state": {}
     },
     "f1cc99986b0b46b58cae7fd82c5aad84": {
      "model_module": "@jupyter-widgets/base",
      "model_module_version": "1.2.0",
      "model_name": "LayoutModel",
      "state": {
       "width": "100%"
      }
     },
     "f87d0eda3bba45a6b5101e92ec75ab51": {
      "model_module": "@jupyter-widgets/controls",
      "model_module_version": "1.5.0",
      "model_name": "DescriptionStyleModel",
      "state": {
       "description_width": ""
      }
     },
     "f92a16e114714e9e82f1e60a0980cb2d": {
      "model_module": "@jupyter-widgets/base",
      "model_module_version": "1.2.0",
      "model_name": "LayoutModel",
      "state": {}
     }
    },
    "version_major": 2,
    "version_minor": 0
   }
  }
 },
 "nbformat": 4,
 "nbformat_minor": 4
}
