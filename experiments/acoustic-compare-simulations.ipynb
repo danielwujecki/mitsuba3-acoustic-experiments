{
 "cells": [
  {
   "cell_type": "markdown",
   "metadata": {},
   "source": [
    "## Compare acoustic simulations w.r.t. common acoustic parameters\n",
    "\n",
    "Following Simulations are used:\n",
    "+ mi3:   Ray Tracing using Mitsuba 3\n",
    "+ rt:    Ray Tracing using Mitsuba 2 (Leo)\n",
    "+ ism:   Acoustic Simulation using ISM\n",
    "+ raven: Acoustic Simulation using raven"
   ]
  },
  {
   "cell_type": "code",
   "execution_count": null,
   "metadata": {},
   "outputs": [],
   "source": [
    "import glob\n",
    "import numpy as np\n",
    "import pandas as pd\n",
    "import matplotlib.pyplot as plt\n",
    "import matplotlib.patches as mpatches\n",
    "\n",
    "from utils import remove_direct\n",
    "from acoustic_params import EDC, T, C, D50, TS\n",
    "\n",
    "plt.style.use('ggplot')"
   ]
  },
  {
   "cell_type": "markdown",
   "metadata": {},
   "source": [
    "### 5x5x5 Box"
   ]
  },
  {
   "cell_type": "markdown",
   "metadata": {},
   "source": [
    "#### Load Data"
   ]
  },
  {
   "cell_type": "code",
   "execution_count": null,
   "metadata": {},
   "outputs": [],
   "source": [
    "# absorption values used in the compared data\n",
    "absorpt = [0.1, 0.2, 0.5, 0.7, 0.9]"
   ]
  },
  {
   "cell_type": "code",
   "execution_count": null,
   "metadata": {},
   "outputs": [],
   "source": [
    "mi3_hist = np.load(\"../data/acoustic-simulations/mi3-box-5-5-5.npy\")\n",
    "mi3_hist = remove_direct(mi3_hist, 3)\n",
    "mi3_edc  = EDC(mi3_hist)\n",
    "\n",
    "rt_hist = np.load(\"../leo/notebooks/data/RT-HIST-box-5-5-5.npy\")\n",
    "rt_hist = remove_direct(rt_hist, 3)\n",
    "rt_edc  = EDC(rt_hist)\n",
    "\n",
    "ism_rir = np.load(\"../leo/notebooks/data/ISM-RIR-5-5-5.npy\").T[0]\n",
    "ism_edc = EDC(ism_rir, energy=False)"
   ]
  },
  {
   "cell_type": "code",
   "execution_count": null,
   "metadata": {},
   "outputs": [],
   "source": [
    "s = 0.0\n",
    "variant = \"Hybrid\"\n",
    "path_root = \"../leo/notebooks/raven/box-5-5-5\"\n",
    "\n",
    "times, data = None, None\n",
    "for a in absorpt:\n",
    "    path = f\"{path_root}/box-*-*-*-a{a:.1f}-s{s:.1f}*/ImpulseResponses/*/*/Histograms/*_{variant}.hst\"\n",
    "\n",
    "    fname = glob.glob(path)[0]\n",
    "    with open(fname, \"r\") as file:\n",
    "        lines = file.read().strip().split('\\n')\n",
    "\n",
    "    while lines[0][:2] != \"0=\":\n",
    "        lines.pop(0)\n",
    "\n",
    "    time, value = [], []\n",
    "    for l in lines:\n",
    "        splt = l.strip().split(\"=\")[1].split(\",\")\n",
    "        time.append(float(splt[0]))\n",
    "        value.append(float(splt[2]))\n",
    "\n",
    "    if data is not None:\n",
    "        data = np.vstack([data, np.array(value)[None]])\n",
    "    else:\n",
    "        times = np.array(time)\n",
    "        data  = np.array(value)[None]\n",
    "\n",
    "rav_hist = remove_direct(data.T, 3)[:2000]\n",
    "rav_time = times[:2000]\n",
    "rav_edc  = EDC(rav_hist)"
   ]
  },
  {
   "cell_type": "code",
   "execution_count": null,
   "metadata": {},
   "outputs": [],
   "source": [
    "print(mi3_edc.shape)\n",
    "print(rt_edc.shape)\n",
    "print(ism_edc.shape)\n",
    "print(rav_edc.shape)"
   ]
  },
  {
   "cell_type": "markdown",
   "metadata": {},
   "source": [
    "#### Compare Energy Decay Curves of the simulations for each absorption value"
   ]
  },
  {
   "cell_type": "code",
   "execution_count": null,
   "metadata": {},
   "outputs": [],
   "source": [
    "t0 = np.linspace(0., 2., mi3_edc.shape[0])\n",
    "t1 = np.linspace(0., 2., rt_edc.shape[0])\n",
    "t2 = np.linspace(0., 2., ism_edc.shape[0])\n",
    "t3 = rav_time\n",
    "\n",
    "plt.figure(figsize=(10, 5))\n",
    "patch0 = mpatches.Patch(color=\"C0\", label=\"Mitsuba 3\")\n",
    "patch1 = mpatches.Patch(color=\"C1\", label=\"Mitsuba 2\")\n",
    "patch2 = mpatches.Patch(color=\"C2\", label=\"ISM\")\n",
    "patch3 = mpatches.Patch(color=\"C3\", label=\"RAVEN\")\n",
    "for i, a in enumerate(absorpt):\n",
    "    if a in [0.1, 0.5, 0.9]:\n",
    "        plt.plot(t1, rt_edc[:, i],  color=\"C1\")\n",
    "        plt.plot(t2, ism_edc[:, i], color=\"C2\")\n",
    "        plt.plot(t3, rav_edc[:, i], color=\"C3\")\n",
    "        plt.plot(t0, mi3_edc[:, i], color=\"C0\")\n",
    "\n",
    "plt.ylim(-200., 10.)\n",
    "plt.xlabel(\"Time [s]\")\n",
    "plt.ylabel(\"Energy [dB]\")\n",
    "plt.legend(handles=[patch0, patch1, patch2, patch3])\n",
    "#plt.savefig(\"plots/compare-ism-edc.pdf\")\n",
    "plt.show()"
   ]
  },
  {
   "cell_type": "markdown",
   "metadata": {},
   "source": [
    "#### Compare reverberation time\n",
    "\n",
    "reverberation time = Nachhaltzeit"
   ]
  },
  {
   "cell_type": "code",
   "execution_count": null,
   "metadata": {},
   "outputs": [],
   "source": [
    "fig, axs = plt.subplots(1, 3, figsize=(12, 4), sharey=True, layout=\"constrained\")\n",
    "\n",
    "for i, a in enumerate(absorpt):\n",
    "    sel_abs = [0.1, 0.5, 0.9]\n",
    "    if a not in sel_abs:\n",
    "        continue\n",
    "    j = sel_abs.index(a)\n",
    "\n",
    "    mi3_t30 = T(t0, mi3_edc[:, i], dB_init=-10.)\n",
    "    rt_t30  = T(t1, rt_edc[:, i],  dB_init=-10.)\n",
    "    ism_t30 = T(t2, ism_edc[:, i], dB_init=-10.)\n",
    "    rav_t30 = T(t3, rav_edc[:, i], dB_init=-10.)\n",
    "\n",
    "    axs[j].set_title(f\"$\\\\alpha$ = {a}\")\n",
    "\n",
    "    axs[j].plot(t1, rt_edc[:, i],    alpha=0.8, color='C1', label='Mitsuba 2')\n",
    "    axs[j].plot(t2, ism_edc[:, i],   alpha=0.8, color='C2', label='ISM')\n",
    "    axs[j].plot(t3, rav_edc[:, i], alpha=0.8, color='C3', label='raven')\n",
    "    axs[j].plot(t0, mi3_edc[:, i],   alpha=0.8, color='C0', label='Mitsuba 3')\n",
    "    axs[j].set_xlim(0., t0[np.argmax(mi3_edc[:, i] < -105.)])\n",
    "\n",
    "    axs[j].axvline(rt_t30,   linestyle='dashed', color='C1')\n",
    "    axs[j].axvline(ism_t30,  linestyle='dashed', color='C2')\n",
    "    # axs[j].axvline(rav_rt30, linestyle='dashed', color='C3')\n",
    "    axs[j].axvline(mi3_t30,  linestyle='dashed', color='C0')\n",
    "\n",
    "    axs[j].axhline(-60., linestyle='dotted', color='C4')\n",
    "\n",
    "    print(f\"alpha = {a}, ISM-RT60: {ism_t30:.3f}s, Mi3-RT60: {mi3_t30:.3f}s\")\n",
    "\n",
    "plt.ylim(-100., 5.)\n",
    "plt.legend()\n",
    "fig.supxlabel('Time [s]')\n",
    "fig.supylabel('Energy [dB]')\n",
    "#plt.savefig('plots/compare-ism-t30.pdf')\n",
    "plt.show()"
   ]
  },
  {
   "cell_type": "markdown",
   "metadata": {},
   "source": [
    "#### Compare other acoustic parameters"
   ]
  },
  {
   "cell_type": "code",
   "execution_count": null,
   "metadata": {},
   "outputs": [],
   "source": [
    "mi3_fs = int(mi3_edc.shape[0] / 2.)\n",
    "rt_fs  = int(rt_edc.shape[0]  / 2.)\n",
    "ism_fs = int(ism_edc.shape[0] / 2.)\n",
    "rav_fs = int(rav_edc.shape[0] / 2.)\n",
    "\n",
    "fig, axs = plt.subplots(2, 2, figsize=(8, 6), sharex=True, layout=\"constrained\")\n",
    "\n",
    "for i, a in enumerate(absorpt):\n",
    "    ism_T30 = T(t2, ism_edc[:, i])\n",
    "    axs[0, 0].scatter(i, ism_T30,              c='C1', marker='1', label='ism')\n",
    "    axs[0, 0].scatter(i, T(t3, rav_edc[:, i]), c='C2', marker='*', label='raven')\n",
    "    axs[0, 0].scatter(i, T(t1, rt_edc[:, i]),  c='C4', marker='+', label='mitsuba 2')\n",
    "    axs[0, 0].scatter(i, T(t0, mi3_edc[:, i]), c='C3', marker='x', label='mitsuba 3')\n",
    "    axs[0, 0].errorbar(i, ism_T30, yerr=(ism_T30 * 5. / 100.), c='C0', label='JND')\n",
    "\n",
    "    ism_C80 = C(80., ism_rir[:, i],  ism_fs, energy=False)\n",
    "    axs[1, 0].scatter(i, ism_C80,                                     c='C1', marker='1')\n",
    "    axs[1, 0].scatter(i, C(80., rav_hist[:, i], rav_fs, energy=True), c='C2', marker='*')\n",
    "    axs[1, 0].scatter(i, C(80., rt_hist[:, i],  rt_fs,  energy=True), c='C4', marker='+')\n",
    "    axs[1, 0].scatter(i, C(80., mi3_hist[:, i], mi3_fs, energy=True), c='C3', marker='x')\n",
    "    axs[1, 0].errorbar(i, ism_C80, yerr=1., c='C0')\n",
    "\n",
    "    ism_D50 = D50(ism_rir[:, i],  ism_fs, energy=False)\n",
    "    axs[0, 1].scatter(i, ism_D50,                                  c='C1', marker='1')\n",
    "    axs[0, 1].scatter(i, D50(rav_hist[:, i], rav_fs, energy=True), c='C2', marker='*')\n",
    "    axs[0, 1].scatter(i, D50(rt_hist[:, i],  rt_fs,  energy=True), c='C4', marker='+')\n",
    "    axs[0, 1].scatter(i, D50(mi3_hist[:, i], mi3_fs, energy=True), c='C3', marker='x')\n",
    "    axs[0, 1].errorbar(i, ism_D50, yerr=0.05, c='C0')\n",
    "\n",
    "    ism_TS = TS(t2, ism_rir[:, i])\n",
    "    axs[1, 1].scatter(i, ism_TS,                 c='C1', marker='1')\n",
    "    axs[1, 1].scatter(i, TS(t3, rav_hist[:, i]), c='C2', marker='*')\n",
    "    axs[1, 1].scatter(i, TS(t1, rt_hist[:, i]),  c='C4', marker='+')\n",
    "    axs[1, 1].scatter(i, TS(t0, mi3_hist[:, i]), c='C3', marker='x')\n",
    "    axs[1, 1].errorbar(i, ism_TS, yerr=1e-2, c='C0')\n",
    "\n",
    "    if i == 0:\n",
    "        axs[0, 0].set_title(\"$T_{30}$\")\n",
    "        axs[1, 0].set_title(\"$C_{80}$\")\n",
    "        axs[0, 1].set_title(\"$D_{50}$\")\n",
    "        axs[1, 1].set_title(\"$T_{S}$\")\n",
    "\n",
    "        axs[1, 0].set_xlabel(\"absorption\")\n",
    "        axs[1, 1].set_xlabel(\"absorption\")\n",
    "        axs[0, 0].set_ylabel(\"[a.U.]\")\n",
    "        axs[1, 0].set_ylabel(\"[a.U.]\")\n",
    "\n",
    "        fig.legend(bbox_to_anchor=(1, 0.5), loc='center right')\n",
    "\n",
    "plt.xticks(range(5), absorpt)\n",
    "# plt.savefig('plots/compare-params-ism.pdf')\n",
    "plt.show()"
   ]
  },
  {
   "cell_type": "markdown",
   "metadata": {},
   "source": [
    "### 25x12x7 Box"
   ]
  },
  {
   "cell_type": "markdown",
   "metadata": {},
   "source": [
    "#### Load Data"
   ]
  },
  {
   "cell_type": "code",
   "execution_count": null,
   "metadata": {},
   "outputs": [],
   "source": [
    "mi3 = pd.read_pickle(\"../data/acoustic-simulations/mi3-box-25-12-7.pkl\")\n",
    "# mi2 = pd.read_pickle(\"../data/mi3-box-25-12-7.pkl\")\n",
    "mi2 = pd.read_pickle(\"../leo/notebooks/data/mitsuba-box-25-12-7.pkl\")\n",
    "rav = pd.read_pickle(\"../leo/notebooks/data/raven-box-25-12-7-hybrid.pkl\")\n",
    "\n",
    "mi3_fs, mi2_fs, rav_fs = 1000., 1000., 1000.\n",
    "mi3_t,  mi2_t,  rav_t  = mi3.index, mi2.index, rav.index\n",
    "distance_direct = np.linalg.norm(np.array([20., 7., 2.]) - np.array([9., 6., 1.]))\n",
    "\n",
    "absorption = sorted(list(set(map(lambda x: x.split('-')[0][1:], mi2.columns.to_list()))))\n",
    "scattering = sorted(list(set(map(lambda x: x.split('-')[1][1:], mi2.columns.to_list()))))"
   ]
  },
  {
   "cell_type": "markdown",
   "metadata": {},
   "source": [
    "#### Compare Energy Decay Curves"
   ]
  },
  {
   "cell_type": "code",
   "execution_count": null,
   "metadata": {},
   "outputs": [],
   "source": [
    "mi2_ylim_hist = np.max(mi2.max())\n",
    "mi3_ylim_hist = np.max(mi3.max())\n",
    "rav_ylim_hist = np.max(rav.max())\n",
    "\n",
    "for i, s in enumerate(scattering):\n",
    "    fig, axs = plt.subplots(3, 2, sharex=True, figsize=(12, 9), layout=\"constrained\")\n",
    "    ((ax1, ax2), (ax3, ax4), (ax5, ax6)) = axs\n",
    "\n",
    "    ax1.set_ylabel('[a.U.]')\n",
    "    ax1.set_ylabel('[a.U.]')\n",
    "    ax2.set_ylabel('[dB]')\n",
    "    ax3.set_ylabel('[a.U.]')\n",
    "    ax4.set_ylabel('[dB]')\n",
    "    ax5.set_ylabel('[a.U.]')\n",
    "    ax6.set_ylabel('[dB]')\n",
    "    ax5.set_xlabel('[s]')\n",
    "    ax6.set_xlabel('[s]')\n",
    "\n",
    "    for j, a in enumerate(absorption):\n",
    "        mi3_hist = mi3[f\"a{a}-s{s}\"]\n",
    "        mi2_hist = mi2[f\"a{a}-s{s}\"]\n",
    "        rav_hist = rav[f\"a{a}-s{s}\"]\n",
    "\n",
    "        ax1.plot(mi3_hist, label=f\"a{a}-s{s}\")\n",
    "        ax1.set_ylim(mi3_ylim_hist * -0.01, mi3_ylim_hist * 1.01)\n",
    "        ax1.set_title(\"Histogram Mi3\")\n",
    "        ax1.legend()\n",
    "\n",
    "        ax2.plot(mi3_t, EDC(mi3_hist))\n",
    "        ax2.set_ylim(-105., 5.)\n",
    "        ax2.set_title(\"Energy Mi3\")\n",
    "\n",
    "        ax3.plot(mi2_hist)\n",
    "        ax3.set_ylim(mi2_ylim_hist * -0.01, mi2_ylim_hist * 1.01)\n",
    "        ax3.set_title(\"Histogram Mi2\")\n",
    "\n",
    "        ax4.plot(mi2_t, EDC(mi2_hist))\n",
    "        ax4.set_ylim(-105., 5.)\n",
    "        ax4.set_title(\"Energy Mi2\")\n",
    "\n",
    "        ax5.plot(rav_hist)\n",
    "        ax5.set_ylim(rav_ylim_hist * -0.01, rav_ylim_hist * 1.01)\n",
    "        ax5.set_title(\"Histogram Raven\")\n",
    "\n",
    "        ax6.plot(rav_t, EDC(rav_hist))\n",
    "        ax6.set_ylim(-105., 5.)\n",
    "        ax6.set_title(\"Energy Raven\")\n",
    "\n",
    "    plt.show()\n",
    "    # break"
   ]
  },
  {
   "cell_type": "markdown",
   "metadata": {},
   "source": [
    "#### Compare EDC + reverberation time\n",
    "\n",
    "reverberation time = Nachhaltzeit"
   ]
  },
  {
   "cell_type": "code",
   "execution_count": null,
   "metadata": {},
   "outputs": [],
   "source": [
    "for i, s in enumerate(scattering):\n",
    "    fig, axs = plt.subplots(1, 5, figsize=(20, 5), sharey=True, layout=\"constrained\")\n",
    "    for j, a in enumerate(absorption):\n",
    "        mi3_edc = EDC(mi3[f\"a{a}-s{s}\"])\n",
    "        mi2_edc = EDC(mi2[f\"a{a}-s{s}\"])\n",
    "        rav_edc = EDC(rav[f\"a{a}-s{s}\"])\n",
    "\n",
    "        mi3_t30 = T(mi3_t, mi3_edc)\n",
    "        mi2_t30 = T(mi2_t, mi2_edc)\n",
    "        rav_t30 = T(rav_t, rav_edc)\n",
    "\n",
    "        axs[j].plot(mi2_t, mi2_edc, 'C1', label=\"mi2\")\n",
    "        axs[j].plot(rav_t, rav_edc, 'C2', label=\"raven\")\n",
    "        axs[j].plot(mi3_t, mi3_edc, 'C0', label=\"mi3\")\n",
    "\n",
    "        axs[j].axvline(mi3_t30, linestyle='dashed', color='C1', label='T30')\n",
    "        axs[j].axvline(mi2_t30, linestyle='dashed', color='C2')\n",
    "        axs[j].axvline(rav_t30, linestyle='dashed', color='C0')\n",
    "\n",
    "        axs[j].axhline(-60., linestyle='dotted', color='C3')\n",
    "\n",
    "        axs[j].set_xlim(-0.1, np.max([mi3_t[np.argmax(mi3_edc < -100.)], mi3_t30, mi2_t30, rav_t30]) * 1.05)\n",
    "        axs[j].set_ylim(-105., 5.)\n",
    "\n",
    "        axs[j].set_xlabel(\"Time [s]\")\n",
    "        axs[j].set_ylabel(\"Energy [dB]\")\n",
    "\n",
    "        axs[j].set_title(f\"s = {s} - a = {a}\")\n",
    "\n",
    "    plt.legend()\n",
    "    #plt.savefig(f'plots/compare-raven-edc-s{s}.pdf')\n",
    "    plt.show()"
   ]
  },
  {
   "cell_type": "markdown",
   "metadata": {},
   "source": [
    "#### Compare reverberation time"
   ]
  },
  {
   "cell_type": "code",
   "execution_count": null,
   "metadata": {},
   "outputs": [],
   "source": [
    "mi3_t30 = mi3.apply(lambda x: T(mi3_t, EDC(x))).sort_index()\n",
    "mi2_t30 = mi2.apply(lambda x: T(mi2_t, EDC(x))).sort_index()\n",
    "rav_t30 = rav.apply(lambda x: T(rav_t, EDC(x))).sort_index()\n",
    "\n",
    "df_t30 = pd.DataFrame()\n",
    "\n",
    "df_t30['mi3'] = mi3_t30\n",
    "df_t30['mi2'] = mi2_t30\n",
    "df_t30['rav'] = rav_t30\n",
    "df_t30['Mi3 T_30 - deviation to Raven [%]'] = 100. * (mi3_t30 -  rav_t30) / rav_t30\n",
    "df_t30['Mi2 T_30 - deviation to Raven [%]'] = 100. * (mi2_t30 -  rav_t30) / rav_t30\n",
    "\n",
    "display(df_t30)"
   ]
  },
  {
   "cell_type": "code",
   "execution_count": null,
   "metadata": {},
   "outputs": [],
   "source": [
    "mi3_t10 = mi3.apply(lambda x: T(mi3_t, EDC(x), dB_init=-1., dB_decay=10.)).sort_index()\n",
    "mi2_t10 = mi2.apply(lambda x: T(mi2_t, EDC(x), dB_init=-1., dB_decay=10.)).sort_index()\n",
    "rav_t10 = rav.apply(lambda x: T(rav_t, EDC(x), dB_init=-1., dB_decay=10.)).sort_index()\n",
    "\n",
    "df_t10 = pd.DataFrame()\n",
    "\n",
    "df_t10['mi3'] = mi3_t10\n",
    "df_t10['mi2'] = mi2_t10\n",
    "df_t10['rav'] = rav_t10\n",
    "df_t10['Mi3 T_10 - deviation to Raven [%]'] = 100. * (mi3_t10 -  rav_t10) / rav_t10\n",
    "df_t10['Mi2 T_10 - deviation to Raven [%]'] = 100. * (mi2_t10 -  rav_t10) / rav_t10\n",
    "\n",
    "display(df_t10)"
   ]
  },
  {
   "cell_type": "code",
   "execution_count": null,
   "metadata": {},
   "outputs": [],
   "source": [
    "plt.figure(figsize=(6, 4))\n",
    "for i, s in enumerate(scattering):\n",
    "    for j, a in enumerate(absorption):\n",
    "        idx = f\"a{a}-s{s}\"\n",
    "        plt.scatter(s, rav_t30[idx], color='C1', alpha=float(a), label=\"Mi3\")\n",
    "        plt.scatter(s, mi3_t30[idx], color='C0', alpha=float(a), label=\"Raven\")\n",
    "        if i == j == 0:\n",
    "            plt.legend()\n",
    "\n",
    "plt.xlabel('scattering')\n",
    "plt.ylabel(\"$T_{30}$ [s]\")\n",
    "plt.show()"
   ]
  },
  {
   "cell_type": "code",
   "execution_count": null,
   "metadata": {},
   "outputs": [],
   "source": [
    "mi3_deviation = np.zeros((len(scattering), len(absorption)))\n",
    "mi2_deviation = np.zeros((len(scattering), len(absorption)))\n",
    "\n",
    "for i, s in enumerate(scattering):\n",
    "    for j, a in enumerate(absorption):\n",
    "        idx = f\"a{a}-s{s}\"\n",
    "        mi3_deviation[i, j] = df_t30.loc[idx, \"Mi3 T_30 - deviation to Raven [%]\"]\n",
    "        mi2_deviation[i, j] = df_t30.loc[idx, \"Mi2 T_30 - deviation to Raven [%]\"]\n",
    "\n",
    "fig, (ax1, ax2) = plt.subplots(1, 2, sharey=True, layout=\"constrained\")\n",
    "\n",
    "ax1.imshow(np.abs(mi2_deviation), origin='lower', interpolation='none', vmin=0., vmax=7)\n",
    "ax1.set_title('Mi2 T30 deviation')\n",
    "ax1.set_xlabel(\"absorption\")\n",
    "ax1.set_ylabel(\"scattering\")\n",
    "ax1.set_xticks(range(len(absorption)), absorption)\n",
    "ax1.set_yticks(range(len(scattering)), scattering)\n",
    "ax1.grid(False)\n",
    "\n",
    "ax2img = ax2.imshow(np.abs(mi3_deviation), origin='lower', interpolation='none', vmin=0., vmax=7)\n",
    "ax2.set_title('Mi3 T30 deviation')\n",
    "ax2.set_xlabel(\"absorption\")\n",
    "ax2.set_xticks(range(len(absorption)), absorption)\n",
    "ax2.grid(False)\n",
    "\n",
    "fig.colorbar(ax2img, fraction=0.05, pad=0.05).set_label('deviation [%]')\n",
    "\n",
    "# plt.savefig('./plots/t30dev.pdf')\n",
    "plt.show()"
   ]
  },
  {
   "cell_type": "markdown",
   "metadata": {},
   "source": [
    "#### Compare C80"
   ]
  },
  {
   "cell_type": "code",
   "execution_count": null,
   "metadata": {},
   "outputs": [],
   "source": [
    "mi3_c80 = mi3.apply(lambda x: C(80., x, mi3_fs)).sort_index()\n",
    "mi2_c80 = mi2.apply(lambda x: C(80., x, mi2_fs)).sort_index()\n",
    "rav_c80 = rav.apply(lambda x: C(80., x, rav_fs)).sort_index()\n",
    "\n",
    "mi3_deviation = np.zeros((len(scattering), len(absorption)))\n",
    "mi2_deviation = np.zeros((len(scattering), len(absorption)))\n",
    "\n",
    "for i, s in enumerate(scattering):\n",
    "    for j, a in enumerate(absorption):\n",
    "        idx = f\"a{a}-s{s}\"\n",
    "        mi3_deviation[i, j] = mi3_c80[idx] - rav_c80[idx]\n",
    "        mi2_deviation[i, j] = mi2_c80[idx] - rav_c80[idx]\n",
    "\n",
    "fig, (ax1, ax2) = plt.subplots(1, 2, sharey=True, layout=\"constrained\")\n",
    "\n",
    "ax1.imshow(np.abs(mi2_deviation), origin='lower', interpolation='none', vmin=0., vmax=1.5)\n",
    "ax1.set_title('Mi2 C80 deviation')\n",
    "ax1.set_xlabel(\"absorption\")\n",
    "ax1.set_ylabel(\"scattering\")\n",
    "ax1.set_xticks(range(len(absorption)), absorption)\n",
    "ax1.set_yticks(range(len(scattering)), scattering)\n",
    "ax1.grid(False)\n",
    "\n",
    "ax2img = ax2.imshow(np.abs(mi3_deviation), origin='lower', interpolation='none', vmin=0., vmax=1.5)\n",
    "ax2.set_title('Mi3 C80 deviation')\n",
    "ax2.set_xlabel(\"absorption\")\n",
    "ax2.set_xticks(range(len(absorption)), absorption)\n",
    "ax2.grid(False)\n",
    "\n",
    "fig.colorbar(ax2img, fraction=0.05, pad=0.05).set_label('deviation [%]')\n",
    "\n",
    "# plt.savefig('./plots/c80dev.pdf')\n",
    "plt.show()"
   ]
  },
  {
   "cell_type": "markdown",
   "metadata": {},
   "source": [
    "#### Compare D50"
   ]
  },
  {
   "cell_type": "code",
   "execution_count": null,
   "metadata": {},
   "outputs": [],
   "source": [
    "mi3_d50 = mi3.apply(lambda x: D50(x, mi3_fs)).sort_index()\n",
    "mi2_d50 = mi2.apply(lambda x: D50(x, mi2_fs)).sort_index()\n",
    "rav_d50 = rav.apply(lambda x: D50(x, rav_fs)).sort_index()\n",
    "\n",
    "mi3_deviation = np.zeros((len(scattering), len(absorption)))\n",
    "mi2_deviation = np.zeros((len(scattering), len(absorption)))\n",
    "\n",
    "for i, s in enumerate(scattering):\n",
    "    for j, a in enumerate(absorption):\n",
    "        idx = f\"a{a}-s{s}\"\n",
    "        mi3_deviation[i, j] = mi3_d50[idx] - rav_d50[idx]\n",
    "        mi2_deviation[i, j] = mi2_d50[idx] - rav_d50[idx]\n",
    "\n",
    "fig, (ax1, ax2) = plt.subplots(1, 2, sharey=True, layout=\"constrained\")\n",
    "\n",
    "ax1.imshow(np.abs(mi2_deviation), origin='lower', interpolation='none', vmin=0., vmax=0.05)\n",
    "ax1.set_title('Mi2 D50 deviation')\n",
    "ax1.set_xlabel(\"absorption\")\n",
    "ax1.set_ylabel(\"scattering\")\n",
    "ax1.set_xticks(range(len(absorption)), absorption)\n",
    "ax1.set_yticks(range(len(scattering)), scattering)\n",
    "ax1.grid(False)\n",
    "\n",
    "ax2img = ax2.imshow(np.abs(mi3_deviation), origin='lower', interpolation='none', vmin=0., vmax=0.05)\n",
    "ax2.set_title('Mi3 D50 deviation')\n",
    "ax2.set_xlabel(\"absorption\")\n",
    "ax2.set_xticks(range(len(absorption)), absorption)\n",
    "ax2.grid(False)\n",
    "\n",
    "fig.colorbar(ax2img, fraction=0.05, pad=0.05).set_label('deviation [%]')\n",
    "\n",
    "# plt.savefig('./plots/d50dev.pdf')\n",
    "plt.show()"
   ]
  },
  {
   "cell_type": "markdown",
   "metadata": {},
   "source": [
    "#### Compare TS"
   ]
  },
  {
   "cell_type": "code",
   "execution_count": null,
   "metadata": {},
   "outputs": [],
   "source": [
    "mi3_ts = mi3.apply(lambda x: TS(mi3_t, x)).sort_index()\n",
    "mi2_ts = mi2.apply(lambda x: TS(mi2_t, x)).sort_index()\n",
    "rav_ts = rav.apply(lambda x: TS(rav_t, x)).sort_index()\n",
    "\n",
    "mi3_deviation = np.zeros((len(scattering), len(absorption)))\n",
    "mi2_deviation = np.zeros((len(scattering), len(absorption)))\n",
    "\n",
    "for i, s in enumerate(scattering):\n",
    "    for j, a in enumerate(absorption):\n",
    "        idx = f\"a{a}-s{s}\"\n",
    "        mi3_deviation[i, j] = mi3_ts[idx] - rav_ts[idx]\n",
    "        mi2_deviation[i, j] = mi2_ts[idx] - rav_ts[idx]\n",
    "\n",
    "fig, (ax1, ax2) = plt.subplots(1, 2, sharey=True, layout=\"constrained\")\n",
    "\n",
    "ax1.imshow(np.abs(mi2_deviation * 100.), origin='lower', interpolation='none', vmin=0., vmax=1.)\n",
    "ax1.set_title('Mi2 TS deviation')\n",
    "ax1.set_xlabel(\"absorption\")\n",
    "ax1.set_ylabel(\"scattering\")\n",
    "ax1.set_xticks(range(len(absorption)), absorption)\n",
    "ax1.set_yticks(range(len(scattering)), scattering)\n",
    "ax1.grid(False)\n",
    "\n",
    "ax2img = ax2.imshow(np.abs(mi3_deviation * 100.), origin='lower', interpolation='none', vmin=0., vmax=1.)\n",
    "ax2.set_title('Mi3 TS deviation')\n",
    "ax2.set_xlabel(\"absorption\")\n",
    "ax2.set_xticks(range(len(absorption)), absorption)\n",
    "ax2.grid(False)\n",
    "\n",
    "fig.colorbar(ax2img, fraction=0.05, pad=0.05).set_label('deviation [%]')\n",
    "\n",
    "# plt.savefig('./plots/tsdev.pdf')\n",
    "plt.show()"
   ]
  },
  {
   "cell_type": "markdown",
   "metadata": {},
   "source": [
    "#### Visualize T30 linear fit"
   ]
  },
  {
   "cell_type": "code",
   "execution_count": null,
   "metadata": {},
   "outputs": [],
   "source": [
    "fig, axs = plt.subplots(2, 2, figsize=(15, 10), sharey=True, layout=\"constrained\")\n",
    "\n",
    "for j, (s, a) in enumerate([(0.5, 0.5), (0.5, 0.8), (0.5, 0.9), (0.8, 0.8)]):\n",
    "    x = j // 2\n",
    "    y = j % 2\n",
    "\n",
    "    mi3_edc = EDC(mi3[f\"a{a}-s{s}\"])\n",
    "    mi2_edc = EDC(mi2[f\"a{a}-s{s}\"])\n",
    "    rav_edc = EDC(rav[f\"a{a}-s{s}\"])\n",
    "\n",
    "    axs[y, x].plot(rav_t, rav_edc, c='C2', label='Raven')\n",
    "    axs[y, x].plot(mi2_t, mi2_edc, c='C1', label='Mi2')\n",
    "    axs[y, x].plot(mi3_t, mi3_edc, c='C0', label='Mi3')\n",
    "\n",
    "    rav_t30 = T(rav_t, rav_edc)\n",
    "    axs[y, x].axvline(rav_t30,           color='C2', linestyle='dashed', label='T30 Raven')\n",
    "    axs[y, x].axvline(T(mi2_t, mi2_edc), color='C1', linestyle='dashed', label='T30 Mi2')\n",
    "    axs[y, x].axvline(T(mi3_t, mi3_edc), color='C0', linestyle='dashed', label='T30 Mi3')\n",
    "\n",
    "    axs[y, x].axhline( -5., c='C4',  linestyle='dotted')\n",
    "    axs[y, x].axhline(-35., c='C4',  linestyle='dotted', label='$T_{30}$ linear fit region')\n",
    "    axs[y, x].axhline(-60., c='C5',  linestyle='dashed', label='-60dB')\n",
    "\n",
    "    axs[y, x].errorbar(rav_t30, -20., xerr=0.05 * rav_t30, color='C3', label='JND')\n",
    "\n",
    "    axs[y, x].set_xlim()\n",
    "    axs[y, x].set_ylim(-65., 5.)\n",
    "    axs[y, x].set_xlim(-0.01, mi3_t[np.argmax(mi3_edc < -65.)])\n",
    "\n",
    "    axs[y, x].set_title(f\"s = {s} - a = {a}\")\n",
    "\n",
    "fig.supylabel('Energy [dB]')\n",
    "fig.supxlabel('Time [s]')\n",
    "axs[1, 0].legend()\n",
    "#plt.savefig('plots/compare-raven-errs.pdf')\n",
    "plt.show()"
   ]
  },
  {
   "cell_type": "code",
   "execution_count": null,
   "metadata": {},
   "outputs": [],
   "source": []
  }
 ],
 "metadata": {
  "kernelspec": {
   "display_name": "Python 3 (ipykernel)",
   "language": "python",
   "name": "python3"
  },
  "language_info": {
   "codemirror_mode": {
    "name": "ipython",
    "version": 3
   },
   "file_extension": ".py",
   "mimetype": "text/x-python",
   "name": "python",
   "nbconvert_exporter": "python",
   "pygments_lexer": "ipython3",
   "version": "3.10.12"
  },
  "widgets": {
   "application/vnd.jupyter.widget-state+json": {
    "state": {},
    "version_major": 2,
    "version_minor": 0
   }
  }
 },
 "nbformat": 4,
 "nbformat_minor": 4
}
