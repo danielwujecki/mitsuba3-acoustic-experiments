{
 "cells": [
  {
   "cell_type": "code",
   "execution_count": null,
   "id": "4875cd12",
   "metadata": {},
   "outputs": [],
   "source": [
    "import drjit as dr\n",
    "import mitsuba as mi\n",
    "import matplotlib.pyplot as plt\n",
    "\n",
    "mi.set_variant('cuda_ad_rgb')"
   ]
  },
  {
   "cell_type": "code",
   "execution_count": null,
   "id": "3d862d30",
   "metadata": {},
   "outputs": [],
   "source": [
    "base = '/home/daniel/Studium/masterarbeit/src/data/scenes'\n",
    "scene_path = f\"{base}/benchy/scene.xml\"\n",
    "\n",
    "scene = mi.load_file(scene_path, resx=400, resy=300)\n",
    "params = mi.traverse(scene)\n",
    "\n",
    "print(params)"
   ]
  },
  {
   "cell_type": "code",
   "execution_count": null,
   "id": "f4083596",
   "metadata": {},
   "outputs": [],
   "source": [
    "key = 'benchy.bsdf.reflectance.value'\n",
    "ref_col = mi.Color3f(params[key])\n",
    "print(ref_col)"
   ]
  },
  {
   "cell_type": "code",
   "execution_count": null,
   "id": "0585dde6",
   "metadata": {},
   "outputs": [],
   "source": [
    "params[key] = ref_col\n",
    "params.update()\n",
    "ref_img = mi.render(scene, spp=1024)\n",
    "mi.Bitmap(ref_img)\n",
    "mi.Bitmap.convert(mi.Bitmap(ref_img), srgb_gamma=True)"
   ]
  },
  {
   "cell_type": "code",
   "execution_count": null,
   "id": "d2f2542b",
   "metadata": {},
   "outputs": [],
   "source": [
    "opt = mi.ad.Adam(lr=0.05)\n",
    "opt[key] = mi.Color3f([0.8, 0.2, 0.2])\n",
    "params.update(opt)\n",
    "\n",
    "img = mi.render(scene)\n",
    "mi.Bitmap.convert(mi.Bitmap(img), srgb_gamma=True)"
   ]
  },
  {
   "cell_type": "code",
   "execution_count": null,
   "id": "c6cfbfd8",
   "metadata": {},
   "outputs": [],
   "source": [
    "dr.enable_grad(img)\n",
    "loss = dr.mean(dr.sqr(img - ref_img))\n",
    "dr.backward(loss)\n",
    "grad = mi.TensorXf(dr.grad(img))\n",
    "grad = dr.maximum(0., grad - dr.min(grad))\n",
    "grad = dr.minimum(1., grad / dr.max(grad))\n",
    "mi.Bitmap.convert(mi.Bitmap(grad), srgb_gamma=True)"
   ]
  },
  {
   "cell_type": "code",
   "execution_count": null,
   "id": "ca8e1a94",
   "metadata": {},
   "outputs": [],
   "source": [
    "def mse(image):\n",
    "    return dr.mean(dr.sqr(image - ref_img))\n",
    "\n",
    "epochs = 50\n",
    "errors = []\n",
    "\n",
    "for i in range(epochs):\n",
    "    img = mi.render(scene, params, spp=64)\n",
    "    loss = mse(img)\n",
    "    dr.backward(loss)\n",
    "    # print(dr.grad(opt[key]))\n",
    "    opt.step()\n",
    "    opt[key] = dr.clamp(opt[key], 0.0, 1.0)\n",
    "    params.update(opt)\n",
    "\n",
    "    err_ref = dr.sum(dr.sqr(ref_col - params[key]))\n",
    "    print(f\"Iteration {i+1:02d}: parameter error = {err_ref[0]:6f}\", end='\\r')\n",
    "    errors.append(err_ref)\n",
    "\n",
    "print('\\nOptimization complete.')\n",
    "\n",
    "plt.figure(figsize=(6, 4))\n",
    "plt.plot(errors)\n",
    "plt.show()\n",
    "\n",
    "img = mi.render(scene)\n",
    "mi.Bitmap(img)"
   ]
  },
  {
   "cell_type": "code",
   "execution_count": null,
   "id": "a06a7e2d",
   "metadata": {},
   "outputs": [],
   "source": []
  }
 ],
 "metadata": {
  "kernelspec": {
   "display_name": "Python 3 (ipykernel)",
   "language": "python",
   "name": "python3"
  }
 },
 "nbformat": 4,
 "nbformat_minor": 5
}
