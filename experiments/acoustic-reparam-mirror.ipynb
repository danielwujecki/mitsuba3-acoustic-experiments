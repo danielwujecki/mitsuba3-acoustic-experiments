{
 "cells": [
  {
   "cell_type": "markdown",
   "metadata": {},
   "source": [
    "## Acoustic Mirror Orientation\n",
    "\n",
    "http://localhost:8888/?token=sloth"
   ]
  },
  {
   "cell_type": "code",
   "execution_count": null,
   "id": "4875cd12",
   "metadata": {},
   "outputs": [],
   "source": [
    "from tqdm import trange\n",
    "\n",
    "# import torch\n",
    "import numpy as np\n",
    "import matplotlib.pyplot as plt\n",
    "\n",
    "import drjit as dr\n",
    "import mitsuba as mi\n",
    "\n",
    "from libs import utils\n",
    "\n",
    "plt.style.use('ggplot')\n",
    "\n",
    "mi.set_variant('cuda_ad_acoustic')\n",
    "mi.set_log_level(mi.LogLevel.Warn)\n",
    "\n",
    "sess_seed   = 0 #np.random.randint(0, 2**30)\n",
    "sess_seed_g = 1 #np.random.randint(0, 2**30)\n",
    "print(f\"session seeds are: sess_seed={sess_seed}; sess_seed_g={sess_seed_g}\")"
   ]
  },
  {
   "cell_type": "markdown",
   "metadata": {},
   "source": [
    "### Scene Construction"
   ]
  },
  {
   "cell_type": "code",
   "execution_count": null,
   "id": "06fdf8a8",
   "metadata": {},
   "outputs": [],
   "source": [
    "bin_t = 5\n",
    "max_t = 0.3\n",
    "\n",
    "tf          = mi.ScalarTransform4f\n",
    "mic_pos     = np.array([ 0.,  0.,  5.])\n",
    "speaker_pos = np.array([20.,  0.,  5 ])\n",
    "sail_pose   = np.array([10., 20.,  5.])\n",
    "sail_size   = np.array([10.,  2.,  8.]) / 2.\n",
    "\n",
    "sail_vertex_base = mi.Transform4f.scale(sail_size).rotate([1., 0., 0.], angle=90.) @ mi.Point3f(\n",
    "    [-1., -1.,  1.,  1.],\n",
    "    [-1.,  1., -1.,  1.],\n",
    "    [ 0.,  0.,  0.,  0.]\n",
    ")\n",
    "\n",
    "scene_dict = {\n",
    "    \"type\": \"scene\",\n",
    "    \"integrator\": {\n",
    "        \"type\": \"prb_reparam_acoustic\",\n",
    "        \"max_depth\": 2,\n",
    "        \"max_time\":  max_t,\n",
    "        \"skip_direct\": True,\n",
    "    },\n",
    "\n",
    "    \"sensor\": {\n",
    "        \"type\": \"microphone\",\n",
    "        \"cos_cutoff\": 0.8,\n",
    "        \"to_world\": tf.look_at(\n",
    "            origin=mic_pos,\n",
    "            target=sail_pose,\n",
    "            up=[0, 1, 0]\n",
    "        ),\n",
    "        \"film\": {\n",
    "            \"type\": \"tape\",\n",
    "            \"wav_bins\":  1,\n",
    "            \"time_bins\": bin_t,\n",
    "            \"filter\": { \"type\": \"box\", },\n",
    "            \"count\": True\n",
    "        },\n",
    "        \"sampler\": { \"type\": \"stratified\", \"sample_count\": 2**20, },\n",
    "    },\n",
    "\n",
    "    \"speaker\": {\n",
    "        \"type\": \"ply\",\n",
    "        \"filename\": \"/home/daniel/Studium/masterarbeit/data/scenes/meshes/sphere.ply\",\n",
    "        \"to_world\": tf.translate(speaker_pos).scale(2.0),\n",
    "        \"emitter\": { \"type\": \"area\", \"radiance\": { \"type\": \"uniform\", \"value\": 1e0 } },\n",
    "    },\n",
    "\n",
    "    \"sail\": {\n",
    "        \"type\": \"ply\",\n",
    "        \"filename\": \"/home/daniel/Studium/masterarbeit/data/scenes/meshes/rectangle.ply\",\n",
    "        \"bsdf\": {\n",
    "            # \"type\": \"roughconductor\",\n",
    "            # \"alpha\": 0.05,\n",
    "\n",
    "            \"type\": \"acousticbsdf\",\n",
    "            \"scattering\": { \"type\": \"spectrum\", \"value\": 0.00 },\n",
    "            \"absorption\": { \"type\": \"spectrum\", \"value\": 0.30 },\n",
    "\n",
    "            # 'type': 'blendbsdf',\n",
    "            # 'weight': 0.1,\n",
    "            # 'bsdf_0': { 'type': 'conductor' },\n",
    "            # 'bsdf_1': { 'type': 'diffuse' },\n",
    "        },\n",
    "    },\n",
    "}"
   ]
  },
  {
   "cell_type": "markdown",
   "metadata": {},
   "source": [
    "### Optimization Setup"
   ]
  },
  {
   "cell_type": "code",
   "execution_count": null,
   "id": "8aeeb515",
   "metadata": {},
   "outputs": [],
   "source": [
    "key = \"sail.vertex_positions\"\n",
    "\n",
    "opt = mi.ad.Adam(lr=0.005)\n",
    "opt['a'] = mi.Float(0.0)\n",
    "\n",
    "def apply_transform(params, opt):\n",
    "    opt['a'] = dr.clamp(opt['a'], -2., 2.)\n",
    "    transf = mi.Transform4f.translate(sail_pose).rotate(\n",
    "        axis=[0., 0., 1.],\n",
    "        angle=(opt['a'] * 30.)\n",
    "    )\n",
    "    params[key] = dr.ravel(transf @ sail_vertex_base)\n",
    "    params.update()"
   ]
  },
  {
   "cell_type": "markdown",
   "metadata": {},
   "source": [
    "### Load and Render Scene"
   ]
  },
  {
   "cell_type": "code",
   "execution_count": null,
   "metadata": {},
   "outputs": [],
   "source": [
    "scene  = mi.load_dict(scene_dict)\n",
    "params = mi.traverse(scene)\n",
    "opt['a'] = mi.Float(0.32)\n",
    "apply_transform(params, opt)\n",
    "\n",
    "img = mi.render(scene, seed=sess_seed)\n",
    "utils.plot_hist(img[:, :, 0], max_time=max_t, time_bins=bin_t)"
   ]
  },
  {
   "cell_type": "markdown",
   "metadata": {},
   "source": [
    "### Cos-Cutoff Visualization"
   ]
  },
  {
   "cell_type": "code",
   "execution_count": null,
   "metadata": {},
   "outputs": [],
   "source": [
    "prb    = scene.integrator()\n",
    "sensor = scene.sensors()[0]\n",
    "sampler, spp   = prb.prepare(sensor, seed=0, spp=2**12)\n",
    "ray, w, p, det = prb.sample_rays(scene=scene, sensor=sensor, sampler=sampler, reparam=None)\n",
    "\n",
    "dirs = ray.d\n",
    "X = dirs.x.numpy()\n",
    "Y = dirs.y.numpy()\n",
    "Z = dirs.z.numpy()"
   ]
  },
  {
   "cell_type": "code",
   "execution_count": null,
   "metadata": {},
   "outputs": [],
   "source": [
    "fig, (ax1, ax2) = plt.subplots(1, 2, figsize=(11, 5))\n",
    "ax1.scatter(X, Y, s=1.0)\n",
    "ax1.set_xlim(-1.1, 1.1)\n",
    "ax1.set_ylim(-1.1, 1.1)\n",
    "ax1.set_xlabel(\"x\")\n",
    "ax1.set_ylabel(\"y\")\n",
    "ax2.scatter(X, Z, s=1.0)\n",
    "ax2.set_xlim(-1.1, 1.1)\n",
    "ax2.set_ylim(-1.1, 1.1)\n",
    "ax2.set_xlabel(\"x\")\n",
    "ax2.set_ylabel(\"z\")\n",
    "fig.show()"
   ]
  },
  {
   "cell_type": "markdown",
   "metadata": {},
   "source": [
    "### Loss Values"
   ]
  },
  {
   "cell_type": "code",
   "execution_count": null,
   "metadata": {},
   "outputs": [],
   "source": [
    "angles = np.linspace(-0.5, 0.5, 51, endpoint=True)\n",
    "data = np.zeros((angles.shape[0], 2))\n",
    "\n",
    "for i in trange(angles.shape[0]):\n",
    "    opt['a'] = mi.Float(angles[i])\n",
    "    apply_transform(params, opt)\n",
    "    img = mi.render(scene, params, seed=sess_seed, seed_grad=sess_seed_g+i, spp=2**22)\n",
    "\n",
    "    l   = dr.mean(img[:, :, 0] / 2**22)\n",
    "    dr.backward(l)\n",
    "\n",
    "    data[i, 0] = l[0]\n",
    "    data[i, 1] = dr.grad(opt['a'])[0]"
   ]
  },
  {
   "cell_type": "code",
   "execution_count": null,
   "metadata": {},
   "outputs": [],
   "source": [
    "i, j = np.sort(np.argsort(data[:, 0])[-2:])\n",
    "p = angles[np.argmin(data[i:j, 0])]\n",
    "# p = angles[np.argmax(data[:, 0])]\n",
    "\n",
    "fig, (ax1, ax2) = plt.subplots(1, 2, figsize=(12, 4))\n",
    "ax1.plot(angles, data[:, 0])\n",
    "ax1.vlines(p, data[:, 0].min(), data[:, 0].max(), linestyle='dotted', color=\"k\")\n",
    "ax1.set_xlabel(\"opt['a']\")\n",
    "ax1.set_ylabel(\"loss\")\n",
    "\n",
    "ax2.plot(angles, data[:, 1])\n",
    "ax2.vlines(p, data[:, 1].min(), data[:, 1].max(), linestyle='dashed', linewidth=1.0, color=\"k\")\n",
    "ax2.hlines(0, angles[0], angles[-1], linestyle='dotted', color=\"k\", linewidth=1.0)\n",
    "ax2.set_xlabel(\"opt['a']\")\n",
    "ax2.set_ylabel(\"grad\")\n",
    "plt.show()"
   ]
  },
  {
   "cell_type": "code",
   "execution_count": null,
   "metadata": {},
   "outputs": [],
   "source": [
    "assert False"
   ]
  },
  {
   "cell_type": "markdown",
   "metadata": {},
   "source": [
    "### Main Optimization Loop"
   ]
  },
  {
   "cell_type": "code",
   "execution_count": null,
   "id": "89543885",
   "metadata": {},
   "outputs": [],
   "source": [
    "opt['a'] = mi.Float(-0.3)\n",
    "angles, losses, grads = [], [], []"
   ]
  },
  {
   "cell_type": "code",
   "execution_count": null,
   "metadata": {},
   "outputs": [],
   "source": [
    "iters = 50\n",
    "\n",
    "for i in trange(iters) if iters > 1 else range(iters):\n",
    "    apply_transform(params, opt)\n",
    "    img = mi.render(scene, params, seed=sess_seed+i, seed_grad=sess_seed_g+i)\n",
    "\n",
    "    l = -1. * dr.sum(img)\n",
    "    dr.backward(l, flags=dr.ADFlag.ClearNone if iters < 2 else dr.ADFlag.Default)\n",
    "\n",
    "    if iters < 2:\n",
    "        # display(dr.unravel(mi.Point3f, dr.grad(params[key])))\n",
    "        display(dr.grad(opt['a']))\n",
    "    else:\n",
    "        grads.append(dr.grad(opt['a']))\n",
    "        opt.step()\n",
    "        angles.append(opt['a'])\n",
    "        losses.append(l)\n",
    "\n",
    "#np.save(\"/home/daniel/loss_n.npy\", angles)"
   ]
  },
  {
   "cell_type": "code",
   "execution_count": null,
   "metadata": {},
   "outputs": [],
   "source": [
    "if iters > 1:\n",
    "    fig, (ax1, ax2, ax3) = plt.subplots(1, 3, figsize=(18, 4))\n",
    "    ax1.set_title(\"grads\")\n",
    "    ax1.plot(np.array(grads)[:, 0])\n",
    "\n",
    "    ax2.set_title(\"angles\")\n",
    "    ax2.plot(np.array(angles)[:, 0])\n",
    "\n",
    "    ax3.set_title(\"losses\")\n",
    "    ax3.plot(np.array(losses)[:, 0])\n",
    "    fig.show()"
   ]
  },
  {
   "cell_type": "code",
   "execution_count": null,
   "metadata": {},
   "outputs": [],
   "source": []
  }
 ],
 "metadata": {
  "kernelspec": {
   "display_name": "Python 3 (ipykernel)",
   "language": "python",
   "name": "python3"
  },
  "language_info": {
   "codemirror_mode": {
    "name": "ipython",
    "version": 3
   },
   "file_extension": ".py",
   "mimetype": "text/x-python",
   "name": "python",
   "nbconvert_exporter": "python",
   "pygments_lexer": "ipython3",
   "version": "3.10.12"
  }
 },
 "nbformat": 4,
 "nbformat_minor": 5
}
